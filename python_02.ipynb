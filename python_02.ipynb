{
  "nbformat": 4,
  "nbformat_minor": 0,
  "metadata": {
    "colab": {
      "name": "python-02.ipynb",
      "provenance": [],
      "collapsed_sections": []
    },
    "kernelspec": {
      "name": "python3",
      "display_name": "Python 3"
    }
  },
  "cells": [
    {
      "cell_type": "markdown",
      "metadata": {
        "id": "jHia7HIABDkQ",
        "colab_type": "text"
      },
      "source": [
        "# ตัวแปรประเภท List"
      ]
    },
    {
      "cell_type": "markdown",
      "metadata": {
        "id": "SiHrE82uFwVk",
        "colab_type": "text"
      },
      "source": [
        "## กำหนดตัวแปรประเภท List"
      ]
    },
    {
      "cell_type": "code",
      "metadata": {
        "id": "Zrsm7GScFy32",
        "colab_type": "code",
        "colab": {}
      },
      "source": [
        "name = list()\n",
        "\n",
        "# or\n",
        "name = []"
      ],
      "execution_count": 0,
      "outputs": []
    },
    {
      "cell_type": "markdown",
      "metadata": {
        "id": "VEBe8ugSGl2Y",
        "colab_type": "text"
      },
      "source": [
        "## ลบตัวแปรประเภท List"
      ]
    },
    {
      "cell_type": "code",
      "metadata": {
        "id": "wnuUqpN2GqS3",
        "colab_type": "code",
        "colab": {}
      },
      "source": [
        "del name"
      ],
      "execution_count": 0,
      "outputs": []
    },
    {
      "cell_type": "code",
      "metadata": {
        "id": "XieJ2ygEGsll",
        "colab_type": "code",
        "outputId": "060386db-61ea-47a4-daac-79b7344a8d5d",
        "colab": {
          "base_uri": "https://localhost:8080/",
          "height": 167
        }
      },
      "source": [
        "# ไม่พบตัวแปร name\n",
        "name"
      ],
      "execution_count": 0,
      "outputs": [
        {
          "output_type": "error",
          "ename": "NameError",
          "evalue": "ignored",
          "traceback": [
            "\u001b[0;31m---------------------------------------------------------------------------\u001b[0m",
            "\u001b[0;31mNameError\u001b[0m                                 Traceback (most recent call last)",
            "\u001b[0;32m<ipython-input-15-9bc0cb2ed6de>\u001b[0m in \u001b[0;36m<module>\u001b[0;34m()\u001b[0m\n\u001b[0;32m----> 1\u001b[0;31m \u001b[0mname\u001b[0m\u001b[0;34m\u001b[0m\u001b[0;34m\u001b[0m\u001b[0m\n\u001b[0m",
            "\u001b[0;31mNameError\u001b[0m: name 'name' is not defined"
          ]
        }
      ]
    },
    {
      "cell_type": "markdown",
      "metadata": {
        "id": "CUACcs8uG1Nk",
        "colab_type": "text"
      },
      "source": [
        "## คัดลอกข้อมูลประเภท List"
      ]
    },
    {
      "cell_type": "code",
      "metadata": {
        "id": "xv_QsQJHG4bL",
        "colab_type": "code",
        "colab": {}
      },
      "source": [
        "name = ['olarik','kaveepoj']"
      ],
      "execution_count": 0,
      "outputs": []
    },
    {
      "cell_type": "code",
      "metadata": {
        "id": "Uxwv6a_dG9ym",
        "colab_type": "code",
        "outputId": "ee156142-1bc9-4282-fe10-05f30ab826db",
        "colab": {
          "base_uri": "https://localhost:8080/",
          "height": 34
        }
      },
      "source": [
        "import copy\n",
        "\n",
        "cp_name = copy.deepcopy(name)\n",
        "\n",
        "print(cp_name)"
      ],
      "execution_count": 0,
      "outputs": [
        {
          "output_type": "stream",
          "text": [
            "['olarik', 'kaveepoj']\n"
          ],
          "name": "stdout"
        }
      ]
    },
    {
      "cell_type": "markdown",
      "metadata": {
        "id": "Vfg9Jd-7FOmh",
        "colab_type": "text"
      },
      "source": [
        "## ตรวจสอบประเภทของตัวแปร (Variable) และจำนวนของสมาชิกใน list (Element)"
      ]
    },
    {
      "cell_type": "code",
      "metadata": {
        "id": "fCmsvERGA6pQ",
        "colab_type": "code",
        "outputId": "18a4a6f1-665a-499f-95b6-a8a232c274f7",
        "colab": {
          "base_uri": "https://localhost:8080/",
          "height": 52
        }
      },
      "source": [
        "name = ['Olarik', 'suwich', 'kaveepoj', 'suwichai']\n",
        "\n",
        "print('Type of variable: ', type(name))\n",
        "print('Number of Element in list: ', len(name))"
      ],
      "execution_count": 0,
      "outputs": [
        {
          "output_type": "stream",
          "text": [
            "Type of variable:  <class 'list'>\n",
            "Number of Element in list:  4\n"
          ],
          "name": "stdout"
        }
      ]
    },
    {
      "cell_type": "markdown",
      "metadata": {
        "id": "iTYb17krFVIB",
        "colab_type": "text"
      },
      "source": [
        "## นับจำนวนของข้อมูล (item) ที่อยู่ใน list"
      ]
    },
    {
      "cell_type": "code",
      "metadata": {
        "id": "GfbO5CR3CeWJ",
        "colab_type": "code",
        "outputId": "f68a5567-d809-44a9-cf5b-738ba2c9d98b",
        "colab": {
          "base_uri": "https://localhost:8080/",
          "height": 34
        }
      },
      "source": [
        "name = ['Olarik', 'suwich', 'kaveepoj', 'suwich']\n",
        "\n",
        "print('Occurrence of a given item:', name.count('suwich'))"
      ],
      "execution_count": 0,
      "outputs": [
        {
          "output_type": "stream",
          "text": [
            "Occurrence of a given item: 2\n"
          ],
          "name": "stdout"
        }
      ]
    },
    {
      "cell_type": "markdown",
      "metadata": {
        "id": "OyUj0ISCGA86",
        "colab_type": "text"
      },
      "source": [
        "## ตรวจสอบข้อมูลที่อยู่ใน List"
      ]
    },
    {
      "cell_type": "code",
      "metadata": {
        "id": "4REBxGz2Ep3-",
        "colab_type": "code",
        "outputId": "2f87f9a2-e534-4b8d-f0ee-aa93ae3261d4",
        "colab": {
          "base_uri": "https://localhost:8080/",
          "height": 34
        }
      },
      "source": [
        "# case sensitive\n",
        "'olarik' in name"
      ],
      "execution_count": 0,
      "outputs": [
        {
          "output_type": "execute_result",
          "data": {
            "text/plain": [
              "False"
            ]
          },
          "metadata": {
            "tags": []
          },
          "execution_count": 12
        }
      ]
    },
    {
      "cell_type": "code",
      "metadata": {
        "id": "DQ1I68DwFLVA",
        "colab_type": "code",
        "outputId": "acf3bb75-2a22-48f9-df42-0e200c451e79",
        "colab": {
          "base_uri": "https://localhost:8080/",
          "height": 34
        }
      },
      "source": [
        "'Olarik' in name"
      ],
      "execution_count": 0,
      "outputs": [
        {
          "output_type": "execute_result",
          "data": {
            "text/plain": [
              "True"
            ]
          },
          "metadata": {
            "tags": []
          },
          "execution_count": 13
        }
      ]
    },
    {
      "cell_type": "markdown",
      "metadata": {
        "id": "HeM-3NZlHeO4",
        "colab_type": "text"
      },
      "source": [
        "## ตรวจสอบข้อมูลที่อยู่ใน List และแสดงค่า Index ของข้อมูลที่ตรวจสอบ"
      ]
    },
    {
      "cell_type": "code",
      "metadata": {
        "id": "XXAVBcV6GKQe",
        "colab_type": "code",
        "outputId": "cbd328f0-203b-46c3-c955-6b17c1db9fe9",
        "colab": {
          "base_uri": "https://localhost:8080/",
          "height": 34
        }
      },
      "source": [
        "name = ['Olarik', 'suwich', 'kaveepoj', 'suwich']\n",
        "\n",
        "search = 'suwich'\n",
        "idx = name.index(search)\n",
        "print('The index of', search,': ', idx)"
      ],
      "execution_count": 0,
      "outputs": [
        {
          "output_type": "stream",
          "text": [
            "The index of suwich :  1\n"
          ],
          "name": "stdout"
        }
      ]
    },
    {
      "cell_type": "code",
      "metadata": {
        "id": "o0Yn8zVrHm1l",
        "colab_type": "code",
        "outputId": "b9ec383c-7f21-4473-9365-9eb94881e04b",
        "colab": {
          "base_uri": "https://localhost:8080/",
          "height": 34
        }
      },
      "source": [
        "search = 'kaveepoj'\n",
        "idx = name.index(search)\n",
        "print('The index of', search,': ', idx)"
      ],
      "execution_count": 0,
      "outputs": [
        {
          "output_type": "stream",
          "text": [
            "The index of kaveepoj :  2\n"
          ],
          "name": "stdout"
        }
      ]
    },
    {
      "cell_type": "markdown",
      "metadata": {
        "id": "5iAZvbnXIG3K",
        "colab_type": "text"
      },
      "source": [
        "## เข้าถึงข้อมูลที่อยู่ใน List โดยการใช้ Index\n",
        "\n",
        "![alt text](https://cdn.programiz.com/sites/tutorial2program/files/python-list-index.png)\n",
        "\n",
        "![alt text](https://yourpcfriend.com/wp-content/uploads/2019/07/lists-indexing-and-splitting.png)"
      ]
    },
    {
      "cell_type": "code",
      "metadata": {
        "id": "-ZmqWpeEIFYW",
        "colab_type": "code",
        "outputId": "28d87f3c-76b6-461c-ee48-bfd489cc094c",
        "colab": {
          "base_uri": "https://localhost:8080/",
          "height": 52
        }
      },
      "source": [
        "print('index 0:', name[0])\n",
        "print('index 1:', name[0])"
      ],
      "execution_count": 0,
      "outputs": [
        {
          "output_type": "stream",
          "text": [
            "index 0: Olarik\n",
            "index 1: Olarik\n"
          ],
          "name": "stdout"
        }
      ]
    },
    {
      "cell_type": "markdown",
      "metadata": {
        "id": "ywSp4fqMJOjH",
        "colab_type": "text"
      },
      "source": [
        "### แสดงข้อมูลลำดับแรกใน List"
      ]
    },
    {
      "cell_type": "code",
      "metadata": {
        "id": "AKfNaYfKJZZK",
        "colab_type": "code",
        "outputId": "4a6ded0b-23f0-46e9-9017-7a2276413289",
        "colab": {
          "base_uri": "https://localhost:8080/",
          "height": 34
        }
      },
      "source": [
        "name"
      ],
      "execution_count": 0,
      "outputs": [
        {
          "output_type": "execute_result",
          "data": {
            "text/plain": [
              "['Olarik', 'suwich', 'kaveepoj', 'suwich']"
            ]
          },
          "metadata": {
            "tags": []
          },
          "execution_count": 38
        }
      ]
    },
    {
      "cell_type": "code",
      "metadata": {
        "id": "_9Pk5ofsJXHE",
        "colab_type": "code",
        "outputId": "2a12dd4e-71b8-4c21-a100-192bf2392e08",
        "colab": {
          "base_uri": "https://localhost:8080/",
          "height": 34
        }
      },
      "source": [
        "# Index ของ Python เริ่มที่ 0\n",
        "name[0]"
      ],
      "execution_count": 0,
      "outputs": [
        {
          "output_type": "execute_result",
          "data": {
            "text/plain": [
              "'Olarik'"
            ]
          },
          "metadata": {
            "tags": []
          },
          "execution_count": 48
        }
      ]
    },
    {
      "cell_type": "markdown",
      "metadata": {
        "id": "YtoWuHoiJcDC",
        "colab_type": "text"
      },
      "source": [
        "### แสดงข้อมูลลำดับสุดท้ายใน List"
      ]
    },
    {
      "cell_type": "code",
      "metadata": {
        "id": "H9F_KOj-Je7t",
        "colab_type": "code",
        "outputId": "75aaf5e9-95fd-4a94-8338-cb3dff1a2bec",
        "colab": {
          "base_uri": "https://localhost:8080/",
          "height": 34
        }
      },
      "source": [
        "name[-1]"
      ],
      "execution_count": 0,
      "outputs": [
        {
          "output_type": "execute_result",
          "data": {
            "text/plain": [
              "'suwich'"
            ]
          },
          "metadata": {
            "tags": []
          },
          "execution_count": 39
        }
      ]
    },
    {
      "cell_type": "markdown",
      "metadata": {
        "id": "eSH8FKvNJtLS",
        "colab_type": "text"
      },
      "source": [
        "### แสดงข้อมูลบางส่วน (Slice)"
      ]
    },
    {
      "cell_type": "code",
      "metadata": {
        "id": "H5jZbRTMJwBp",
        "colab_type": "code",
        "outputId": "44dd7e1e-ff9f-4560-e72e-9f1c1f7cec2b",
        "colab": {
          "base_uri": "https://localhost:8080/",
          "height": 34
        }
      },
      "source": [
        "# แสดงข้อมูลตั้งแต่ลำดับแรกจำนวน 3 ชุด\n",
        "name[:3]"
      ],
      "execution_count": 0,
      "outputs": [
        {
          "output_type": "execute_result",
          "data": {
            "text/plain": [
              "['Olarik', 'suwich', 'kaveepoj']"
            ]
          },
          "metadata": {
            "tags": []
          },
          "execution_count": 43
        }
      ]
    },
    {
      "cell_type": "code",
      "metadata": {
        "id": "OuJXiAbSKA6m",
        "colab_type": "code",
        "outputId": "0fb67969-4345-4586-8da6-79df932fa134",
        "colab": {
          "base_uri": "https://localhost:8080/",
          "height": 34
        }
      },
      "source": [
        "# แสดงข้อมูลตั้งแต่ลำดับที่ 2 ถึงลำดับสุดท้าย\n",
        "name[1:]"
      ],
      "execution_count": 0,
      "outputs": [
        {
          "output_type": "execute_result",
          "data": {
            "text/plain": [
              "['suwich', 'kaveepoj', 'suwich']"
            ]
          },
          "metadata": {
            "tags": []
          },
          "execution_count": 47
        }
      ]
    },
    {
      "cell_type": "code",
      "metadata": {
        "id": "kdcCNOtUK55l",
        "colab_type": "code",
        "outputId": "502fd26b-35cb-4d01-a8a9-29681834abba",
        "colab": {
          "base_uri": "https://localhost:8080/",
          "height": 34
        }
      },
      "source": [
        "# โดยทั่วไป name[2:4] หมายถึง แสดงข้อมูลจากตัวแปร List จากลำดับที่ 2 ถึงลำดับที่ 4 ซึ่งหมายถึง 2,3 และ 4\n",
        "# แต่ใน Python จะแสดงข้อมูลของตำแหน่งที่ 2 และ 3\n",
        "name[2:4]"
      ],
      "execution_count": 0,
      "outputs": [
        {
          "output_type": "execute_result",
          "data": {
            "text/plain": [
              "['kaveepoj', 'suwich']"
            ]
          },
          "metadata": {
            "tags": []
          },
          "execution_count": 50
        }
      ]
    },
    {
      "cell_type": "markdown",
      "metadata": {
        "id": "8rqHSVruIe8G",
        "colab_type": "text"
      },
      "source": [
        "## แสดงข้อมูลใน List โดยใช้ for-loop"
      ]
    },
    {
      "cell_type": "code",
      "metadata": {
        "id": "pyZMvOcTIU5x",
        "colab_type": "code",
        "outputId": "b72af67c-f4da-4dcf-e611-f2e0e6b7ad1d",
        "colab": {
          "base_uri": "https://localhost:8080/",
          "height": 86
        }
      },
      "source": [
        "for n in name:\n",
        "  print(n)"
      ],
      "execution_count": 0,
      "outputs": [
        {
          "output_type": "stream",
          "text": [
            "Olarik\n",
            "suwich\n",
            "kaveepoj\n",
            "suwich\n"
          ],
          "name": "stdout"
        }
      ]
    },
    {
      "cell_type": "code",
      "metadata": {
        "id": "dV7jCHcvIjty",
        "colab_type": "code",
        "outputId": "2a239c88-aeee-4483-a0ce-3ae3ab2877f4",
        "colab": {
          "base_uri": "https://localhost:8080/",
          "height": 86
        }
      },
      "source": [
        "for i in range(0, len(name)):\n",
        "  print(name[i])"
      ],
      "execution_count": 0,
      "outputs": [
        {
          "output_type": "stream",
          "text": [
            "Olarik\n",
            "suwich\n",
            "kaveepoj\n",
            "suwich\n"
          ],
          "name": "stdout"
        }
      ]
    },
    {
      "cell_type": "code",
      "metadata": {
        "id": "eB7SuVW5IpmF",
        "colab_type": "code",
        "outputId": "9a4dbb40-2b29-465c-e9cf-0bc263afa0b4",
        "colab": {
          "base_uri": "https://localhost:8080/",
          "height": 86
        }
      },
      "source": [
        "for idx, n in enumerate(name):\n",
        "  print('[',idx,']', n)"
      ],
      "execution_count": 0,
      "outputs": [
        {
          "output_type": "stream",
          "text": [
            "[ 0 ] Olarik\n",
            "[ 1 ] suwich\n",
            "[ 2 ] kaveepoj\n",
            "[ 3 ] suwich\n"
          ],
          "name": "stdout"
        }
      ]
    },
    {
      "cell_type": "markdown",
      "metadata": {
        "id": "-V9pcEC6Ml0f",
        "colab_type": "text"
      },
      "source": [
        "## แสดงข้อมูลใน List โดยใช้ while-loop"
      ]
    },
    {
      "cell_type": "code",
      "metadata": {
        "id": "79Y1hRCmMrHN",
        "colab_type": "code",
        "outputId": "a77dfac7-ca12-488a-b783-7ee87f33fc5a",
        "colab": {
          "base_uri": "https://localhost:8080/",
          "height": 86
        }
      },
      "source": [
        "i=0\n",
        "while(len(name)>i):\n",
        "  print(name[i])\n",
        "  i += 1"
      ],
      "execution_count": 0,
      "outputs": [
        {
          "output_type": "stream",
          "text": [
            "Olarik\n",
            "suwich\n",
            "kaveepoj\n",
            "suwich\n"
          ],
          "name": "stdout"
        }
      ]
    },
    {
      "cell_type": "code",
      "metadata": {
        "id": "7nG9UMmpNkwG",
        "colab_type": "code",
        "outputId": "e94bbe43-4825-4a2e-a909-e146742cc9f1",
        "colab": {
          "base_uri": "https://localhost:8080/",
          "height": 86
        }
      },
      "source": [
        "i=0\n",
        "while(i<len(name)):\n",
        "  print('[',i,']',name[i])\n",
        "  i += 1"
      ],
      "execution_count": 0,
      "outputs": [
        {
          "output_type": "stream",
          "text": [
            "[ 0 ] Olarik\n",
            "[ 1 ] suwich\n",
            "[ 2 ] kaveepoj\n",
            "[ 3 ] suwich\n"
          ],
          "name": "stdout"
        }
      ]
    },
    {
      "cell_type": "markdown",
      "metadata": {
        "id": "Im3uorb6MBy4",
        "colab_type": "text"
      },
      "source": [
        "## การเพิ่มข้อมูลลงไปใน List"
      ]
    },
    {
      "cell_type": "code",
      "metadata": {
        "id": "bmKMk_fuPLOg",
        "colab_type": "code",
        "colab": {}
      },
      "source": [
        "name = ['Olarik', 'suwich', 'kaveepoj', 'suwich']"
      ],
      "execution_count": 0,
      "outputs": []
    },
    {
      "cell_type": "markdown",
      "metadata": {
        "id": "bbqrYhX9P_5G",
        "colab_type": "text"
      },
      "source": [
        "### การเพิ่มข้อมูลด้วยคำสั่ง append\n",
        "สามารถเพิ่มข้อมูลได้ครั้งละ 1 ชุด"
      ]
    },
    {
      "cell_type": "code",
      "metadata": {
        "id": "-BPy-n5TIvLd",
        "colab_type": "code",
        "outputId": "d7cb8f57-bcba-40ee-f560-b8ddb1a23883",
        "colab": {
          "base_uri": "https://localhost:8080/",
          "height": 34
        }
      },
      "source": [
        "name.append('Pariwat')\n",
        "\n",
        "print(name)"
      ],
      "execution_count": 0,
      "outputs": [
        {
          "output_type": "stream",
          "text": [
            "['Olarik', 'suwich', 'kaveepoj', 'suwich', 'Pariwat']\n"
          ],
          "name": "stdout"
        }
      ]
    },
    {
      "cell_type": "markdown",
      "metadata": {
        "id": "3Po5dJQqRG7L",
        "colab_type": "text"
      },
      "source": [
        "### การเพิ่มข้อมูลด้วยคำสั่ง extend\n",
        "โดยสามารถเพิ่มข้อมูลลงไปใน list ได้มากกว่า 1 ชุดต่อครั้ง"
      ]
    },
    {
      "cell_type": "code",
      "metadata": {
        "id": "9HXII61oROeN",
        "colab_type": "code",
        "outputId": "68a03a39-bda6-4f69-bbf5-6311075840ff",
        "colab": {
          "base_uri": "https://localhost:8080/",
          "height": 34
        }
      },
      "source": [
        "name.extend(['sarayut','sangdaow'])\n",
        "\n",
        "print(name)"
      ],
      "execution_count": 0,
      "outputs": [
        {
          "output_type": "stream",
          "text": [
            "['Olarik', 'suwich', 'kaveepoj', 'suwich', 'Pariwat', 'sarayut', 'sangdaow']\n"
          ],
          "name": "stdout"
        }
      ]
    },
    {
      "cell_type": "markdown",
      "metadata": {
        "id": "0BbmUgpoQI41",
        "colab_type": "text"
      },
      "source": [
        "### การแทรกข้อมูลด้วยคำสั่ง insert"
      ]
    },
    {
      "cell_type": "code",
      "metadata": {
        "id": "4nLvJKV-PwO9",
        "colab_type": "code",
        "outputId": "a16bf106-3fbc-445a-d57e-725584bb8596",
        "colab": {
          "base_uri": "https://localhost:8080/",
          "height": 34
        }
      },
      "source": [
        "# แทรกข้อมูล 'blue' ณ ตำแหน่งก่อนสุดท้าย (index -1)\n",
        "name.insert(-1,'blue')\n",
        "\n",
        "print(name)"
      ],
      "execution_count": 0,
      "outputs": [
        {
          "output_type": "stream",
          "text": [
            "['Olarik', 'suwich', 'kaveepoj', 'suwich', 'Pariwat', 'sarayut', 'blue', 'sangdaow']\n"
          ],
          "name": "stdout"
        }
      ]
    },
    {
      "cell_type": "code",
      "metadata": {
        "id": "snaH0U9mOMEK",
        "colab_type": "code",
        "outputId": "3b34a1bd-3366-45ad-dfb6-766e6b377482",
        "colab": {
          "base_uri": "https://localhost:8080/",
          "height": 34
        }
      },
      "source": [
        "# แทรกข้อมูล 'yellow' ณ ตำแหน่งแรก (index 0)\n",
        "name.insert(0,'yellow')\n",
        "\n",
        "print(name)"
      ],
      "execution_count": 0,
      "outputs": [
        {
          "output_type": "stream",
          "text": [
            "['yellow', 'Olarik', 'suwich', 'kaveepoj', 'suwich', 'Pariwat', 'sarayut', 'blue', 'sangdaow']\n"
          ],
          "name": "stdout"
        }
      ]
    },
    {
      "cell_type": "code",
      "metadata": {
        "id": "rFrq0PQiQagN",
        "colab_type": "code",
        "outputId": "2daefed5-a6b3-4f38-815c-41188bfca018",
        "colab": {
          "base_uri": "https://localhost:8080/",
          "height": 34
        }
      },
      "source": [
        "# แทรกข้อมูล 'red' ณ ตำแหน่งที่ 1 (index 1)\n",
        "name.insert(1,'red')\n",
        "\n",
        "print(name)"
      ],
      "execution_count": 0,
      "outputs": [
        {
          "output_type": "stream",
          "text": [
            "['yellow', 'red', 'Olarik', 'suwich', 'kaveepoj', 'suwich', 'Pariwat', 'sarayut', 'blue', 'sangdaow']\n"
          ],
          "name": "stdout"
        }
      ]
    },
    {
      "cell_type": "markdown",
      "metadata": {
        "id": "uAQpbThxR_5L",
        "colab_type": "text"
      },
      "source": [
        "## การเชื่อม List เข้าด้วยกัน - Concatenate"
      ]
    },
    {
      "cell_type": "code",
      "metadata": {
        "id": "a_ZaaZbIQ42c",
        "colab_type": "code",
        "outputId": "89e6f3cf-a78d-4249-99a9-d9e787f5fa2c",
        "colab": {
          "base_uri": "https://localhost:8080/",
          "height": 34
        }
      },
      "source": [
        "color = ['yellow','blue']\n",
        "color1 = ['red','green']\n",
        "\n",
        "new_color = color+color1\n",
        "print(new_color)"
      ],
      "execution_count": 0,
      "outputs": [
        {
          "output_type": "stream",
          "text": [
            "['yellow', 'blue', 'red', 'green']\n"
          ],
          "name": "stdout"
        }
      ]
    },
    {
      "cell_type": "markdown",
      "metadata": {
        "id": "AG-4HYRES5O5",
        "colab_type": "text"
      },
      "source": [
        "### การแสดงข้อมูลใน List แบบสลับหน้าหลัง - Reverse list"
      ]
    },
    {
      "cell_type": "code",
      "metadata": {
        "id": "N92qJzRcSNVZ",
        "colab_type": "code",
        "outputId": "e86ecb25-03ae-40d8-dc40-78bb3c82ced6",
        "colab": {
          "base_uri": "https://localhost:8080/",
          "height": 34
        }
      },
      "source": [
        "new_color.reverse()\n",
        "\n",
        "print(new_color)"
      ],
      "execution_count": 0,
      "outputs": [
        {
          "output_type": "stream",
          "text": [
            "['green', 'red', 'blue', 'yellow']\n"
          ],
          "name": "stdout"
        }
      ]
    },
    {
      "cell_type": "markdown",
      "metadata": {
        "id": "Cc9UUwMdV7Af",
        "colab_type": "text"
      },
      "source": [
        "## ค้นหาข้อมูลใน List"
      ]
    },
    {
      "cell_type": "code",
      "metadata": {
        "id": "rYSy834VTDzw",
        "colab_type": "code",
        "outputId": "224ecf50-8edf-4bc2-8fa7-6e28d620838a",
        "colab": {
          "base_uri": "https://localhost:8080/",
          "height": 86
        }
      },
      "source": [
        "search = 'r'\n",
        "for c in new_color:\n",
        "  if(search in c):\n",
        "    print('Found:', search, 'in [', c, ']')\n",
        "  else:\n",
        "    print('Not Found:', search, 'in [', c, ']')"
      ],
      "execution_count": 0,
      "outputs": [
        {
          "output_type": "stream",
          "text": [
            "Found: r in [ green ]\n",
            "Found: r in [ red ]\n",
            "Not Found: r in [ blue ]\n",
            "Not Found: r in [ yellow ]\n"
          ],
          "name": "stdout"
        }
      ]
    },
    {
      "cell_type": "code",
      "metadata": {
        "id": "_csUpYJRUp1G",
        "colab_type": "code",
        "outputId": "1cf818e6-0734-471e-a969-412a491386c7",
        "colab": {
          "base_uri": "https://localhost:8080/",
          "height": 52
        }
      },
      "source": [
        "name = ['Olarik', 'suwich', 'kaveepoj', 'suwichai', 'Pariwat', 'sarayut', 'sangdaow']\n",
        "\n",
        "search = 'suw'\n",
        "for n in name:\n",
        "  if(search in n):\n",
        "    print('Found:', search, 'in [', n, ']')"
      ],
      "execution_count": 0,
      "outputs": [
        {
          "output_type": "stream",
          "text": [
            "Found: suw in [ suwich ]\n",
            "Found: suw in [ suwichai ]\n"
          ],
          "name": "stdout"
        }
      ]
    },
    {
      "cell_type": "markdown",
      "metadata": {
        "id": "z_kk0l1tGXLt",
        "colab_type": "text"
      },
      "source": [
        "## การลบข้อมูลใน List\n"
      ]
    },
    {
      "cell_type": "code",
      "metadata": {
        "id": "W_pnp34uGmeZ",
        "colab_type": "code",
        "outputId": "6647f7f0-c1af-44dc-ae09-f6407337b1ff",
        "colab": {
          "base_uri": "https://localhost:8080/",
          "height": 34
        }
      },
      "source": [
        "name = ['Olarik', 'suwich', 'kaveepoj', 'suwichai', 'Pariwat', 'sarayut', 'sangdaow']\n",
        "print(name)"
      ],
      "execution_count": 0,
      "outputs": [
        {
          "output_type": "stream",
          "text": [
            "['Olarik', 'suwich', 'kaveepoj', 'suwichai', 'Pariwat', 'sarayut', 'sangdaow']\n"
          ],
          "name": "stdout"
        }
      ]
    },
    {
      "cell_type": "markdown",
      "metadata": {
        "id": "dpCyCv2IGzUd",
        "colab_type": "text"
      },
      "source": [
        "### การเคลียร์ (Clear) ข้อมูลทั้งหมดภายใน List"
      ]
    },
    {
      "cell_type": "code",
      "metadata": {
        "id": "y1UDWMF7GlwV",
        "colab_type": "code",
        "outputId": "9ac3ed3b-4f63-4770-e706-ab04dcce3efb",
        "colab": {
          "base_uri": "https://localhost:8080/",
          "height": 34
        }
      },
      "source": [
        "name.clear()\n",
        "\n",
        "print(name)"
      ],
      "execution_count": 0,
      "outputs": [
        {
          "output_type": "stream",
          "text": [
            "[]\n"
          ],
          "name": "stdout"
        }
      ]
    },
    {
      "cell_type": "markdown",
      "metadata": {
        "id": "w7iPTtZ5HC3J",
        "colab_type": "text"
      },
      "source": [
        "### การลบข้อมูลใน List ด้วยคำสั่ง pop\n",
        "คำสั่ง pop จะลบข้อมูลตัวล่าสุด (ตัวสุดท้าย หรือ index ที่ -1) ออกจาก List"
      ]
    },
    {
      "cell_type": "code",
      "metadata": {
        "id": "JVYDrWUbHUMr",
        "colab_type": "code",
        "outputId": "4760f345-2004-4073-c508-4ecf1e76b785",
        "colab": {
          "base_uri": "https://localhost:8080/",
          "height": 34
        }
      },
      "source": [
        "name = ['Olarik', 'suwich', 'kaveepoj', 'suwichai', 'Pariwat', 'sarayut', 'sangdaow']\n",
        "\n",
        "name.pop()\n",
        "print(name)"
      ],
      "execution_count": 0,
      "outputs": [
        {
          "output_type": "stream",
          "text": [
            "['Olarik', 'suwich', 'kaveepoj', 'suwichai', 'Pariwat', 'sarayut']\n"
          ],
          "name": "stdout"
        }
      ]
    },
    {
      "cell_type": "markdown",
      "metadata": {
        "id": "gak_jgasHv4P",
        "colab_type": "text"
      },
      "source": [
        "ในคำสั่ง pop สามารถกำหนด index ที่ต้องการลบได้  \n",
        "เช่น name.pop(0) หมายถึง การลบข้อมูลใน name โดยลบข้อมูลที่อยู่ใน index ที่ 0 ซึ่งก็คือ 'Olarik'"
      ]
    },
    {
      "cell_type": "code",
      "metadata": {
        "id": "829GbsPYHphc",
        "colab_type": "code",
        "outputId": "f3f4b0c9-27a6-4291-8966-718f24967e0a",
        "colab": {
          "base_uri": "https://localhost:8080/",
          "height": 34
        }
      },
      "source": [
        "name.pop(0)\n",
        "print(name)"
      ],
      "execution_count": 0,
      "outputs": [
        {
          "output_type": "stream",
          "text": [
            "['suwich', 'kaveepoj', 'suwichai', 'Pariwat', 'sarayut']\n"
          ],
          "name": "stdout"
        }
      ]
    },
    {
      "cell_type": "markdown",
      "metadata": {
        "id": "ulLjmbMsINvu",
        "colab_type": "text"
      },
      "source": [
        "### การลบข้อมูลใน List ด้วยคำสั่ง remove\n",
        "คำสั่ง remove จะลบข้อมูลตามที่ได้กำหนด เช่น name.remove('Pariwat') หมายถึงลบข้อมูล 'Pariwat' ออกจาก name"
      ]
    },
    {
      "cell_type": "code",
      "metadata": {
        "id": "b8W022yvImiX",
        "colab_type": "code",
        "outputId": "b4dab64d-783b-498a-d9bc-6fb3c2db5288",
        "colab": {
          "base_uri": "https://localhost:8080/",
          "height": 34
        }
      },
      "source": [
        "name.remove('Pariwat')\n",
        "print(name)"
      ],
      "execution_count": 0,
      "outputs": [
        {
          "output_type": "stream",
          "text": [
            "['suwich', 'kaveepoj', 'suwichai', 'sarayut']\n"
          ],
          "name": "stdout"
        }
      ]
    },
    {
      "cell_type": "markdown",
      "metadata": {
        "id": "DlsiVOFaIwH3",
        "colab_type": "text"
      },
      "source": [
        "การใช้คำสั่ง remove เพื่อลบข้อมูลออกจาก List จะต้องกำหนดข้อมูลที่จะลบให้ตรงกับข้อมูลที่อยู่ใน List เท่านั้น เนื่องจากเป็น case-sensitive  \n",
        "\n",
        "ดังนั้น 'Suwich' จึงมีค่าไม่เท่ากับ 'suwich'"
      ]
    },
    {
      "cell_type": "code",
      "metadata": {
        "id": "wLKoQgYEIrqb",
        "colab_type": "code",
        "outputId": "1c0313fb-b0de-4526-f0af-9500c7102bfe",
        "colab": {
          "base_uri": "https://localhost:8080/",
          "height": 164
        }
      },
      "source": [
        "name.remove('Suwich')"
      ],
      "execution_count": 0,
      "outputs": [
        {
          "output_type": "error",
          "ename": "ValueError",
          "evalue": "ignored",
          "traceback": [
            "\u001b[0;31m---------------------------------------------------------------------------\u001b[0m",
            "\u001b[0;31mValueError\u001b[0m                                Traceback (most recent call last)",
            "\u001b[0;32m<ipython-input-60-6b4fcd3681ea>\u001b[0m in \u001b[0;36m<module>\u001b[0;34m()\u001b[0m\n\u001b[0;32m----> 1\u001b[0;31m \u001b[0mname\u001b[0m\u001b[0;34m.\u001b[0m\u001b[0mremove\u001b[0m\u001b[0;34m(\u001b[0m\u001b[0;34m'Suwich'\u001b[0m\u001b[0;34m)\u001b[0m\u001b[0;34m\u001b[0m\u001b[0;34m\u001b[0m\u001b[0m\n\u001b[0m",
            "\u001b[0;31mValueError\u001b[0m: list.remove(x): x not in list"
          ]
        }
      ]
    },
    {
      "cell_type": "markdown",
      "metadata": {
        "id": "i-okUoQ35JKB",
        "colab_type": "text"
      },
      "source": [
        "## จุดเด่นของ List คือสามารถเก็บข้อมูลได้หลากหลายประเภท"
      ]
    },
    {
      "cell_type": "code",
      "metadata": {
        "id": "C0BF1mnCWHcJ",
        "colab_type": "code",
        "outputId": "bc5e54c6-1b87-4643-b798-59e8f2572a0d",
        "colab": {
          "base_uri": "https://localhost:8080/",
          "height": 221
        }
      },
      "source": [
        "student = ['Wichulada', 'Information Technology', 160, 45.5]\n",
        "\n",
        "for s in student:\n",
        "  print('Data :', s)\n",
        "  print('Type :', type(s))\n",
        "  print()"
      ],
      "execution_count": 0,
      "outputs": [
        {
          "output_type": "stream",
          "text": [
            "Data : Wichulada\n",
            "Type : <class 'str'>\n",
            "\n",
            "Data : Information Technology\n",
            "Type : <class 'str'>\n",
            "\n",
            "Data : 160\n",
            "Type : <class 'int'>\n",
            "\n",
            "Data : 45.5\n",
            "Type : <class 'float'>\n",
            "\n"
          ],
          "name": "stdout"
        }
      ]
    },
    {
      "cell_type": "code",
      "metadata": {
        "id": "DtQOaRIb5wwF",
        "colab_type": "code",
        "outputId": "b66556a0-5f7e-4930-e5fe-3d7c6fab59d5",
        "colab": {
          "base_uri": "https://localhost:8080/",
          "height": 68
        }
      },
      "source": [
        "student_data = [\n",
        "                ['Wichulada', 'Information Technology', 160, 45.5],\n",
        "                ['Surakiet', 'Geo-Informatics', 175, 55],\n",
        "                ['Suwichai', 'New Media', 160, 57.2]\n",
        "]\n",
        "\n",
        "for student in student_data:\n",
        "  print(student)"
      ],
      "execution_count": 0,
      "outputs": [
        {
          "output_type": "stream",
          "text": [
            "['Wichulada', 'Information Technology', 160, 45.5]\n",
            "['Surakiet', 'Geo-Informatics', 175, 55]\n",
            "['Suwichai', 'New Media', 160, 57.2]\n"
          ],
          "name": "stdout"
        }
      ]
    },
    {
      "cell_type": "code",
      "metadata": {
        "id": "9Scr7FYy6uBz",
        "colab_type": "code",
        "outputId": "7323b3f2-4ede-4006-dede-5d1870b31fd8",
        "colab": {
          "base_uri": "https://localhost:8080/",
          "height": 323
        }
      },
      "source": [
        "detail = ['Name', 'Dep', 'Height', 'Weight']\n",
        "\n",
        "print('Student Detail')\n",
        "print('==============\\n')\n",
        "for student in student_data:\n",
        "  for i in range(0, len(student)):\n",
        "    print(detail[i],':', student[i])\n",
        "  print()"
      ],
      "execution_count": 0,
      "outputs": [
        {
          "output_type": "stream",
          "text": [
            "Student Detail\n",
            "==============\n",
            "\n",
            "Name : Wichulada\n",
            "Dep : Information Technology\n",
            "Height : 160\n",
            "Weight : 45.5\n",
            "\n",
            "Name : Surakiet\n",
            "Dep : Geo-Informatics\n",
            "Height : 175\n",
            "Weight : 55\n",
            "\n",
            "Name : Suwichai\n",
            "Dep : New Media\n",
            "Height : 160\n",
            "Weight : 57.2\n",
            "\n"
          ],
          "name": "stdout"
        }
      ]
    },
    {
      "cell_type": "markdown",
      "metadata": {
        "id": "gG8YNbZk8GLN",
        "colab_type": "text"
      },
      "source": [
        "## จัดการข้อมูลด้วย Pickle \n",
        "Pickle เป็น Module ในภาษา Python ที่ช่วยในการแปลง object ให้อยู่ในรูปแบบของ character\n",
        "\n",
        "![alt text](https://pythontic.com/python_pickle.png)\n",
        "\n",
        "![alt text](https://www.oreilly.com/library/view/head-first-python/9781449397524/httpatomoreillycomsourceoreillyimages1368716.png.jpg)"
      ]
    },
    {
      "cell_type": "markdown",
      "metadata": {
        "id": "aMwi4FyQ9eYt",
        "colab_type": "text"
      },
      "source": [
        "### ใช้ Pickle สำหรับบันทึกข้อมูล"
      ]
    },
    {
      "cell_type": "code",
      "metadata": {
        "id": "Lu-aUYms65XK",
        "colab_type": "code",
        "colab": {}
      },
      "source": [
        "import pickle\n",
        "\n",
        "# บันทึกข้อมูลชื่อ std.pkl\n",
        "filename = 'std.pkl'\n",
        "\n",
        "with open(filename, 'wb') as f:\n",
        "    pickle.dump([student_data, detail] , f)"
      ],
      "execution_count": 0,
      "outputs": []
    },
    {
      "cell_type": "markdown",
      "metadata": {
        "id": "_6FMCX56BvZX",
        "colab_type": "text"
      },
      "source": [
        "### แสดงไฟล์ .pkl ในโฟลเดอร์"
      ]
    },
    {
      "cell_type": "code",
      "metadata": {
        "id": "zs5WKHqwBze5",
        "colab_type": "code",
        "outputId": "30542ec4-f2aa-4e99-addf-a741475cfc46",
        "colab": {
          "base_uri": "https://localhost:8080/",
          "height": 63
        }
      },
      "source": [
        "!ls *.pkl"
      ],
      "execution_count": 0,
      "outputs": [
        {
          "output_type": "stream",
          "text": [
            "std.pkl\n"
          ],
          "name": "stdout"
        }
      ]
    },
    {
      "cell_type": "markdown",
      "metadata": {
        "id": "EbIE7ReL9yBV",
        "colab_type": "text"
      },
      "source": [
        "### ใช้ Pickle เพื่อโหลดข้อมูล"
      ]
    },
    {
      "cell_type": "code",
      "metadata": {
        "id": "P0pW3NSe-CaP",
        "colab_type": "code",
        "colab": {}
      },
      "source": [
        "import pickle\n",
        "\n",
        "# โหลดข้อมูลจากไฟล์ std.pkl โดยเก็บตัวแปรที่โหลดมาเก็บไว้ที่ std_info, info\n",
        "filename = 'std.pkl'\n",
        "with open(filename, 'rb') as f:\n",
        "  std_info, info = pickle.load(f)"
      ],
      "execution_count": 0,
      "outputs": []
    },
    {
      "cell_type": "markdown",
      "metadata": {
        "id": "VJLA20C8Bg10",
        "colab_type": "text"
      },
      "source": [
        "### แสดงข้อมูลที่โหลดมาจากไฟล์ std.pkl"
      ]
    },
    {
      "cell_type": "code",
      "metadata": {
        "id": "SZwr40A_BKmB",
        "colab_type": "code",
        "outputId": "637129d3-8f1e-49a4-8e3d-d73e34b0eb53",
        "colab": {
          "base_uri": "https://localhost:8080/",
          "height": 68
        }
      },
      "source": [
        "std_info"
      ],
      "execution_count": 0,
      "outputs": [
        {
          "output_type": "execute_result",
          "data": {
            "text/plain": [
              "[['Wichulada', 'Information Technology', 160, 45.5],\n",
              " ['Surakiet', 'Geo-Informatics', 175, 55],\n",
              " ['Suwichai', 'New Media', 160, 57.2]]"
            ]
          },
          "metadata": {
            "tags": []
          },
          "execution_count": 45
        }
      ]
    },
    {
      "cell_type": "code",
      "metadata": {
        "id": "H3_N-_eYBN9t",
        "colab_type": "code",
        "outputId": "24d7da4d-fcb9-45b8-d3c6-7fd0948244b5",
        "colab": {
          "base_uri": "https://localhost:8080/",
          "height": 34
        }
      },
      "source": [
        "info"
      ],
      "execution_count": 0,
      "outputs": [
        {
          "output_type": "execute_result",
          "data": {
            "text/plain": [
              "['Name', 'Dep', 'Height', 'Weight']"
            ]
          },
          "metadata": {
            "tags": []
          },
          "execution_count": 46
        }
      ]
    },
    {
      "cell_type": "markdown",
      "metadata": {
        "id": "7TB5JgmoCzcE",
        "colab_type": "text"
      },
      "source": [
        "## แสดงตัวอย่างการบันทึกข้อมูลลง List"
      ]
    },
    {
      "cell_type": "code",
      "metadata": {
        "id": "U09XJRZ6C2n-",
        "colab_type": "code",
        "colab": {}
      },
      "source": [
        "# ตัวอย่างข้อมูล\n",
        "info = ['Name', 'Dep', 'Height', 'Weight']\n",
        "std_info = [\n",
        "                ['Wichulada', 'Information Technology', 160, 45.5],\n",
        "                ['Surakiet', 'Geo-Informatics', 175, 55],\n",
        "                ['Suwichai', 'New Media', 160, 57.2]\n",
        "]"
      ],
      "execution_count": 0,
      "outputs": []
    },
    {
      "cell_type": "code",
      "metadata": {
        "id": "JLEE7GcCDMfq",
        "colab_type": "code",
        "outputId": "84ea18cc-b879-4b68-b09d-36869179ba42",
        "colab": {
          "base_uri": "https://localhost:8080/",
          "height": 140
        }
      },
      "source": [
        "print('Please fill in your information')\n",
        "print('===============================')\n",
        "std_name = input('Name: ')\n",
        "std_dep = input('Department: ')\n",
        "std_height = float(input('Height: '))\n",
        "std_weight = float(input('Weight: '))\n",
        "\n",
        "std_tmp = [std_name, std_dep, std_height, std_weight]\n",
        "std_info.append(std_tmp)"
      ],
      "execution_count": 0,
      "outputs": [
        {
          "output_type": "stream",
          "text": [
            "Please fill in your information\n",
            "===============================\n",
            "Name: Olarik\n",
            "Department: Information Technology\n",
            "Height: 165\n",
            "Weight: 75\n"
          ],
          "name": "stdout"
        }
      ]
    },
    {
      "cell_type": "code",
      "metadata": {
        "id": "oC4AmudpD9Xp",
        "colab_type": "code",
        "outputId": "10b1af11-6e0e-4995-c685-70e9983fb94c",
        "colab": {
          "base_uri": "https://localhost:8080/",
          "height": 408
        }
      },
      "source": [
        "print('Student Detail')\n",
        "print('==============\\n')\n",
        "for student in std_info:\n",
        "  for i in range(0, len(student)):\n",
        "    print(info[i],':', student[i])\n",
        "  print()"
      ],
      "execution_count": 0,
      "outputs": [
        {
          "output_type": "stream",
          "text": [
            "Student Detail\n",
            "==============\n",
            "\n",
            "Name : Wichulada\n",
            "Dep : Information Technology\n",
            "Height : 160\n",
            "Weight : 45.5\n",
            "\n",
            "Name : Surakiet\n",
            "Dep : Geo-Informatics\n",
            "Height : 175\n",
            "Weight : 55\n",
            "\n",
            "Name : Suwichai\n",
            "Dep : New Media\n",
            "Height : 160\n",
            "Weight : 57.2\n",
            "\n",
            "Name : Olarik\n",
            "Dep : Information Technology\n",
            "Height : 165.0\n",
            "Weight : 75.0\n",
            "\n"
          ],
          "name": "stdout"
        }
      ]
    }
  ]
}