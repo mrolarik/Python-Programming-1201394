{
  "nbformat": 4,
  "nbformat_minor": 0,
  "metadata": {
    "colab": {
      "name": "python-01.ipynb",
      "provenance": [],
      "collapsed_sections": []
    },
    "kernelspec": {
      "name": "python3",
      "display_name": "Python 3"
    }
  },
  "cells": [
    {
      "cell_type": "markdown",
      "metadata": {
        "id": "eE3AVE_wJaNV",
        "colab_type": "text"
      },
      "source": [
        "## Area of Rectangle\n",
        "![alt text](https://encrypted-tbn0.gstatic.com/images?q=tbn%3AANd9GcTrV2CluNgfdVvioARFzEZbFaTKhbiUQUbmdu6XV4G4c9TJD8iP)"
      ]
    },
    {
      "cell_type": "code",
      "metadata": {
        "id": "Tz2TNX1wJNMk",
        "colab_type": "code",
        "outputId": "c5424a7b-c623-4c30-db16-722cfc8c499c",
        "colab": {
          "base_uri": "https://localhost:8080/",
          "height": 68
        }
      },
      "source": [
        "length = int(input('Enter Length of rectangle (cm.) '))\n",
        "width = int(input('Enter Width of rectangle (cm.) '))\n",
        "\n",
        "area = length*width\n",
        "\n",
        "print('Area of rectangle (',length,'*',width,') = ', area, 'cm2')"
      ],
      "execution_count": 0,
      "outputs": [
        {
          "output_type": "stream",
          "text": [
            "Enter Length of rectangle (cm.) 5\n",
            "Enter Width of rectangle (cm.) 7\n",
            "Area of rectangle ( 5 * 7 ) =  35 cm2\n"
          ],
          "name": "stdout"
        }
      ]
    },
    {
      "cell_type": "markdown",
      "metadata": {
        "id": "Gylx40yiKBwj",
        "colab_type": "text"
      },
      "source": [
        "## Area of Circle\n",
        "![alt text](https://encrypted-tbn0.gstatic.com/images?q=tbn%3AANd9GcSr6vKT2aN8ClglPFW5vgrSZf7yNeYxISsEM3vrdAA2bkRW3ak7)"
      ]
    },
    {
      "cell_type": "code",
      "metadata": {
        "id": "vmcWpE2VJ1cw",
        "colab_type": "code",
        "outputId": "89201fe5-ba9a-49fc-abdb-1fcd597172a3",
        "colab": {
          "base_uri": "https://localhost:8080/",
          "height": 51
        }
      },
      "source": [
        "radius = float(input('Enter Radius of Circle (cm.) '))\n",
        "pi = 1.34159\n",
        "\n",
        "area = pi * (radius * radius)\n",
        "\n",
        "print('Area of circle ( r=',radius,') =',area, 'cm2')"
      ],
      "execution_count": 0,
      "outputs": [
        {
          "output_type": "stream",
          "text": [
            "Enter Radius of Circle (cm.) 8\n",
            "Area of circle ( r= 8.0 ) = 85.86176 cm2\n"
          ],
          "name": "stdout"
        }
      ]
    },
    {
      "cell_type": "code",
      "metadata": {
        "id": "iOnBlCDQMFdk",
        "colab_type": "code",
        "outputId": "b2bdc166-8acc-463d-8b03-8e7d7b4e46b9",
        "colab": {
          "base_uri": "https://localhost:8080/",
          "height": 51
        }
      },
      "source": [
        "import math\n",
        "\n",
        "radius = float(input('Enter Radius of Circle (cm.) '))\n",
        "pi = 1.34159\n",
        "\n",
        "area = pi * math.pow(radius,2)\n",
        "\n",
        "print('Area of circle ( r=',radius,') =',area, 'cm2')"
      ],
      "execution_count": 0,
      "outputs": [
        {
          "output_type": "stream",
          "text": [
            "Enter Radius of Circle (cm.) 8\n",
            "Area of circle ( r= 8.0 ) = 85.86176 cm2\n"
          ],
          "name": "stdout"
        }
      ]
    },
    {
      "cell_type": "code",
      "metadata": {
        "id": "Jv3lYYMsMOeL",
        "colab_type": "code",
        "outputId": "78773686-4235-4d7f-a2e0-9c2be6cb6d12",
        "colab": {
          "base_uri": "https://localhost:8080/",
          "height": 34
        }
      },
      "source": [
        "math.sqrt(8)"
      ],
      "execution_count": 0,
      "outputs": [
        {
          "output_type": "execute_result",
          "data": {
            "text/plain": [
              "2.8284271247461903"
            ]
          },
          "metadata": {
            "tags": []
          },
          "execution_count": 9
        }
      ]
    },
    {
      "cell_type": "markdown",
      "metadata": {
        "id": "CE42Tj74LmUc",
        "colab_type": "text"
      },
      "source": [
        "## Area of Triangle\n",
        "\n",
        "![alt text](https://encrypted-tbn0.gstatic.com/images?q=tbn%3AANd9GcQSIoYEEkpFsNDTylZH5OxMg7iLob2g3g2I__BGSX3jsUtJSgJF)"
      ]
    },
    {
      "cell_type": "code",
      "metadata": {
        "id": "3DED66XKLFKJ",
        "colab_type": "code",
        "outputId": "031e8cdb-3ac2-49da-b1a8-cbfc802838d2",
        "colab": {
          "base_uri": "https://localhost:8080/",
          "height": 68
        }
      },
      "source": [
        "height = int(input('Enter height of triangle (cm.) '))\n",
        "base = int(input('Enter base of triangle (cm.) '))\n",
        "\n",
        "area = (1/2)*base*height\n",
        "\n",
        "print('Area of triangle  = ', area, 'cm2')\n"
      ],
      "execution_count": 0,
      "outputs": [
        {
          "output_type": "stream",
          "text": [
            "Enter height of triangle (cm.) 5\n",
            "Enter base of triangle (cm.) 12\n",
            "Area of triangle  =  30.0 cm2\n"
          ],
          "name": "stdout"
        }
      ]
    },
    {
      "cell_type": "markdown",
      "metadata": {
        "id": "K9Rf6NVhQVzt",
        "colab_type": "text"
      },
      "source": [
        "# If-else"
      ]
    },
    {
      "cell_type": "markdown",
      "metadata": {
        "id": "nDZ_6rWPUgF0",
        "colab_type": "text"
      },
      "source": [
        "## Flowchart\n",
        "\n",
        "![alt text](https://javatoselenium.files.wordpress.com/2014/09/ec1ifelsesol.gif)"
      ]
    },
    {
      "cell_type": "code",
      "metadata": {
        "id": "ZojC4gcIKEG5",
        "colab_type": "code",
        "colab": {}
      },
      "source": [
        "no = int(input('Enter a number (1/2): '))\n",
        "\n",
        "# condition  >, >=, <, <=, ==, !=, and, or, not, True, False\n",
        "if(no == 1):   \n",
        "  score = int(input('Enter your score: '))\n",
        "  if(score > 100):\n",
        "    print('Error')\n",
        "  elif(score>80):\n",
        "    print('S')\n",
        "  else:\n",
        "    print('U')\n",
        "\n",
        "if(no == 2):\n",
        "  score = int(input('Enter your score: '))\n",
        "  if(score > 100):\n",
        "    print('Error')\n",
        "  elif(score>=80):\n",
        "    print('A')\n",
        "  elif(score>=70):\n",
        "    print('B')\n",
        "  else:\n",
        "    print('F')\n",
        "\n",
        "else:\n",
        "  print('Please enter only number 1 or 2')"
      ],
      "execution_count": 0,
      "outputs": []
    },
    {
      "cell_type": "markdown",
      "metadata": {
        "id": "mTMWYcrCQYMT",
        "colab_type": "text"
      },
      "source": [
        "## BMI Calculator\n",
        "\n",
        "###BMI compares your weight to your height, and is calculated by dividing your weight (in kilograms) by your height (in metres squared)\n"
      ]
    },
    {
      "cell_type": "code",
      "metadata": {
        "id": "L54sEeQ6L-BQ",
        "colab_type": "code",
        "outputId": "e8863b11-5b09-4fdf-ba04-5d9ca8213e7d",
        "colab": {
          "base_uri": "https://localhost:8080/",
          "height": 68
        }
      },
      "source": [
        "import math\n",
        "\n",
        "weight = int(input('Enter your weight (kg.) '))\n",
        "height = int(input('Enter your height (cm.) '))\n",
        "\n",
        "height = float(height/100)\n",
        "height2 = math.pow(height,2)\n",
        "\n",
        "bmi = weight / height2\n",
        "print(bmi)"
      ],
      "execution_count": 0,
      "outputs": [
        {
          "output_type": "stream",
          "text": [
            "Enter your weight (kg.) 75\n",
            "Enter your height (cm.) 165\n",
            "27.548209366391188\n"
          ],
          "name": "stdout"
        }
      ]
    },
    {
      "cell_type": "markdown",
      "metadata": {
        "id": "DtFsH_p4Rt_N",
        "colab_type": "text"
      },
      "source": [
        "## BMI Categories:  \n",
        "Underweight = <18.5  \n",
        "Normal weight = 18.5–24.9  \n",
        "Overweight = 25–29.9  \n",
        "Obesity = BMI of 30 or greater  "
      ]
    },
    {
      "cell_type": "code",
      "metadata": {
        "id": "AxcmzCAdRAFN",
        "colab_type": "code",
        "outputId": "249219d2-1052-4cc1-9e6f-c5c549e9547a",
        "colab": {
          "base_uri": "https://localhost:8080/",
          "height": 34
        }
      },
      "source": [
        "bmi = 30\n",
        "\n",
        "if(bmi > 30):\n",
        "  print('Obesity')\n",
        "elif(bmi > 25):\n",
        "  print('Overweight')\n",
        "elif(bmi > 18.5):\n",
        "  print('Normal weight')  \n",
        "else:\n",
        "  print('Underweight')"
      ],
      "execution_count": 0,
      "outputs": [
        {
          "output_type": "stream",
          "text": [
            "Overweight\n"
          ],
          "name": "stdout"
        }
      ]
    },
    {
      "cell_type": "markdown",
      "metadata": {
        "id": "eXQGN_gWKd2Y",
        "colab_type": "text"
      },
      "source": [
        "#While-Loop"
      ]
    },
    {
      "cell_type": "code",
      "metadata": {
        "id": "B2IyGVOsSSAX",
        "colab_type": "code",
        "outputId": "77cd13f3-e521-4c62-9ef9-0d9a1cc2bb7c",
        "colab": {
          "base_uri": "https://localhost:8080/",
          "height": 170
        }
      },
      "source": [
        "A = 1    \t\t\t        #<-- 1) Initial variable\n",
        "while(A<10):  \t\t#<---2) condition\n",
        "\tprint(A)\n",
        "\tA = A+1        \t\t# <-- 3) increase variable\n",
        "  #A += 1"
      ],
      "execution_count": 0,
      "outputs": [
        {
          "output_type": "stream",
          "text": [
            "1\n",
            "2\n",
            "3\n",
            "4\n",
            "5\n",
            "6\n",
            "7\n",
            "8\n",
            "9\n"
          ],
          "name": "stdout"
        }
      ]
    },
    {
      "cell_type": "markdown",
      "metadata": {
        "id": "dyXh9GquLG5f",
        "colab_type": "text"
      },
      "source": [
        "# For-Loop"
      ]
    },
    {
      "cell_type": "code",
      "metadata": {
        "id": "4oduDcTCKgwH",
        "colab_type": "code",
        "outputId": "63d680ce-79a0-4a3d-86c0-a26009fbd5e9",
        "colab": {
          "base_uri": "https://localhost:8080/",
          "height": 170
        }
      },
      "source": [
        "for A in range(1,10):\n",
        "  print(A)"
      ],
      "execution_count": 0,
      "outputs": [
        {
          "output_type": "stream",
          "text": [
            "1\n",
            "2\n",
            "3\n",
            "4\n",
            "5\n",
            "6\n",
            "7\n",
            "8\n",
            "9\n"
          ],
          "name": "stdout"
        }
      ]
    },
    {
      "cell_type": "code",
      "metadata": {
        "id": "-ACdzwJKLIw9",
        "colab_type": "code",
        "outputId": "6883f1cb-b07e-44a6-8692-70f2975921be",
        "colab": {
          "base_uri": "https://localhost:8080/",
          "height": 85
        }
      },
      "source": [
        "name = ['Olarik', 'Kaveepoj', 'Suwich', 'Suwichai']  \n",
        "\n",
        "A = 0\n",
        "while(A<len(name)):  \t\n",
        "\tprint('[',A,']', name[A])\t\n",
        "\tA = A+1\n",
        "\t"
      ],
      "execution_count": 0,
      "outputs": [
        {
          "output_type": "stream",
          "text": [
            "[ 0 ] Olarik\n",
            "[ 1 ] Kaveepoj\n",
            "[ 2 ] Suwich\n",
            "[ 3 ] Suwichai\n"
          ],
          "name": "stdout"
        }
      ]
    },
    {
      "cell_type": "code",
      "metadata": {
        "id": "hb1uzDcuNgou",
        "colab_type": "code",
        "outputId": "96ad958e-b7e5-43d3-e7ec-c0da6776613c",
        "colab": {
          "base_uri": "https://localhost:8080/",
          "height": 85
        }
      },
      "source": [
        "name = ['Olarik', 'Kaveepoj', 'Suwich', 'Suwichai']  \n",
        "surname = ['Surinta', 'Bunluewong', 'Tirakoat', 'Punsa']\n",
        "\n",
        "A = 0\n",
        "while(A<len(name)):  \t\n",
        "\tprint('[',A,']', name[A], surname[A])\t\n",
        "\tA = A+1"
      ],
      "execution_count": 0,
      "outputs": [
        {
          "output_type": "stream",
          "text": [
            "[ 0 ] Olarik Surinta\n",
            "[ 1 ] Kaveepoj Bunluewong\n",
            "[ 2 ] Suwich Tirakoat\n",
            "[ 3 ] Suwichai Punsa\n"
          ],
          "name": "stdout"
        }
      ]
    },
    {
      "cell_type": "code",
      "metadata": {
        "id": "muueWSThQapH",
        "colab_type": "code",
        "outputId": "558e3e54-08de-4a8f-8759-a247365b8ebc",
        "colab": {
          "base_uri": "https://localhost:8080/",
          "height": 136
        }
      },
      "source": [
        "name = ['Olarik', 'Kaveepoj', 'Suwich', 'Suwichai']  \n",
        "surname = ['Surinta', 'Bunluewong', 'Tirakoat', 'Punsa']\n",
        "\n",
        "print('[idx] Name')\n",
        "print('==========')\n",
        "for A in range(0, len(name)): \t\n",
        "\tprint('[',A,']', name[A], surname[A])\t\n",
        "print('==========')\t"
      ],
      "execution_count": 0,
      "outputs": [
        {
          "output_type": "stream",
          "text": [
            "[idx] Name\n",
            "==========\n",
            "[ 0 ] Olarik Surinta\n",
            "[ 1 ] Kaveepoj Bunluewong\n",
            "[ 2 ] Suwich Tirakoat\n",
            "[ 3 ] Suwichai Punsa\n",
            "==========\n"
          ],
          "name": "stdout"
        }
      ]
    },
    {
      "cell_type": "code",
      "metadata": {
        "id": "C5GcobVxRIp2",
        "colab_type": "code",
        "outputId": "ce1f9ad0-f5bf-4123-aafb-f59954fd2cc6",
        "colab": {
          "base_uri": "https://localhost:8080/",
          "height": 85
        }
      },
      "source": [
        "name = ['Olarik', 'Kaveepoj', 'Suwich', 'Suwichai']  \n",
        "\n",
        "for n in name:\n",
        "  print(n)"
      ],
      "execution_count": 0,
      "outputs": [
        {
          "output_type": "stream",
          "text": [
            "Olarik\n",
            "Kaveepoj\n",
            "Suwich\n",
            "Suwichai\n"
          ],
          "name": "stdout"
        }
      ]
    },
    {
      "cell_type": "code",
      "metadata": {
        "id": "iStnKhonRRgW",
        "colab_type": "code",
        "outputId": "279e4869-cb7e-4d67-d82f-d26fd8e9054e",
        "colab": {
          "base_uri": "https://localhost:8080/",
          "height": 85
        }
      },
      "source": [
        "name = ['Olarik', 'Kaveepoj', 'Suwich', 'Suwichai']  \n",
        "\n",
        "idx = 0\n",
        "for n in name:\n",
        "  print('[',idx,']', n)\n",
        "  idx += 1"
      ],
      "execution_count": 0,
      "outputs": [
        {
          "output_type": "stream",
          "text": [
            "[ 0 ] Olarik\n",
            "[ 1 ] Kaveepoj\n",
            "[ 2 ] Suwich\n",
            "[ 3 ] Suwichai\n"
          ],
          "name": "stdout"
        }
      ]
    },
    {
      "cell_type": "code",
      "metadata": {
        "id": "TD83I9QLRhU3",
        "colab_type": "code",
        "outputId": "92d6ed77-0d20-4887-e40c-814cb38589d1",
        "colab": {
          "base_uri": "https://localhost:8080/",
          "height": 85
        }
      },
      "source": [
        "name = ['Olarik', 'Kaveepoj', 'Suwich', 'Suwichai']  \n",
        "surname = ['Surinta', 'Bunluewong', 'Tirakoat', 'Punsa']\n",
        "\n",
        "idx = 0\n",
        "for n in name:\n",
        "  print('[',idx,']', n, surname[idx])\n",
        "  idx += 1"
      ],
      "execution_count": 0,
      "outputs": [
        {
          "output_type": "stream",
          "text": [
            "[ 0 ] Olarik Surinta\n",
            "[ 1 ] Kaveepoj Bunluewong\n",
            "[ 2 ] Suwich Tirakoat\n",
            "[ 3 ] Suwichai Punsa\n"
          ],
          "name": "stdout"
        }
      ]
    },
    {
      "cell_type": "code",
      "metadata": {
        "id": "tqLlbaf4Qggc",
        "colab_type": "code",
        "outputId": "d8084b79-4b44-45c2-bcc7-022cab58c3c4",
        "colab": {
          "base_uri": "https://localhost:8080/",
          "height": 85
        }
      },
      "source": [
        "name = ['Olarik', 'Kaveepoj', 'Suwich', 'Suwichai']  \n",
        "\n",
        "for idx, n in enumerate(name):\n",
        "  print('[',idx,']', n)"
      ],
      "execution_count": 0,
      "outputs": [
        {
          "output_type": "stream",
          "text": [
            "[ 0 ] Olarik\n",
            "[ 1 ] Kaveepoj\n",
            "[ 2 ] Suwich\n",
            "[ 3 ] Suwichai\n"
          ],
          "name": "stdout"
        }
      ]
    },
    {
      "cell_type": "code",
      "metadata": {
        "id": "NX9F6jhERBEn",
        "colab_type": "code",
        "outputId": "5e1aed02-49fd-4e33-e2b9-81749b68a32d",
        "colab": {
          "base_uri": "https://localhost:8080/",
          "height": 85
        }
      },
      "source": [
        "name = ['Olarik', 'Kaveepoj', 'Suwich', 'Suwichai']  \n",
        "surname = ['Surinta', 'Bunluewong', 'Tirakoat', 'Punsa']\n",
        "\n",
        "for idx, n in enumerate(name):\n",
        "  print('[',idx,']', n, surname[idx])"
      ],
      "execution_count": 0,
      "outputs": [
        {
          "output_type": "stream",
          "text": [
            "[ 0 ] Olarik Surinta\n",
            "[ 1 ] Kaveepoj Bunluewong\n",
            "[ 2 ] Suwich Tirakoat\n",
            "[ 3 ] Suwichai Punsa\n"
          ],
          "name": "stdout"
        }
      ]
    },
    {
      "cell_type": "code",
      "metadata": {
        "id": "oQjhWo8NR02Y",
        "colab_type": "code",
        "outputId": "114fc1ef-1225-42dc-f86d-264704183cf2",
        "colab": {
          "base_uri": "https://localhost:8080/",
          "height": 85
        }
      },
      "source": [
        "name = ['Olarik', 'Kaveepoj', 'Suwich', 'Suwichai']  \n",
        "surname = ['Surinta', 'Bunluewong', 'Tirakoat', 'Punsa']\n",
        "\n",
        "idx=0\n",
        "for n, s in zip(name, surname):\n",
        "  print('[',idx,']', n, s)\n",
        "  idx += 1"
      ],
      "execution_count": 0,
      "outputs": [
        {
          "output_type": "stream",
          "text": [
            "[ 0 ] Olarik Surinta\n",
            "[ 1 ] Kaveepoj Bunluewong\n",
            "[ 2 ] Suwich Tirakoat\n",
            "[ 3 ] Suwichai Punsa\n"
          ],
          "name": "stdout"
        }
      ]
    },
    {
      "cell_type": "code",
      "metadata": {
        "id": "Q1mJBNBWTM15",
        "colab_type": "code",
        "colab": {}
      },
      "source": [
        "import sys\n",
        "import time\n",
        "import os\n",
        "\n",
        "while(True):\n",
        "     #block of code\n",
        "     #\n",
        "     #\n",
        "\n",
        "     chk = input('Do you want to exit program y/n: ')\n",
        "     if((chk=='y') or (chk =='Y')):\n",
        "       sys.exit()\n",
        "     else:\n",
        "       time.sleep(3)\n",
        "       os.system('cls')"
      ],
      "execution_count": 0,
      "outputs": []
    }
  ]
}