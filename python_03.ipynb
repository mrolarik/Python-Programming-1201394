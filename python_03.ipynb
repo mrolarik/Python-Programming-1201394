{
  "nbformat": 4,
  "nbformat_minor": 0,
  "metadata": {
    "colab": {
      "name": "python-03.ipynb",
      "provenance": [],
      "toc_visible": true
    },
    "kernelspec": {
      "name": "python3",
      "display_name": "Python 3"
    }
  },
  "cells": [
    {
      "cell_type": "markdown",
      "metadata": {
        "id": "G7BB-UwMRg8b",
        "colab_type": "text"
      },
      "source": [
        "# การสร้างฟังก์ชัน - Function"
      ]
    },
    {
      "cell_type": "markdown",
      "metadata": {
        "id": "5IPqmj1wR2UO",
        "colab_type": "text"
      },
      "source": [
        "## ฟังก์ชัน"
      ]
    },
    {
      "cell_type": "code",
      "metadata": {
        "id": "He17tOKaRsIN",
        "colab_type": "code",
        "colab": {}
      },
      "source": [
        "def show_data():\n",
        "  print('Hello World')\n",
        "\n",
        "\n",
        "# ฟังก์ชันที่มีการส่งผ่านค่าพารามิเตอร์ (parameter)\n",
        "def show_name(name):\n",
        "  print('Your name is ', name)\n",
        "\n",
        "\n",
        "# ฟังก์ชันที่มีการคืนค่า (return)\n",
        "def add_num(a,b):\n",
        "  return a+b\n",
        "\n",
        "\n",
        "# ฟังก์ชันที่มีการกำหนดค่าเริ่มต้น (Default) ให้กับพารามิเตอร์\n",
        "def mul_num(a=5, b=7):\n",
        "  return a*b"
      ],
      "execution_count": 0,
      "outputs": []
    },
    {
      "cell_type": "markdown",
      "metadata": {
        "id": "0WRAsVLyR5UD",
        "colab_type": "text"
      },
      "source": [
        "## การเรียกใช้ฟังก์ชัน (Calling Function)"
      ]
    },
    {
      "cell_type": "code",
      "metadata": {
        "id": "c-UvLkSAR0en",
        "colab_type": "code",
        "outputId": "b48d3483-0cd0-4068-cad3-67c3f3ffe183",
        "colab": {
          "base_uri": "https://localhost:8080/",
          "height": 136
        }
      },
      "source": [
        "# เรียกใช้ฟังก์ชัน show_data()\n",
        "show_data()\n",
        "\n",
        "# เรียกใช้ฟังก์ชัน show_name()\n",
        "show_name('Olarik')\n",
        "\n",
        "# เรียกใช้ฟังก์ชัน add_number()\n",
        "c = add_num(10, 20)\n",
        "print(c)\n",
        "\n",
        "# เรียกใช้ฟังก์ชัน mul_num()\n",
        "c = mul_num(4, 3)\n",
        "print(c)\n",
        "\n",
        "# ส่งค่าเฉพาะตัวแปร b\n",
        "c = mul_num(b=3)\n",
        "print(c)\n",
        "\n",
        "# ส่งค่าเฉพาะตัวแปร a\n",
        "c = mul_num(a=2)\n",
        "print(c)\n",
        "\n",
        "# ไม่ส่งตัวแปรเข้าไปในฟังก์ชัน\n",
        "c = mul_num()\n",
        "print(c)"
      ],
      "execution_count": 0,
      "outputs": [
        {
          "output_type": "stream",
          "text": [
            "Hello World\n",
            "Your name is  Olarik\n",
            "30\n",
            "12\n",
            "15\n",
            "14\n",
            "35\n"
          ],
          "name": "stdout"
        }
      ]
    },
    {
      "cell_type": "markdown",
      "metadata": {
        "id": "6IcTbMd-F8IB",
        "colab_type": "text"
      },
      "source": [
        "# สร้างเมนู (Menu)"
      ]
    },
    {
      "cell_type": "code",
      "metadata": {
        "id": "Ap7krv_XFtqt",
        "colab_type": "code",
        "outputId": "55c4d7c9-041a-460d-e0a6-3f1cb3811d41",
        "colab": {
          "base_uri": "https://localhost:8080/",
          "height": 136
        }
      },
      "source": [
        "print('====Student Information====')\n",
        "print('[1] Show data')\n",
        "print('[2] Insert data')\n",
        "print('[3] Search data')\n",
        "print('[4] Delete data')\n",
        "print('[5] Exit program')\n",
        "print('===========================')"
      ],
      "execution_count": 0,
      "outputs": [
        {
          "output_type": "stream",
          "text": [
            "====Student Information====\n",
            "[1] Show data\n",
            "[2] Insert data\n",
            "[3] Search data\n",
            "[4] Delete data\n",
            "[5] Exit program\n",
            "===========================\n"
          ],
          "name": "stdout"
        }
      ]
    },
    {
      "cell_type": "markdown",
      "metadata": {
        "id": "v82ou2JLLHms",
        "colab_type": "text"
      },
      "source": [
        "# ใช้ While-loop เพื่อแสดงเมนูจนกระทั่งกด 'y' หรือ 'Y'"
      ]
    },
    {
      "cell_type": "code",
      "metadata": {
        "id": "gts67wnyKoZa",
        "colab_type": "code",
        "outputId": "59d77de7-6bd5-474d-c4a9-1f1081b4f4d4",
        "colab": {
          "base_uri": "https://localhost:8080/",
          "height": 221
        }
      },
      "source": [
        "import sys\n",
        "import time\n",
        "import os\n",
        "\n",
        "while(True):\n",
        "  # block of code\n",
        "\n",
        "  chk = input('Do you want to exit program y/n: ')\n",
        "  if((chk=='y') or (chk =='Y')):\n",
        "    sys.exit()"
      ],
      "execution_count": 0,
      "outputs": [
        {
          "output_type": "stream",
          "text": [
            "Do you want to exit program y/n: n\n",
            "Do you want to exit program y/n: y\n"
          ],
          "name": "stdout"
        },
        {
          "output_type": "error",
          "ename": "SystemExit",
          "evalue": "ignored",
          "traceback": [
            "An exception has occurred, use %tb to see the full traceback.\n",
            "\u001b[0;31mSystemExit\u001b[0m\n"
          ]
        },
        {
          "output_type": "stream",
          "text": [
            "/usr/local/lib/python3.6/dist-packages/IPython/core/interactiveshell.py:2890: UserWarning: To exit: use 'exit', 'quit', or Ctrl-D.\n",
            "  warn(\"To exit: use 'exit', 'quit', or Ctrl-D.\", stacklevel=1)\n"
          ],
          "name": "stderr"
        }
      ]
    },
    {
      "cell_type": "markdown",
      "metadata": {
        "id": "U5t_tzjTL7n3",
        "colab_type": "text"
      },
      "source": [
        "## นำ Menu ไปใช้งานร่วมกับ while-loop"
      ]
    },
    {
      "cell_type": "code",
      "metadata": {
        "id": "iQha6Cs9Lr5-",
        "colab_type": "code",
        "outputId": "e482cb5d-85f8-4a27-9299-c5fa29f526ec",
        "colab": {
          "base_uri": "https://localhost:8080/",
          "height": 595
        }
      },
      "source": [
        "import sys\n",
        "import time\n",
        "import os\n",
        "\n",
        "while(True):\n",
        "  # block of code\n",
        "  print('====Student Information====')\n",
        "  print('[1] Show data')\n",
        "  print('[2] Insert data')\n",
        "  print('[3] Search data')\n",
        "  print('[4] Delete data')\n",
        "  print('[5] Exit program')\n",
        "  print('===========================')\n",
        "\n",
        "  chk = input('Do you want to exit program y/n: ')\n",
        "  if((chk=='y') or (chk =='Y')):\n",
        "    sys.exit()"
      ],
      "execution_count": 0,
      "outputs": [
        {
          "output_type": "stream",
          "text": [
            "====Student Information====\n",
            "[1] Show data\n",
            "[2] Insert data\n",
            "[3] Search data\n",
            "[4] Delete data\n",
            "[5] Exit program\n",
            "===========================\n",
            "Do you want to exit program y/n: n\n",
            "====Student Information====\n",
            "[1] Show data\n",
            "[2] Insert data\n",
            "[3] Search data\n",
            "[4] Delete data\n",
            "[5] Exit program\n",
            "===========================\n",
            "Do you want to exit program y/n: n\n",
            "====Student Information====\n",
            "[1] Show data\n",
            "[2] Insert data\n",
            "[3] Search data\n",
            "[4] Delete data\n",
            "[5] Exit program\n",
            "===========================\n",
            "Do you want to exit program y/n: y\n"
          ],
          "name": "stdout"
        },
        {
          "output_type": "error",
          "ename": "SystemExit",
          "evalue": "ignored",
          "traceback": [
            "An exception has occurred, use %tb to see the full traceback.\n",
            "\u001b[0;31mSystemExit\u001b[0m\n"
          ]
        },
        {
          "output_type": "stream",
          "text": [
            "/usr/local/lib/python3.6/dist-packages/IPython/core/interactiveshell.py:2890: UserWarning: To exit: use 'exit', 'quit', or Ctrl-D.\n",
            "  warn(\"To exit: use 'exit', 'quit', or Ctrl-D.\", stacklevel=1)\n"
          ],
          "name": "stderr"
        }
      ]
    },
    {
      "cell_type": "markdown",
      "metadata": {
        "id": "06sOCVQAMU1j",
        "colab_type": "text"
      },
      "source": [
        "# สร้าง if-else เพื่อใช้เลือกเมนู"
      ]
    },
    {
      "cell_type": "code",
      "metadata": {
        "id": "Ksp31QedMAri",
        "colab_type": "code",
        "outputId": "7cfdfa20-e212-4c30-9b0b-3f62c28e06d0",
        "colab": {
          "base_uri": "https://localhost:8080/",
          "height": 55
        }
      },
      "source": [
        "choice = int(input('Please choose number 1-5: '))\n",
        "\n",
        "if(choice == 1):\n",
        "  print('Show data')\n",
        "elif(choice == 2):\n",
        "  print('Insert data')  \n",
        "elif(choice == 3):\n",
        "  print('Search data')\n",
        "elif(choice == 4):\n",
        "  print('Delete data')\n",
        "elif(choice == 5):\n",
        "  print('Exit program')\n",
        "else:\n",
        "  print('Please choose only number 1-5:')"
      ],
      "execution_count": 0,
      "outputs": [
        {
          "output_type": "stream",
          "text": [
            "Please choose number 1-5: 1\n",
            "Show data\n"
          ],
          "name": "stdout"
        }
      ]
    },
    {
      "cell_type": "markdown",
      "metadata": {
        "id": "oNjO0DQkNGUC",
        "colab_type": "text"
      },
      "source": [
        "## นำ if-else ไปใช้งานร่วมกับ while-loop"
      ]
    },
    {
      "cell_type": "code",
      "metadata": {
        "id": "QVMnf_qUNA6X",
        "colab_type": "code",
        "outputId": "b26bd97f-0580-4924-d5f2-72b63d76e116",
        "colab": {
          "base_uri": "https://localhost:8080/",
          "height": 677
        }
      },
      "source": [
        "import sys\n",
        "import time\n",
        "import os\n",
        "\n",
        "while(True):\n",
        "  print('====Student Information====')\n",
        "  print('[1] Show data')\n",
        "  print('[2] Insert data')\n",
        "  print('[3] Search data')\n",
        "  print('[4] Delete data')\n",
        "  print('[5] Exit program')\n",
        "  print('===========================')\n",
        "\n",
        "  choice = int(input('Please choose number 1-5: '))\n",
        "  if(choice == 1):\n",
        "    print('Show data')\n",
        "  elif(choice == 2):\n",
        "    print('Insert data')  \n",
        "  elif(choice == 3):\n",
        "    print('Search data')\n",
        "  elif(choice == 4):\n",
        "    print('Delete data')\n",
        "  elif(choice == 5):\n",
        "    print('Exit program')\n",
        "  else:\n",
        "    print('Please choose only number 1-5:')\n",
        "\n",
        "  chk = input('Do you want to exit program y/n: ')\n",
        "  if((chk=='y') or (chk =='Y')):\n",
        "    sys.exit()"
      ],
      "execution_count": 0,
      "outputs": [
        {
          "output_type": "stream",
          "text": [
            "====Student Information====\n",
            "[1] Show data\n",
            "[2] Insert data\n",
            "[3] Search data\n",
            "[4] Delete data\n",
            "[5] Exit program\n",
            "===========================\n",
            "Please choose number 1-5: 1\n",
            "Show data\n",
            "Do you want to exit program y/n: n\n",
            "====Student Information====\n",
            "[1] Show data\n",
            "[2] Insert data\n",
            "[3] Search data\n",
            "[4] Delete data\n",
            "[5] Exit program\n",
            "===========================\n",
            "Please choose number 1-5: 2\n",
            "Insert data\n",
            "Do you want to exit program y/n: n\n",
            "====Student Information====\n",
            "[1] Show data\n",
            "[2] Insert data\n",
            "[3] Search data\n",
            "[4] Delete data\n",
            "[5] Exit program\n",
            "===========================\n",
            "Please choose number 1-5: 3\n",
            "Search data\n",
            "Do you want to exit program y/n: y\n"
          ],
          "name": "stdout"
        },
        {
          "output_type": "error",
          "ename": "SystemExit",
          "evalue": "ignored",
          "traceback": [
            "An exception has occurred, use %tb to see the full traceback.\n",
            "\u001b[0;31mSystemExit\u001b[0m\n"
          ]
        },
        {
          "output_type": "stream",
          "text": [
            "/usr/local/lib/python3.6/dist-packages/IPython/core/interactiveshell.py:2890: UserWarning: To exit: use 'exit', 'quit', or Ctrl-D.\n",
            "  warn(\"To exit: use 'exit', 'quit', or Ctrl-D.\", stacklevel=1)\n"
          ],
          "name": "stderr"
        }
      ]
    },
    {
      "cell_type": "markdown",
      "metadata": {
        "id": "CIt1mxI0N4k-",
        "colab_type": "text"
      },
      "source": [
        "# แสดงข้อมูลจากตัวแปร List"
      ]
    },
    {
      "cell_type": "code",
      "metadata": {
        "id": "Y-0tYXwEORaE",
        "colab_type": "code",
        "colab": {}
      },
      "source": [
        "info = ['Name', 'Dep', 'Height', 'Weight']\n",
        "std_info = [\n",
        "                ['Wichulada', 'Information Technology', 160, 45.5],\n",
        "                ['Surakiet', 'Geo-Informatics', 175, 55],\n",
        "                ['Suwichai', 'New Media', 160, 57.2]\n",
        "]"
      ],
      "execution_count": 0,
      "outputs": []
    },
    {
      "cell_type": "code",
      "metadata": {
        "id": "q3np9XcVNvmO",
        "colab_type": "code",
        "outputId": "48dabef4-e9fd-4c5f-b1e0-42720c993afe",
        "colab": {
          "base_uri": "https://localhost:8080/",
          "height": 323
        }
      },
      "source": [
        "print('Student Detail')\n",
        "print('==============\\n')\n",
        "for student in std_info:\n",
        "  for i in range(0, len(student)):\n",
        "    print(info[i],':', student[i])\n",
        "  print()"
      ],
      "execution_count": 0,
      "outputs": [
        {
          "output_type": "stream",
          "text": [
            "Student Detail\n",
            "==============\n",
            "\n",
            "Name : Wichulada\n",
            "Dep : Information Technology\n",
            "Height : 160\n",
            "Weight : 45.5\n",
            "\n",
            "Name : Surakiet\n",
            "Dep : Geo-Informatics\n",
            "Height : 175\n",
            "Weight : 55\n",
            "\n",
            "Name : Suwichai\n",
            "Dep : New Media\n",
            "Height : 160\n",
            "Weight : 57.2\n",
            "\n"
          ],
          "name": "stdout"
        }
      ]
    },
    {
      "cell_type": "markdown",
      "metadata": {
        "id": "uq1pjKx8OUyZ",
        "colab_type": "text"
      },
      "source": [
        "## นำโค้ดในส่วนแสดงข้อมูลไปใช้งาน"
      ]
    },
    {
      "cell_type": "code",
      "metadata": {
        "id": "n4h1X-dTOGxX",
        "colab_type": "code",
        "outputId": "c1fc7350-c1d4-42c8-8d6c-c4eaadde379c",
        "colab": {
          "base_uri": "https://localhost:8080/",
          "height": 643
        }
      },
      "source": [
        "import sys\n",
        "import time\n",
        "import os\n",
        "\n",
        "while(True):\n",
        "  print('====Student Information====')\n",
        "  print('[1] Show data')\n",
        "  print('[2] Insert data')\n",
        "  print('[3] Search data')\n",
        "  print('[4] Delete data')\n",
        "  print('[5] Exit program')\n",
        "  print('===========================')\n",
        "\n",
        "  choice = int(input('Please choose number 1-5: '))\n",
        "  if(choice == 1):\n",
        "    print()\n",
        "    print('Student Detail')\n",
        "    print('==============\\n')\n",
        "    for student in std_info:\n",
        "      for i in range(0, len(student)):\n",
        "        print(info[i],':', student[i])\n",
        "      print()\n",
        "\n",
        "  elif(choice == 2):\n",
        "    print('Insert data')  \n",
        "  elif(choice == 3):\n",
        "    print('Search data')\n",
        "  elif(choice == 4):\n",
        "    print('Delete data')\n",
        "  elif(choice == 5):\n",
        "    print('Exit program')\n",
        "  else:\n",
        "    print('Please choose only number 1-5:')\n",
        "\n",
        "  chk = input('Do you want to exit program y/n: ')\n",
        "  if((chk=='y') or (chk =='Y')):\n",
        "    sys.exit()"
      ],
      "execution_count": 0,
      "outputs": [
        {
          "output_type": "stream",
          "text": [
            "====Student Information====\n",
            "[1] Show data\n",
            "[2] Insert data\n",
            "[3] Search data\n",
            "[4] Delete data\n",
            "[5] Exit program\n",
            "===========================\n",
            "Please choose number 1-5: 1\n",
            "\n",
            "Student Detail\n",
            "==============\n",
            "\n",
            "Name : Wichulada\n",
            "Dep : Information Technology\n",
            "Height : 160\n",
            "Weight : 45.5\n",
            "\n",
            "Name : Surakiet\n",
            "Dep : Geo-Informatics\n",
            "Height : 175\n",
            "Weight : 55\n",
            "\n",
            "Name : Suwichai\n",
            "Dep : New Media\n",
            "Height : 160\n",
            "Weight : 57.2\n",
            "\n",
            "Do you want to exit program y/n: y\n"
          ],
          "name": "stdout"
        },
        {
          "output_type": "error",
          "ename": "SystemExit",
          "evalue": "ignored",
          "traceback": [
            "An exception has occurred, use %tb to see the full traceback.\n",
            "\u001b[0;31mSystemExit\u001b[0m\n"
          ]
        },
        {
          "output_type": "stream",
          "text": [
            "/usr/local/lib/python3.6/dist-packages/IPython/core/interactiveshell.py:2890: UserWarning: To exit: use 'exit', 'quit', or Ctrl-D.\n",
            "  warn(\"To exit: use 'exit', 'quit', or Ctrl-D.\", stacklevel=1)\n"
          ],
          "name": "stderr"
        }
      ]
    },
    {
      "cell_type": "markdown",
      "metadata": {
        "id": "z97CgA1_O4aW",
        "colab_type": "text"
      },
      "source": [
        "# สร้างฟังก์ชัน (Function) เพื่อทำให้โค้ดหลัก (Main code) สั้นลง"
      ]
    },
    {
      "cell_type": "code",
      "metadata": {
        "id": "QMNEcvLyOqw5",
        "colab_type": "code",
        "colab": {}
      },
      "source": [
        "import sys\n",
        "import time\n",
        "import os\n",
        "\n",
        "info = ['Name', 'Dep', 'Height', 'Weight']\n",
        "std_info = [\n",
        "                ['Wichulada', 'Information Technology', 160, 45.5],\n",
        "                ['Surakiet', 'Geo-Informatics', 175, 55],\n",
        "                ['Suwichai', 'New Media', 160, 57.2]\n",
        "]\n",
        "\n",
        "# Function\n",
        "def menu():\n",
        "  print('====Student Information====')\n",
        "  print('[1] Show data')\n",
        "  print('[2] Insert data')\n",
        "  print('[3] Search data')\n",
        "  print('[4] Delete data')\n",
        "  print('[5] Exit program')\n",
        "  print('===========================')\n",
        "\n",
        "def show_data():\n",
        "  print()\n",
        "  print('Student Detail')\n",
        "  print('==============\\n')\n",
        "  for student in std_info:\n",
        "    for i in range(0, len(student)):\n",
        "      print(info[i],':', student[i])\n",
        "    print()  "
      ],
      "execution_count": 0,
      "outputs": []
    },
    {
      "cell_type": "code",
      "metadata": {
        "id": "ciyw59mVPREx",
        "colab_type": "code",
        "outputId": "a05b189a-2e4b-4444-f1d5-e3e0c5e42075",
        "colab": {
          "base_uri": "https://localhost:8080/",
          "height": 643
        }
      },
      "source": [
        "while(True):\n",
        "  menu()\n",
        "  choice = int(input('Please choose number 1-5: '))\n",
        "  if(choice == 1):\n",
        "    show_data()\n",
        "  elif(choice == 2):\n",
        "    print('Insert data')  \n",
        "  elif(choice == 3):\n",
        "    print('Search data')\n",
        "  elif(choice == 4):\n",
        "    print('Delete data')\n",
        "  elif(choice == 5):\n",
        "    print('Exit program')\n",
        "  else:\n",
        "    print('Please choose only number 1-5:')\n",
        "\n",
        "  chk = input('Do you want to exit program y/n: ')\n",
        "  if((chk=='y') or (chk =='Y')):\n",
        "    sys.exit()"
      ],
      "execution_count": 0,
      "outputs": [
        {
          "output_type": "stream",
          "text": [
            "====Student Information====\n",
            "[1] Show data\n",
            "[2] Insert data\n",
            "[3] Search data\n",
            "[4] Delete data\n",
            "[5] Exit program\n",
            "===========================\n",
            "Please choose number 1-5: 1\n",
            "\n",
            "Student Detail\n",
            "==============\n",
            "\n",
            "Name : Wichulada\n",
            "Dep : Information Technology\n",
            "Height : 160\n",
            "Weight : 45.5\n",
            "\n",
            "Name : Surakiet\n",
            "Dep : Geo-Informatics\n",
            "Height : 175\n",
            "Weight : 55\n",
            "\n",
            "Name : Suwichai\n",
            "Dep : New Media\n",
            "Height : 160\n",
            "Weight : 57.2\n",
            "\n",
            "Do you want to exit program y/n: y\n"
          ],
          "name": "stdout"
        },
        {
          "output_type": "error",
          "ename": "SystemExit",
          "evalue": "ignored",
          "traceback": [
            "An exception has occurred, use %tb to see the full traceback.\n",
            "\u001b[0;31mSystemExit\u001b[0m\n"
          ]
        },
        {
          "output_type": "stream",
          "text": [
            "/usr/local/lib/python3.6/dist-packages/IPython/core/interactiveshell.py:2890: UserWarning: To exit: use 'exit', 'quit', or Ctrl-D.\n",
            "  warn(\"To exit: use 'exit', 'quit', or Ctrl-D.\", stacklevel=1)\n"
          ],
          "name": "stderr"
        }
      ]
    },
    {
      "cell_type": "markdown",
      "metadata": {
        "id": "JVUOMMYLQd--",
        "colab_type": "text"
      },
      "source": [
        "# Work\n",
        "เขียนฟังก์ชัน ดังต่อไปนี้\n",
        "* ค้นหาข้อมูล (Search)\n",
        "* ลบข้อมูล (Delete)\n",
        "\n"
      ]
    },
    {
      "cell_type": "code",
      "metadata": {
        "id": "shIi7jmBP79U",
        "colab_type": "code",
        "colab": {}
      },
      "source": [
        "# ค้นหาข้อมูล\n",
        "def search_data()\n",
        "\n",
        "\n",
        "\n",
        "# ลบข้อมูล\n",
        "def delete_data()\n",
        "\n",
        "\n"
      ],
      "execution_count": 0,
      "outputs": []
    },
    {
      "cell_type": "code",
      "metadata": {
        "id": "REzlQRWYQ_dG",
        "colab_type": "code",
        "colab": {}
      },
      "source": [
        "# โปรแกรมสมบูรณ์\n",
        "while(True):\n",
        "  menu()\n",
        "  choice = int(input('Please choose number 1-5: '))\n",
        "  # block of code\n",
        "\n",
        "\n",
        "\n",
        "\n",
        "\n",
        "  chk = input('Do you want to exit program y/n: ')\n",
        "  if((chk=='y') or (chk =='Y')):\n",
        "    sys.exit()\n"
      ],
      "execution_count": 0,
      "outputs": []
    }
  ]
}