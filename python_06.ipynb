{
  "nbformat": 4,
  "nbformat_minor": 0,
  "metadata": {
    "colab": {
      "name": "mysql_python.ipynb",
      "provenance": []
    },
    "kernelspec": {
      "name": "python3",
      "display_name": "Python 3"
    }
  },
  "cells": [
    {
      "cell_type": "markdown",
      "metadata": {
        "id": "EWFU3fgOO7p3",
        "colab_type": "text"
      },
      "source": [
        "#ติดต่อฐานข้อมูลจาก https://remotemysql.com"
      ]
    },
    {
      "cell_type": "markdown",
      "metadata": {
        "id": "gakSrA7rPCZT",
        "colab_type": "text"
      },
      "source": [
        "## ติดตั้ง MySQL connector"
      ]
    },
    {
      "cell_type": "code",
      "metadata": {
        "id": "mU63LAlQOyru",
        "colab_type": "code",
        "outputId": "fd3219d7-7639-41aa-c00c-c037c11880ce",
        "colab": {
          "base_uri": "https://localhost:8080/",
          "height": 211
        }
      },
      "source": [
        "!pip install mysql-connector"
      ],
      "execution_count": 0,
      "outputs": [
        {
          "output_type": "stream",
          "text": [
            "Collecting mysql-connector\n",
            "\u001b[?25l  Downloading https://files.pythonhosted.org/packages/28/04/e40098f3730e75bbe36a338926f566ea803550a34fb50535499f4fc4787a/mysql-connector-2.2.9.tar.gz (11.9MB)\n",
            "\u001b[K     |████████████████████████████████| 11.9MB 171kB/s \n",
            "\u001b[?25hBuilding wheels for collected packages: mysql-connector\n",
            "  Building wheel for mysql-connector (setup.py) ... \u001b[?25l\u001b[?25hdone\n",
            "  Created wheel for mysql-connector: filename=mysql_connector-2.2.9-cp36-cp36m-linux_x86_64.whl size=247949 sha256=7b07eb9f4cae22f14dc2dd200156197a1acf6ede37db31373eaa27027a56eb3c\n",
            "  Stored in directory: /root/.cache/pip/wheels/8c/83/a1/f8b6d4bb1bd6208bbde1608bbfa7557504bed9eaf2ecf8c175\n",
            "Successfully built mysql-connector\n",
            "Installing collected packages: mysql-connector\n",
            "Successfully installed mysql-connector-2.2.9\n"
          ],
          "name": "stdout"
        }
      ]
    },
    {
      "cell_type": "markdown",
      "metadata": {
        "id": "L0AMvfFjPUqC",
        "colab_type": "text"
      },
      "source": [
        "## สร้าง Connection ไปยัง MySQL database"
      ]
    },
    {
      "cell_type": "code",
      "metadata": {
        "id": "BzGm7M4aPY1x",
        "colab_type": "code",
        "outputId": "47d73d3a-d6a1-4b67-99f0-c4e82f14c350",
        "colab": {
          "base_uri": "https://localhost:8080/",
          "height": 34
        }
      },
      "source": [
        "import mysql.connector\n",
        "\n",
        "connection = mysql.connector.connect(\n",
        "    host='remotemysql.com',\n",
        "    user='3TzFLANO01',\n",
        "    passwd='BaKnPRUzfy'\n",
        ")\n",
        "\n",
        "print(connection)"
      ],
      "execution_count": 0,
      "outputs": [
        {
          "output_type": "stream",
          "text": [
            "<mysql.connector.connection.MySQLConnection object at 0x7fac6f1c0278>\n"
          ],
          "name": "stdout"
        }
      ]
    },
    {
      "cell_type": "markdown",
      "metadata": {
        "id": "GesSt-0WPc1W",
        "colab_type": "text"
      },
      "source": [
        "### กรณีที่ connect ไม่ได้"
      ]
    },
    {
      "cell_type": "code",
      "metadata": {
        "id": "uQUUiV1SPgGB",
        "colab_type": "code",
        "outputId": "01a8bc4e-a41e-40ef-fa06-6336b09b260d",
        "colab": {
          "base_uri": "https://localhost:8080/",
          "height": 382
        }
      },
      "source": [
        "import mysql.connector\n",
        "\n",
        "connection = mysql.connector.connect(\n",
        "    host='remotemysql.com',\n",
        "    user='3TzFLANO02',\n",
        "    passwd='BaKnPRUzfy'\n",
        ")\n",
        "\n",
        "print(connection)"
      ],
      "execution_count": 0,
      "outputs": [
        {
          "output_type": "error",
          "ename": "ProgrammingError",
          "evalue": "ignored",
          "traceback": [
            "\u001b[0;31m---------------------------------------------------------------------------\u001b[0m",
            "\u001b[0;31mProgrammingError\u001b[0m                          Traceback (most recent call last)",
            "\u001b[0;32m<ipython-input-62-daeeeccf2bd4>\u001b[0m in \u001b[0;36m<module>\u001b[0;34m()\u001b[0m\n\u001b[1;32m      4\u001b[0m     \u001b[0mhost\u001b[0m\u001b[0;34m=\u001b[0m\u001b[0;34m'remotemysql.com'\u001b[0m\u001b[0;34m,\u001b[0m\u001b[0;34m\u001b[0m\u001b[0;34m\u001b[0m\u001b[0m\n\u001b[1;32m      5\u001b[0m     \u001b[0muser\u001b[0m\u001b[0;34m=\u001b[0m\u001b[0;34m'3TzFLANO02'\u001b[0m\u001b[0;34m,\u001b[0m\u001b[0;34m\u001b[0m\u001b[0;34m\u001b[0m\u001b[0m\n\u001b[0;32m----> 6\u001b[0;31m     \u001b[0mpasswd\u001b[0m\u001b[0;34m=\u001b[0m\u001b[0;34m'BaKnPRUzfy'\u001b[0m\u001b[0;34m\u001b[0m\u001b[0;34m\u001b[0m\u001b[0m\n\u001b[0m\u001b[1;32m      7\u001b[0m )\n\u001b[1;32m      8\u001b[0m \u001b[0;34m\u001b[0m\u001b[0m\n",
            "\u001b[0;32m/usr/local/lib/python3.6/dist-packages/mysql/connector/__init__.py\u001b[0m in \u001b[0;36mconnect\u001b[0;34m(*args, **kwargs)\u001b[0m\n\u001b[1;32m    177\u001b[0m         \u001b[0;32mreturn\u001b[0m \u001b[0mCMySQLConnection\u001b[0m\u001b[0;34m(\u001b[0m\u001b[0;34m*\u001b[0m\u001b[0margs\u001b[0m\u001b[0;34m,\u001b[0m \u001b[0;34m**\u001b[0m\u001b[0mkwargs\u001b[0m\u001b[0;34m)\u001b[0m\u001b[0;34m\u001b[0m\u001b[0;34m\u001b[0m\u001b[0m\n\u001b[1;32m    178\u001b[0m     \u001b[0;32melse\u001b[0m\u001b[0;34m:\u001b[0m\u001b[0;34m\u001b[0m\u001b[0;34m\u001b[0m\u001b[0m\n\u001b[0;32m--> 179\u001b[0;31m         \u001b[0;32mreturn\u001b[0m \u001b[0mMySQLConnection\u001b[0m\u001b[0;34m(\u001b[0m\u001b[0;34m*\u001b[0m\u001b[0margs\u001b[0m\u001b[0;34m,\u001b[0m \u001b[0;34m**\u001b[0m\u001b[0mkwargs\u001b[0m\u001b[0;34m)\u001b[0m\u001b[0;34m\u001b[0m\u001b[0;34m\u001b[0m\u001b[0m\n\u001b[0m\u001b[1;32m    180\u001b[0m \u001b[0mConnect\u001b[0m \u001b[0;34m=\u001b[0m \u001b[0mconnect\u001b[0m  \u001b[0;31m# pylint: disable=C0103\u001b[0m\u001b[0;34m\u001b[0m\u001b[0;34m\u001b[0m\u001b[0m\n\u001b[1;32m    181\u001b[0m \u001b[0;34m\u001b[0m\u001b[0m\n",
            "\u001b[0;32m/usr/local/lib/python3.6/dist-packages/mysql/connector/connection.py\u001b[0m in \u001b[0;36m__init__\u001b[0;34m(self, *args, **kwargs)\u001b[0m\n\u001b[1;32m     93\u001b[0m \u001b[0;34m\u001b[0m\u001b[0m\n\u001b[1;32m     94\u001b[0m         \u001b[0;32mif\u001b[0m \u001b[0mlen\u001b[0m\u001b[0;34m(\u001b[0m\u001b[0mkwargs\u001b[0m\u001b[0;34m)\u001b[0m \u001b[0;34m>\u001b[0m \u001b[0;36m0\u001b[0m\u001b[0;34m:\u001b[0m\u001b[0;34m\u001b[0m\u001b[0;34m\u001b[0m\u001b[0m\n\u001b[0;32m---> 95\u001b[0;31m             \u001b[0mself\u001b[0m\u001b[0;34m.\u001b[0m\u001b[0mconnect\u001b[0m\u001b[0;34m(\u001b[0m\u001b[0;34m**\u001b[0m\u001b[0mkwargs\u001b[0m\u001b[0;34m)\u001b[0m\u001b[0;34m\u001b[0m\u001b[0;34m\u001b[0m\u001b[0m\n\u001b[0m\u001b[1;32m     96\u001b[0m \u001b[0;34m\u001b[0m\u001b[0m\n\u001b[1;32m     97\u001b[0m     \u001b[0;32mdef\u001b[0m \u001b[0m_do_handshake\u001b[0m\u001b[0;34m(\u001b[0m\u001b[0mself\u001b[0m\u001b[0;34m)\u001b[0m\u001b[0;34m:\u001b[0m\u001b[0;34m\u001b[0m\u001b[0;34m\u001b[0m\u001b[0m\n",
            "\u001b[0;32m/usr/local/lib/python3.6/dist-packages/mysql/connector/abstracts.py\u001b[0m in \u001b[0;36mconnect\u001b[0;34m(self, **kwargs)\u001b[0m\n\u001b[1;32m    714\u001b[0m \u001b[0;34m\u001b[0m\u001b[0m\n\u001b[1;32m    715\u001b[0m         \u001b[0mself\u001b[0m\u001b[0;34m.\u001b[0m\u001b[0mdisconnect\u001b[0m\u001b[0;34m(\u001b[0m\u001b[0;34m)\u001b[0m\u001b[0;34m\u001b[0m\u001b[0;34m\u001b[0m\u001b[0m\n\u001b[0;32m--> 716\u001b[0;31m         \u001b[0mself\u001b[0m\u001b[0;34m.\u001b[0m\u001b[0m_open_connection\u001b[0m\u001b[0;34m(\u001b[0m\u001b[0;34m)\u001b[0m\u001b[0;34m\u001b[0m\u001b[0;34m\u001b[0m\u001b[0m\n\u001b[0m\u001b[1;32m    717\u001b[0m         \u001b[0mself\u001b[0m\u001b[0;34m.\u001b[0m\u001b[0m_post_connection\u001b[0m\u001b[0;34m(\u001b[0m\u001b[0;34m)\u001b[0m\u001b[0;34m\u001b[0m\u001b[0;34m\u001b[0m\u001b[0m\n\u001b[1;32m    718\u001b[0m \u001b[0;34m\u001b[0m\u001b[0m\n",
            "\u001b[0;32m/usr/local/lib/python3.6/dist-packages/mysql/connector/connection.py\u001b[0m in \u001b[0;36m_open_connection\u001b[0;34m(self)\u001b[0m\n\u001b[1;32m    208\u001b[0m         self._do_auth(self._user, self._password,\n\u001b[1;32m    209\u001b[0m                       \u001b[0mself\u001b[0m\u001b[0;34m.\u001b[0m\u001b[0m_database\u001b[0m\u001b[0;34m,\u001b[0m \u001b[0mself\u001b[0m\u001b[0;34m.\u001b[0m\u001b[0m_client_flags\u001b[0m\u001b[0;34m,\u001b[0m \u001b[0mself\u001b[0m\u001b[0;34m.\u001b[0m\u001b[0m_charset_id\u001b[0m\u001b[0;34m,\u001b[0m\u001b[0;34m\u001b[0m\u001b[0;34m\u001b[0m\u001b[0m\n\u001b[0;32m--> 210\u001b[0;31m                       self._ssl)\n\u001b[0m\u001b[1;32m    211\u001b[0m         \u001b[0mself\u001b[0m\u001b[0;34m.\u001b[0m\u001b[0mset_converter_class\u001b[0m\u001b[0;34m(\u001b[0m\u001b[0mself\u001b[0m\u001b[0;34m.\u001b[0m\u001b[0m_converter_class\u001b[0m\u001b[0;34m)\u001b[0m\u001b[0;34m\u001b[0m\u001b[0;34m\u001b[0m\u001b[0m\n\u001b[1;32m    212\u001b[0m         \u001b[0;32mif\u001b[0m \u001b[0mself\u001b[0m\u001b[0;34m.\u001b[0m\u001b[0m_client_flags\u001b[0m \u001b[0;34m&\u001b[0m \u001b[0mClientFlag\u001b[0m\u001b[0;34m.\u001b[0m\u001b[0mCOMPRESS\u001b[0m\u001b[0;34m:\u001b[0m\u001b[0;34m\u001b[0m\u001b[0;34m\u001b[0m\u001b[0m\n",
            "\u001b[0;32m/usr/local/lib/python3.6/dist-packages/mysql/connector/connection.py\u001b[0m in \u001b[0;36m_do_auth\u001b[0;34m(self, username, password, database, client_flags, charset, ssl_options)\u001b[0m\n\u001b[1;32m    142\u001b[0m             auth_plugin=self._auth_plugin)\n\u001b[1;32m    143\u001b[0m         \u001b[0mself\u001b[0m\u001b[0;34m.\u001b[0m\u001b[0m_socket\u001b[0m\u001b[0;34m.\u001b[0m\u001b[0msend\u001b[0m\u001b[0;34m(\u001b[0m\u001b[0mpacket\u001b[0m\u001b[0;34m)\u001b[0m\u001b[0;34m\u001b[0m\u001b[0;34m\u001b[0m\u001b[0m\n\u001b[0;32m--> 144\u001b[0;31m         \u001b[0mself\u001b[0m\u001b[0;34m.\u001b[0m\u001b[0m_auth_switch_request\u001b[0m\u001b[0;34m(\u001b[0m\u001b[0musername\u001b[0m\u001b[0;34m,\u001b[0m \u001b[0mpassword\u001b[0m\u001b[0;34m)\u001b[0m\u001b[0;34m\u001b[0m\u001b[0;34m\u001b[0m\u001b[0m\n\u001b[0m\u001b[1;32m    145\u001b[0m \u001b[0;34m\u001b[0m\u001b[0m\n\u001b[1;32m    146\u001b[0m         \u001b[0;32mif\u001b[0m \u001b[0;32mnot\u001b[0m \u001b[0;34m(\u001b[0m\u001b[0mclient_flags\u001b[0m \u001b[0;34m&\u001b[0m \u001b[0mClientFlag\u001b[0m\u001b[0;34m.\u001b[0m\u001b[0mCONNECT_WITH_DB\u001b[0m\u001b[0;34m)\u001b[0m \u001b[0;32mand\u001b[0m \u001b[0mdatabase\u001b[0m\u001b[0;34m:\u001b[0m\u001b[0;34m\u001b[0m\u001b[0;34m\u001b[0m\u001b[0m\n",
            "\u001b[0;32m/usr/local/lib/python3.6/dist-packages/mysql/connector/connection.py\u001b[0m in \u001b[0;36m_auth_switch_request\u001b[0;34m(self, username, password)\u001b[0m\n\u001b[1;32m    175\u001b[0m                 \u001b[0mauth_data\u001b[0m \u001b[0;34m=\u001b[0m \u001b[0mself\u001b[0m\u001b[0;34m.\u001b[0m\u001b[0m_protocol\u001b[0m\u001b[0;34m.\u001b[0m\u001b[0mparse_auth_more_data\u001b[0m\u001b[0;34m(\u001b[0m\u001b[0mpacket\u001b[0m\u001b[0;34m)\u001b[0m\u001b[0;34m\u001b[0m\u001b[0;34m\u001b[0m\u001b[0m\n\u001b[1;32m    176\u001b[0m         \u001b[0;32melif\u001b[0m \u001b[0mpacket\u001b[0m\u001b[0;34m[\u001b[0m\u001b[0;36m4\u001b[0m\u001b[0;34m]\u001b[0m \u001b[0;34m==\u001b[0m \u001b[0;36m255\u001b[0m\u001b[0;34m:\u001b[0m\u001b[0;34m\u001b[0m\u001b[0;34m\u001b[0m\u001b[0m\n\u001b[0;32m--> 177\u001b[0;31m             \u001b[0;32mraise\u001b[0m \u001b[0merrors\u001b[0m\u001b[0;34m.\u001b[0m\u001b[0mget_exception\u001b[0m\u001b[0;34m(\u001b[0m\u001b[0mpacket\u001b[0m\u001b[0;34m)\u001b[0m\u001b[0;34m\u001b[0m\u001b[0;34m\u001b[0m\u001b[0m\n\u001b[0m\u001b[1;32m    178\u001b[0m \u001b[0;34m\u001b[0m\u001b[0m\n\u001b[1;32m    179\u001b[0m     \u001b[0;32mdef\u001b[0m \u001b[0m_get_connection\u001b[0m\u001b[0;34m(\u001b[0m\u001b[0mself\u001b[0m\u001b[0;34m,\u001b[0m \u001b[0mprtcls\u001b[0m\u001b[0;34m=\u001b[0m\u001b[0;32mNone\u001b[0m\u001b[0;34m)\u001b[0m\u001b[0;34m:\u001b[0m\u001b[0;34m\u001b[0m\u001b[0;34m\u001b[0m\u001b[0m\n",
            "\u001b[0;31mProgrammingError\u001b[0m: 1045 (28000): Access denied for user '3TzFLANO02'@'35.247.65.222' (using password: YES)"
          ]
        }
      ]
    },
    {
      "cell_type": "markdown",
      "metadata": {
        "id": "Go9JFk0GPSF4",
        "colab_type": "text"
      },
      "source": [
        "## แสดงฐานข้อมูล (Database) ที่อยู่ในระบบ (System's Databases)"
      ]
    },
    {
      "cell_type": "code",
      "metadata": {
        "id": "srRrEnrQPzBA",
        "colab_type": "code",
        "outputId": "b1d4bffb-42a4-4062-ee39-1c6ee2e4bab1",
        "colab": {
          "base_uri": "https://localhost:8080/",
          "height": 52
        }
      },
      "source": [
        "cursor = connection.cursor()\n",
        "cursor.execute('show databases')\n",
        "\n",
        "for x in cursor:\n",
        "    print(x)"
      ],
      "execution_count": 0,
      "outputs": [
        {
          "output_type": "stream",
          "text": [
            "(bytearray(b'3TzFLANO01'),)\n",
            "(bytearray(b'information_schema'),)\n"
          ],
          "name": "stdout"
        }
      ]
    },
    {
      "cell_type": "markdown",
      "metadata": {
        "id": "NreIr5WiP295",
        "colab_type": "text"
      },
      "source": [
        "## เชื่อมต่อฐานข้อมูลที่ต้องการ\n",
        "### ในกรณีนี้เชื่อมต่อฐานข้อมูลชื่อ **3TzFLANO01**"
      ]
    },
    {
      "cell_type": "code",
      "metadata": {
        "id": "JC7BDe3kQAqL",
        "colab_type": "code",
        "outputId": "72ed29b4-8492-4c6e-a479-dba87cbb6658",
        "colab": {
          "base_uri": "https://localhost:8080/",
          "height": 52
        }
      },
      "source": [
        "import mysql.connector\n",
        "\n",
        "connection = mysql.connector.connect(\n",
        "    host='remotemysql.com',\n",
        "    user='3TzFLANO01',\n",
        "    passwd='BaKnPRUzfy',\n",
        "    database='3TzFLANO01'\n",
        ")\n",
        "\n",
        "cursor = connection.cursor()\n",
        "cursor.execute('show tables')\n",
        "show_table = cursor.fetchall()\n",
        "\n",
        "print('Number of table: ', len(show_table))\n",
        "\n",
        "for x in show_table:\n",
        "  print(x)"
      ],
      "execution_count": 0,
      "outputs": [
        {
          "output_type": "stream",
          "text": [
            "Number of table:  1\n",
            "(bytearray(b'Student'),)\n"
          ],
          "name": "stdout"
        }
      ]
    },
    {
      "cell_type": "markdown",
      "metadata": {
        "id": "1OmNNnBVQEza",
        "colab_type": "text"
      },
      "source": [
        "## แสดงข้อมูลที่อยู่ในตาราง (Table) "
      ]
    },
    {
      "cell_type": "code",
      "metadata": {
        "id": "nwxdBpj_RQom",
        "colab_type": "code",
        "outputId": "bb972007-a17f-408c-9152-0db102152714",
        "colab": {
          "base_uri": "https://localhost:8080/",
          "height": 52
        }
      },
      "source": [
        "cursor.execute('select * from Student')\n",
        "show_data = cursor.fetchall()\n",
        "\n",
        "for x in show_data:\n",
        "    print(x)"
      ],
      "execution_count": 0,
      "outputs": [
        {
          "output_type": "stream",
          "text": [
            "('61011221111', 'olarik', 'surinta', 'm')\n",
            "('6210012001', 'Kaveepoj', 'Bunluewong', 'm')\n"
          ],
          "name": "stdout"
        }
      ]
    },
    {
      "cell_type": "code",
      "metadata": {
        "id": "zqZfTDbaUgCL",
        "colab_type": "code",
        "outputId": "8c860eff-3479-40f1-c92a-8676cd36f34c",
        "colab": {
          "base_uri": "https://localhost:8080/",
          "height": 34
        }
      },
      "source": [
        "print(type(show_data))"
      ],
      "execution_count": 0,
      "outputs": [
        {
          "output_type": "stream",
          "text": [
            "<class 'list'>\n"
          ],
          "name": "stdout"
        }
      ]
    },
    {
      "cell_type": "markdown",
      "metadata": {
        "id": "6xPXfdYAmY7o",
        "colab_type": "text"
      },
      "source": [
        "## แสดงรายละเอียดของ database"
      ]
    },
    {
      "cell_type": "markdown",
      "metadata": {
        "id": "xEOMscHplx55",
        "colab_type": "text"
      },
      "source": [
        "### แสดงชื่อ Field ของ Table"
      ]
    },
    {
      "cell_type": "code",
      "metadata": {
        "id": "w5VZ_xcal7By",
        "colab_type": "code",
        "outputId": "40a896e5-b128-4d56-b680-766875677a55",
        "colab": {
          "base_uri": "https://localhost:8080/",
          "height": 34
        }
      },
      "source": [
        "cursor.column_names"
      ],
      "execution_count": 0,
      "outputs": [
        {
          "output_type": "execute_result",
          "data": {
            "text/plain": [
              "('Std_id', 'Std_name', 'Std_surname', 'Std_gender')"
            ]
          },
          "metadata": {
            "tags": []
          },
          "execution_count": 84
        }
      ]
    },
    {
      "cell_type": "markdown",
      "metadata": {
        "id": "cSFSAx8-mNTS",
        "colab_type": "text"
      },
      "source": [
        "### แสดงรายละเอียด"
      ]
    },
    {
      "cell_type": "code",
      "metadata": {
        "id": "BICqFQt5mQA0",
        "colab_type": "code",
        "outputId": "27023736-f425-4774-b675-cf305b45eb55",
        "colab": {
          "base_uri": "https://localhost:8080/",
          "height": 86
        }
      },
      "source": [
        "cursor.description"
      ],
      "execution_count": 0,
      "outputs": [
        {
          "output_type": "execute_result",
          "data": {
            "text/plain": [
              "[('Std_id', 253, None, None, None, None, 0, 4097),\n",
              " ('Std_name', 253, None, None, None, None, 0, 4097),\n",
              " ('Std_surname', 253, None, None, None, None, 0, 4097),\n",
              " ('Std_gender', 253, None, None, None, None, 0, 4097)]"
            ]
          },
          "metadata": {
            "tags": []
          },
          "execution_count": 85
        }
      ]
    },
    {
      "cell_type": "markdown",
      "metadata": {
        "id": "JwlH3WSsmmmK",
        "colab_type": "text"
      },
      "source": [
        "## แสดงข้อมูลแบบเรียงลำดับ"
      ]
    },
    {
      "cell_type": "markdown",
      "metadata": {
        "id": "JgippJgJlRgx",
        "colab_type": "text"
      },
      "source": [
        "### แสดงข้อมูลตาม ASC (น้อยไปมาก)"
      ]
    },
    {
      "cell_type": "code",
      "metadata": {
        "id": "Ws1S_i_Ok4O6",
        "colab_type": "code",
        "outputId": "d5d00faf-bc62-45af-eee1-25cb46a46dcb",
        "colab": {
          "base_uri": "https://localhost:8080/",
          "height": 52
        }
      },
      "source": [
        "cursor.execute('select * from Student order by std_name asc')\n",
        "show_data = cursor.fetchall()\n",
        "\n",
        "for x in show_data:\n",
        "    print(x)"
      ],
      "execution_count": 0,
      "outputs": [
        {
          "output_type": "stream",
          "text": [
            "('6210012001', 'Kaveepoj', 'Bunluewong', 'm')\n",
            "('61011221111', 'olarik', 'surinta', 'm')\n"
          ],
          "name": "stdout"
        }
      ]
    },
    {
      "cell_type": "markdown",
      "metadata": {
        "id": "_8IK1_n5la2H",
        "colab_type": "text"
      },
      "source": [
        "### ### แสดงข้อมูลตาม DESC (มากไปน้อย)"
      ]
    },
    {
      "cell_type": "code",
      "metadata": {
        "id": "8HmOMBNNlPFg",
        "colab_type": "code",
        "outputId": "3b8c0a06-7a47-4b03-a466-84b4c8d04ae0",
        "colab": {
          "base_uri": "https://localhost:8080/",
          "height": 52
        }
      },
      "source": [
        "cursor.execute('select * from Student order by std_id desc')\n",
        "show_data = cursor.fetchall()\n",
        "\n",
        "for x in show_data:\n",
        "    print(x)"
      ],
      "execution_count": 0,
      "outputs": [
        {
          "output_type": "stream",
          "text": [
            "('6210012001', 'Kaveepoj', 'Bunluewong', 'm')\n",
            "('61011221111', 'olarik', 'surinta', 'm')\n"
          ],
          "name": "stdout"
        }
      ]
    },
    {
      "cell_type": "markdown",
      "metadata": {
        "id": "mjrPLy2ykuD_",
        "colab_type": "text"
      },
      "source": [
        "## เพิ่มข้อมูลลงตาราง (Insert)"
      ]
    },
    {
      "cell_type": "code",
      "metadata": {
        "id": "c2DNJQvPV6V1",
        "colab_type": "code",
        "outputId": "d04338ab-8546-4e46-f9e0-c3f9d0ec47e2",
        "colab": {
          "base_uri": "https://localhost:8080/",
          "height": 34
        }
      },
      "source": [
        "sql_insert = \"INSERT INTO Student (Std_id, Std_name, Std_surname, Std_gender) \\\n",
        "              VALUES (%s, %s, %s, %s)\"\n",
        "val = (\"620110120\", \"Suwich\", \"Tirakoat\", \"m\")\n",
        "cursor.execute(sql_insert, val)             \n",
        "\n",
        "connection.commit()\n",
        "\n",
        "print(cursor.rowcount, \"record inserted.\")"
      ],
      "execution_count": 0,
      "outputs": [
        {
          "output_type": "stream",
          "text": [
            "1 record inserted.\n"
          ],
          "name": "stdout"
        }
      ]
    },
    {
      "cell_type": "code",
      "metadata": {
        "id": "FZXR-x3KnReB",
        "colab_type": "code",
        "outputId": "467d396f-6ecd-46a4-9daa-a7c6df8f8e3c",
        "colab": {
          "base_uri": "https://localhost:8080/",
          "height": 69
        }
      },
      "source": [
        "cursor.execute('select * from Student')\n",
        "show_data = cursor.fetchall()\n",
        "\n",
        "for x in show_data:\n",
        "    print(x)"
      ],
      "execution_count": 0,
      "outputs": [
        {
          "output_type": "stream",
          "text": [
            "('61011221111', 'olarik', 'surinta', 'm')\n",
            "('6210012001', 'Kaveepoj', 'Bunluewong', 'm')\n",
            "('620110120', 'Suwich', 'Tirakoat', 'm')\n"
          ],
          "name": "stdout"
        }
      ]
    },
    {
      "cell_type": "markdown",
      "metadata": {
        "id": "7TUf9d80qrbh",
        "colab_type": "text"
      },
      "source": [
        "### เพิ่มข้อมูลลงตารางแบบหลายชุด (Multiple Insert)"
      ]
    },
    {
      "cell_type": "code",
      "metadata": {
        "id": "F6Co-1x3pvUU",
        "colab_type": "code",
        "colab": {}
      },
      "source": [
        "sql_insert = \"INSERT INTO Student (Std_id, Std_name, Std_surname, Std_gender) \\\n",
        "              VALUES (%s, %s, %s, %s)\"\n",
        "val = [\n",
        "       (\"630110230\", \"Suwichai\", \"Punsa\", \"m\"),\n",
        "       (\"630110230\", \"Angelina\", \"Jolie\", \"f\"),\n",
        "       (\"630120430\", \"Jennifer\", \"Lawrence\", \"f\")\n",
        "       ]\n",
        "\n",
        "for values in val:\n",
        "  cursor.execute(sql_insert, values)\n",
        "\n",
        "connection.commit()"
      ],
      "execution_count": 0,
      "outputs": []
    },
    {
      "cell_type": "code",
      "metadata": {
        "id": "-VCac1Yhrm-0",
        "colab_type": "code",
        "outputId": "50eea2a4-2e5b-492a-ac06-82f1e75e2da1",
        "colab": {
          "base_uri": "https://localhost:8080/",
          "height": 121
        }
      },
      "source": [
        "cursor.execute('select * from Student')\n",
        "show_data = cursor.fetchall()\n",
        "\n",
        "for x in show_data:\n",
        "    print(x)"
      ],
      "execution_count": 0,
      "outputs": [
        {
          "output_type": "stream",
          "text": [
            "('61011221111', 'olarik', 'surinta', 'm')\n",
            "('6210012001', 'Kaveepoj', 'Bunluewong', 'm')\n",
            "('620110120', 'Suwich', 'Tirakoat', 'm')\n",
            "('630110230', 'Suwichai', 'Punsa', 'm')\n",
            "('630110230', 'Angelina', 'Jolie', 'f')\n",
            "('630120430', 'Jennifer', 'Lawrence', 'f')\n"
          ],
          "name": "stdout"
        }
      ]
    },
    {
      "cell_type": "markdown",
      "metadata": {
        "id": "f5hc60D4tuHC",
        "colab_type": "text"
      },
      "source": [
        "## แสดงข้อมูลแบบ DataFrame ด้วย Pandas "
      ]
    },
    {
      "cell_type": "markdown",
      "metadata": {
        "id": "KO3gIizUt0PV",
        "colab_type": "text"
      },
      "source": [
        "แสดงประเภทข้อมูลของตัวแปรที่อ่านมาจาก MySQL"
      ]
    },
    {
      "cell_type": "code",
      "metadata": {
        "id": "0O4XjZoqtKSt",
        "colab_type": "code",
        "outputId": "2005949d-a1d3-4527-e37a-cf514961f56b",
        "colab": {
          "base_uri": "https://localhost:8080/",
          "height": 34
        }
      },
      "source": [
        "type(show_data)"
      ],
      "execution_count": 0,
      "outputs": [
        {
          "output_type": "execute_result",
          "data": {
            "text/plain": [
              "list"
            ]
          },
          "metadata": {
            "tags": []
          },
          "execution_count": 120
        }
      ]
    },
    {
      "cell_type": "markdown",
      "metadata": {
        "id": "n5gtul1Bt7hH",
        "colab_type": "text"
      },
      "source": [
        "### สร้าง DataFrame"
      ]
    },
    {
      "cell_type": "code",
      "metadata": {
        "id": "3XkmST67tOEo",
        "colab_type": "code",
        "colab": {}
      },
      "source": [
        "import pandas as pd\n",
        "\n",
        "df_std = pd.DataFrame(show_data, columns = cursor.column_names)"
      ],
      "execution_count": 0,
      "outputs": []
    },
    {
      "cell_type": "markdown",
      "metadata": {
        "id": "wLSqF3TJt-uG",
        "colab_type": "text"
      },
      "source": [
        "### แสดงข้อมูล DataFrame"
      ]
    },
    {
      "cell_type": "code",
      "metadata": {
        "id": "iyaaPMSCtbjQ",
        "colab_type": "code",
        "outputId": "865c9194-2b41-451e-a065-750ffed72b55",
        "colab": {
          "base_uri": "https://localhost:8080/",
          "height": 238
        }
      },
      "source": [
        "df_std"
      ],
      "execution_count": 0,
      "outputs": [
        {
          "output_type": "execute_result",
          "data": {
            "text/html": [
              "<div>\n",
              "<style scoped>\n",
              "    .dataframe tbody tr th:only-of-type {\n",
              "        vertical-align: middle;\n",
              "    }\n",
              "\n",
              "    .dataframe tbody tr th {\n",
              "        vertical-align: top;\n",
              "    }\n",
              "\n",
              "    .dataframe thead th {\n",
              "        text-align: right;\n",
              "    }\n",
              "</style>\n",
              "<table border=\"1\" class=\"dataframe\">\n",
              "  <thead>\n",
              "    <tr style=\"text-align: right;\">\n",
              "      <th></th>\n",
              "      <th>Std_id</th>\n",
              "      <th>Std_name</th>\n",
              "      <th>Std_surname</th>\n",
              "      <th>Std_gender</th>\n",
              "    </tr>\n",
              "  </thead>\n",
              "  <tbody>\n",
              "    <tr>\n",
              "      <th>0</th>\n",
              "      <td>61011221111</td>\n",
              "      <td>olarik</td>\n",
              "      <td>surinta</td>\n",
              "      <td>m</td>\n",
              "    </tr>\n",
              "    <tr>\n",
              "      <th>1</th>\n",
              "      <td>6210012001</td>\n",
              "      <td>Kaveepoj</td>\n",
              "      <td>Bunluewong</td>\n",
              "      <td>m</td>\n",
              "    </tr>\n",
              "    <tr>\n",
              "      <th>2</th>\n",
              "      <td>620110120</td>\n",
              "      <td>Suwich</td>\n",
              "      <td>Tirakoat</td>\n",
              "      <td>m</td>\n",
              "    </tr>\n",
              "    <tr>\n",
              "      <th>3</th>\n",
              "      <td>630110230</td>\n",
              "      <td>Suwichai</td>\n",
              "      <td>Punsa</td>\n",
              "      <td>m</td>\n",
              "    </tr>\n",
              "    <tr>\n",
              "      <th>4</th>\n",
              "      <td>630110230</td>\n",
              "      <td>Angelina</td>\n",
              "      <td>Jolie</td>\n",
              "      <td>f</td>\n",
              "    </tr>\n",
              "    <tr>\n",
              "      <th>5</th>\n",
              "      <td>630120430</td>\n",
              "      <td>Jennifer</td>\n",
              "      <td>Lawrence</td>\n",
              "      <td>f</td>\n",
              "    </tr>\n",
              "  </tbody>\n",
              "</table>\n",
              "</div>"
            ],
            "text/plain": [
              "        Std_id  Std_name Std_surname Std_gender\n",
              "0  61011221111    olarik     surinta          m\n",
              "1   6210012001  Kaveepoj  Bunluewong          m\n",
              "2    620110120    Suwich    Tirakoat          m\n",
              "3    630110230  Suwichai       Punsa          m\n",
              "4    630110230  Angelina       Jolie          f\n",
              "5    630120430  Jennifer    Lawrence          f"
            ]
          },
          "metadata": {
            "tags": []
          },
          "execution_count": 128
        }
      ]
    },
    {
      "cell_type": "markdown",
      "metadata": {
        "id": "-0yYEPH2uUVu",
        "colab_type": "text"
      },
      "source": [
        "### จัดเรียงข้อมูลด้วย Pandas"
      ]
    },
    {
      "cell_type": "code",
      "metadata": {
        "id": "YVfQunKytclY",
        "colab_type": "code",
        "outputId": "11d336fe-a2d7-46f3-b21f-b76973fde88e",
        "colab": {
          "base_uri": "https://localhost:8080/",
          "height": 238
        }
      },
      "source": [
        "df_std.sort_values(by='Std_id')"
      ],
      "execution_count": 0,
      "outputs": [
        {
          "output_type": "execute_result",
          "data": {
            "text/html": [
              "<div>\n",
              "<style scoped>\n",
              "    .dataframe tbody tr th:only-of-type {\n",
              "        vertical-align: middle;\n",
              "    }\n",
              "\n",
              "    .dataframe tbody tr th {\n",
              "        vertical-align: top;\n",
              "    }\n",
              "\n",
              "    .dataframe thead th {\n",
              "        text-align: right;\n",
              "    }\n",
              "</style>\n",
              "<table border=\"1\" class=\"dataframe\">\n",
              "  <thead>\n",
              "    <tr style=\"text-align: right;\">\n",
              "      <th></th>\n",
              "      <th>Std_id</th>\n",
              "      <th>Std_name</th>\n",
              "      <th>Std_surname</th>\n",
              "      <th>Std_gender</th>\n",
              "    </tr>\n",
              "  </thead>\n",
              "  <tbody>\n",
              "    <tr>\n",
              "      <th>0</th>\n",
              "      <td>61011221111</td>\n",
              "      <td>olarik</td>\n",
              "      <td>surinta</td>\n",
              "      <td>m</td>\n",
              "    </tr>\n",
              "    <tr>\n",
              "      <th>2</th>\n",
              "      <td>620110120</td>\n",
              "      <td>Suwich</td>\n",
              "      <td>Tirakoat</td>\n",
              "      <td>m</td>\n",
              "    </tr>\n",
              "    <tr>\n",
              "      <th>1</th>\n",
              "      <td>6210012001</td>\n",
              "      <td>Kaveepoj</td>\n",
              "      <td>Bunluewong</td>\n",
              "      <td>m</td>\n",
              "    </tr>\n",
              "    <tr>\n",
              "      <th>3</th>\n",
              "      <td>630110230</td>\n",
              "      <td>Suwichai</td>\n",
              "      <td>Punsa</td>\n",
              "      <td>m</td>\n",
              "    </tr>\n",
              "    <tr>\n",
              "      <th>4</th>\n",
              "      <td>630110230</td>\n",
              "      <td>Angelina</td>\n",
              "      <td>Jolie</td>\n",
              "      <td>f</td>\n",
              "    </tr>\n",
              "    <tr>\n",
              "      <th>5</th>\n",
              "      <td>630120430</td>\n",
              "      <td>Jennifer</td>\n",
              "      <td>Lawrence</td>\n",
              "      <td>f</td>\n",
              "    </tr>\n",
              "  </tbody>\n",
              "</table>\n",
              "</div>"
            ],
            "text/plain": [
              "        Std_id  Std_name Std_surname Std_gender\n",
              "0  61011221111    olarik     surinta          m\n",
              "2    620110120    Suwich    Tirakoat          m\n",
              "1   6210012001  Kaveepoj  Bunluewong          m\n",
              "3    630110230  Suwichai       Punsa          m\n",
              "4    630110230  Angelina       Jolie          f\n",
              "5    630120430  Jennifer    Lawrence          f"
            ]
          },
          "metadata": {
            "tags": []
          },
          "execution_count": 129
        }
      ]
    },
    {
      "cell_type": "code",
      "metadata": {
        "id": "xJLmSGPxubWi",
        "colab_type": "code",
        "outputId": "56b48fc9-fb88-4e38-f7d0-8843119e8f5f",
        "colab": {
          "base_uri": "https://localhost:8080/",
          "height": 238
        }
      },
      "source": [
        "df_std.sort_values(by='Std_name')"
      ],
      "execution_count": 0,
      "outputs": [
        {
          "output_type": "execute_result",
          "data": {
            "text/html": [
              "<div>\n",
              "<style scoped>\n",
              "    .dataframe tbody tr th:only-of-type {\n",
              "        vertical-align: middle;\n",
              "    }\n",
              "\n",
              "    .dataframe tbody tr th {\n",
              "        vertical-align: top;\n",
              "    }\n",
              "\n",
              "    .dataframe thead th {\n",
              "        text-align: right;\n",
              "    }\n",
              "</style>\n",
              "<table border=\"1\" class=\"dataframe\">\n",
              "  <thead>\n",
              "    <tr style=\"text-align: right;\">\n",
              "      <th></th>\n",
              "      <th>Std_id</th>\n",
              "      <th>Std_name</th>\n",
              "      <th>Std_surname</th>\n",
              "      <th>Std_gender</th>\n",
              "    </tr>\n",
              "  </thead>\n",
              "  <tbody>\n",
              "    <tr>\n",
              "      <th>4</th>\n",
              "      <td>630110230</td>\n",
              "      <td>Angelina</td>\n",
              "      <td>Jolie</td>\n",
              "      <td>f</td>\n",
              "    </tr>\n",
              "    <tr>\n",
              "      <th>5</th>\n",
              "      <td>630120430</td>\n",
              "      <td>Jennifer</td>\n",
              "      <td>Lawrence</td>\n",
              "      <td>f</td>\n",
              "    </tr>\n",
              "    <tr>\n",
              "      <th>1</th>\n",
              "      <td>6210012001</td>\n",
              "      <td>Kaveepoj</td>\n",
              "      <td>Bunluewong</td>\n",
              "      <td>m</td>\n",
              "    </tr>\n",
              "    <tr>\n",
              "      <th>2</th>\n",
              "      <td>620110120</td>\n",
              "      <td>Suwich</td>\n",
              "      <td>Tirakoat</td>\n",
              "      <td>m</td>\n",
              "    </tr>\n",
              "    <tr>\n",
              "      <th>3</th>\n",
              "      <td>630110230</td>\n",
              "      <td>Suwichai</td>\n",
              "      <td>Punsa</td>\n",
              "      <td>m</td>\n",
              "    </tr>\n",
              "    <tr>\n",
              "      <th>0</th>\n",
              "      <td>61011221111</td>\n",
              "      <td>olarik</td>\n",
              "      <td>surinta</td>\n",
              "      <td>m</td>\n",
              "    </tr>\n",
              "  </tbody>\n",
              "</table>\n",
              "</div>"
            ],
            "text/plain": [
              "        Std_id  Std_name Std_surname Std_gender\n",
              "4    630110230  Angelina       Jolie          f\n",
              "5    630120430  Jennifer    Lawrence          f\n",
              "1   6210012001  Kaveepoj  Bunluewong          m\n",
              "2    620110120    Suwich    Tirakoat          m\n",
              "3    630110230  Suwichai       Punsa          m\n",
              "0  61011221111    olarik     surinta          m"
            ]
          },
          "metadata": {
            "tags": []
          },
          "execution_count": 130
        }
      ]
    },
    {
      "cell_type": "code",
      "metadata": {
        "id": "ACHE1bjKudFK",
        "colab_type": "code",
        "outputId": "47d6767a-d2b0-488f-e514-845fe096b056",
        "colab": {
          "base_uri": "https://localhost:8080/",
          "height": 238
        }
      },
      "source": [
        "df_std.sort_values(by='Std_name', ascending=False)"
      ],
      "execution_count": 0,
      "outputs": [
        {
          "output_type": "execute_result",
          "data": {
            "text/html": [
              "<div>\n",
              "<style scoped>\n",
              "    .dataframe tbody tr th:only-of-type {\n",
              "        vertical-align: middle;\n",
              "    }\n",
              "\n",
              "    .dataframe tbody tr th {\n",
              "        vertical-align: top;\n",
              "    }\n",
              "\n",
              "    .dataframe thead th {\n",
              "        text-align: right;\n",
              "    }\n",
              "</style>\n",
              "<table border=\"1\" class=\"dataframe\">\n",
              "  <thead>\n",
              "    <tr style=\"text-align: right;\">\n",
              "      <th></th>\n",
              "      <th>Std_id</th>\n",
              "      <th>Std_name</th>\n",
              "      <th>Std_surname</th>\n",
              "      <th>Std_gender</th>\n",
              "    </tr>\n",
              "  </thead>\n",
              "  <tbody>\n",
              "    <tr>\n",
              "      <th>0</th>\n",
              "      <td>61011221111</td>\n",
              "      <td>olarik</td>\n",
              "      <td>surinta</td>\n",
              "      <td>m</td>\n",
              "    </tr>\n",
              "    <tr>\n",
              "      <th>3</th>\n",
              "      <td>630110230</td>\n",
              "      <td>Suwichai</td>\n",
              "      <td>Punsa</td>\n",
              "      <td>m</td>\n",
              "    </tr>\n",
              "    <tr>\n",
              "      <th>2</th>\n",
              "      <td>620110120</td>\n",
              "      <td>Suwich</td>\n",
              "      <td>Tirakoat</td>\n",
              "      <td>m</td>\n",
              "    </tr>\n",
              "    <tr>\n",
              "      <th>1</th>\n",
              "      <td>6210012001</td>\n",
              "      <td>Kaveepoj</td>\n",
              "      <td>Bunluewong</td>\n",
              "      <td>m</td>\n",
              "    </tr>\n",
              "    <tr>\n",
              "      <th>5</th>\n",
              "      <td>630120430</td>\n",
              "      <td>Jennifer</td>\n",
              "      <td>Lawrence</td>\n",
              "      <td>f</td>\n",
              "    </tr>\n",
              "    <tr>\n",
              "      <th>4</th>\n",
              "      <td>630110230</td>\n",
              "      <td>Angelina</td>\n",
              "      <td>Jolie</td>\n",
              "      <td>f</td>\n",
              "    </tr>\n",
              "  </tbody>\n",
              "</table>\n",
              "</div>"
            ],
            "text/plain": [
              "        Std_id  Std_name Std_surname Std_gender\n",
              "0  61011221111    olarik     surinta          m\n",
              "3    630110230  Suwichai       Punsa          m\n",
              "2    620110120    Suwich    Tirakoat          m\n",
              "1   6210012001  Kaveepoj  Bunluewong          m\n",
              "5    630120430  Jennifer    Lawrence          f\n",
              "4    630110230  Angelina       Jolie          f"
            ]
          },
          "metadata": {
            "tags": []
          },
          "execution_count": 131
        }
      ]
    },
    {
      "cell_type": "code",
      "metadata": {
        "id": "SIU6nPKPuhZA",
        "colab_type": "code",
        "outputId": "99a5d136-164b-4c1c-d99f-1bf37a0d1643",
        "colab": {
          "base_uri": "https://localhost:8080/",
          "height": 238
        }
      },
      "source": [
        "df_std.sort_values(by='Std_name', ascending=True)"
      ],
      "execution_count": 0,
      "outputs": [
        {
          "output_type": "execute_result",
          "data": {
            "text/html": [
              "<div>\n",
              "<style scoped>\n",
              "    .dataframe tbody tr th:only-of-type {\n",
              "        vertical-align: middle;\n",
              "    }\n",
              "\n",
              "    .dataframe tbody tr th {\n",
              "        vertical-align: top;\n",
              "    }\n",
              "\n",
              "    .dataframe thead th {\n",
              "        text-align: right;\n",
              "    }\n",
              "</style>\n",
              "<table border=\"1\" class=\"dataframe\">\n",
              "  <thead>\n",
              "    <tr style=\"text-align: right;\">\n",
              "      <th></th>\n",
              "      <th>Std_id</th>\n",
              "      <th>Std_name</th>\n",
              "      <th>Std_surname</th>\n",
              "      <th>Std_gender</th>\n",
              "    </tr>\n",
              "  </thead>\n",
              "  <tbody>\n",
              "    <tr>\n",
              "      <th>4</th>\n",
              "      <td>630110230</td>\n",
              "      <td>Angelina</td>\n",
              "      <td>Jolie</td>\n",
              "      <td>f</td>\n",
              "    </tr>\n",
              "    <tr>\n",
              "      <th>5</th>\n",
              "      <td>630120430</td>\n",
              "      <td>Jennifer</td>\n",
              "      <td>Lawrence</td>\n",
              "      <td>f</td>\n",
              "    </tr>\n",
              "    <tr>\n",
              "      <th>1</th>\n",
              "      <td>6210012001</td>\n",
              "      <td>Kaveepoj</td>\n",
              "      <td>Bunluewong</td>\n",
              "      <td>m</td>\n",
              "    </tr>\n",
              "    <tr>\n",
              "      <th>2</th>\n",
              "      <td>620110120</td>\n",
              "      <td>Suwich</td>\n",
              "      <td>Tirakoat</td>\n",
              "      <td>m</td>\n",
              "    </tr>\n",
              "    <tr>\n",
              "      <th>3</th>\n",
              "      <td>630110230</td>\n",
              "      <td>Suwichai</td>\n",
              "      <td>Punsa</td>\n",
              "      <td>m</td>\n",
              "    </tr>\n",
              "    <tr>\n",
              "      <th>0</th>\n",
              "      <td>61011221111</td>\n",
              "      <td>olarik</td>\n",
              "      <td>surinta</td>\n",
              "      <td>m</td>\n",
              "    </tr>\n",
              "  </tbody>\n",
              "</table>\n",
              "</div>"
            ],
            "text/plain": [
              "        Std_id  Std_name Std_surname Std_gender\n",
              "4    630110230  Angelina       Jolie          f\n",
              "5    630120430  Jennifer    Lawrence          f\n",
              "1   6210012001  Kaveepoj  Bunluewong          m\n",
              "2    620110120    Suwich    Tirakoat          m\n",
              "3    630110230  Suwichai       Punsa          m\n",
              "0  61011221111    olarik     surinta          m"
            ]
          },
          "metadata": {
            "tags": []
          },
          "execution_count": 132
        }
      ]
    },
    {
      "cell_type": "code",
      "metadata": {
        "id": "eppMFISWujlY",
        "colab_type": "code",
        "outputId": "6819c2fc-78b8-4344-c184-cce93123184f",
        "colab": {
          "base_uri": "https://localhost:8080/",
          "height": 238
        }
      },
      "source": [
        "df_std.sort_values(by=['Std_name','Std_surname'])"
      ],
      "execution_count": 0,
      "outputs": [
        {
          "output_type": "execute_result",
          "data": {
            "text/html": [
              "<div>\n",
              "<style scoped>\n",
              "    .dataframe tbody tr th:only-of-type {\n",
              "        vertical-align: middle;\n",
              "    }\n",
              "\n",
              "    .dataframe tbody tr th {\n",
              "        vertical-align: top;\n",
              "    }\n",
              "\n",
              "    .dataframe thead th {\n",
              "        text-align: right;\n",
              "    }\n",
              "</style>\n",
              "<table border=\"1\" class=\"dataframe\">\n",
              "  <thead>\n",
              "    <tr style=\"text-align: right;\">\n",
              "      <th></th>\n",
              "      <th>Std_id</th>\n",
              "      <th>Std_name</th>\n",
              "      <th>Std_surname</th>\n",
              "      <th>Std_gender</th>\n",
              "    </tr>\n",
              "  </thead>\n",
              "  <tbody>\n",
              "    <tr>\n",
              "      <th>4</th>\n",
              "      <td>630110230</td>\n",
              "      <td>Angelina</td>\n",
              "      <td>Jolie</td>\n",
              "      <td>f</td>\n",
              "    </tr>\n",
              "    <tr>\n",
              "      <th>5</th>\n",
              "      <td>630120430</td>\n",
              "      <td>Jennifer</td>\n",
              "      <td>Lawrence</td>\n",
              "      <td>f</td>\n",
              "    </tr>\n",
              "    <tr>\n",
              "      <th>1</th>\n",
              "      <td>6210012001</td>\n",
              "      <td>Kaveepoj</td>\n",
              "      <td>Bunluewong</td>\n",
              "      <td>m</td>\n",
              "    </tr>\n",
              "    <tr>\n",
              "      <th>2</th>\n",
              "      <td>620110120</td>\n",
              "      <td>Suwich</td>\n",
              "      <td>Tirakoat</td>\n",
              "      <td>m</td>\n",
              "    </tr>\n",
              "    <tr>\n",
              "      <th>3</th>\n",
              "      <td>630110230</td>\n",
              "      <td>Suwichai</td>\n",
              "      <td>Punsa</td>\n",
              "      <td>m</td>\n",
              "    </tr>\n",
              "    <tr>\n",
              "      <th>0</th>\n",
              "      <td>61011221111</td>\n",
              "      <td>olarik</td>\n",
              "      <td>surinta</td>\n",
              "      <td>m</td>\n",
              "    </tr>\n",
              "  </tbody>\n",
              "</table>\n",
              "</div>"
            ],
            "text/plain": [
              "        Std_id  Std_name Std_surname Std_gender\n",
              "4    630110230  Angelina       Jolie          f\n",
              "5    630120430  Jennifer    Lawrence          f\n",
              "1   6210012001  Kaveepoj  Bunluewong          m\n",
              "2    620110120    Suwich    Tirakoat          m\n",
              "3    630110230  Suwichai       Punsa          m\n",
              "0  61011221111    olarik     surinta          m"
            ]
          },
          "metadata": {
            "tags": []
          },
          "execution_count": 142
        }
      ]
    },
    {
      "cell_type": "code",
      "metadata": {
        "id": "3IRXZiO1uzIa",
        "colab_type": "code",
        "outputId": "54333b2d-0574-4b8d-9a11-3e9044628aad",
        "colab": {
          "base_uri": "https://localhost:8080/",
          "height": 238
        }
      },
      "source": [
        "df_std.sort_values(by=['Std_name','Std_surname'], ascending=True)"
      ],
      "execution_count": 0,
      "outputs": [
        {
          "output_type": "execute_result",
          "data": {
            "text/html": [
              "<div>\n",
              "<style scoped>\n",
              "    .dataframe tbody tr th:only-of-type {\n",
              "        vertical-align: middle;\n",
              "    }\n",
              "\n",
              "    .dataframe tbody tr th {\n",
              "        vertical-align: top;\n",
              "    }\n",
              "\n",
              "    .dataframe thead th {\n",
              "        text-align: right;\n",
              "    }\n",
              "</style>\n",
              "<table border=\"1\" class=\"dataframe\">\n",
              "  <thead>\n",
              "    <tr style=\"text-align: right;\">\n",
              "      <th></th>\n",
              "      <th>Std_id</th>\n",
              "      <th>Std_name</th>\n",
              "      <th>Std_surname</th>\n",
              "      <th>Std_gender</th>\n",
              "    </tr>\n",
              "  </thead>\n",
              "  <tbody>\n",
              "    <tr>\n",
              "      <th>4</th>\n",
              "      <td>630110230</td>\n",
              "      <td>Angelina</td>\n",
              "      <td>Jolie</td>\n",
              "      <td>f</td>\n",
              "    </tr>\n",
              "    <tr>\n",
              "      <th>5</th>\n",
              "      <td>630120430</td>\n",
              "      <td>Jennifer</td>\n",
              "      <td>Lawrence</td>\n",
              "      <td>f</td>\n",
              "    </tr>\n",
              "    <tr>\n",
              "      <th>1</th>\n",
              "      <td>6210012001</td>\n",
              "      <td>Kaveepoj</td>\n",
              "      <td>Bunluewong</td>\n",
              "      <td>m</td>\n",
              "    </tr>\n",
              "    <tr>\n",
              "      <th>2</th>\n",
              "      <td>620110120</td>\n",
              "      <td>Suwich</td>\n",
              "      <td>Tirakoat</td>\n",
              "      <td>m</td>\n",
              "    </tr>\n",
              "    <tr>\n",
              "      <th>3</th>\n",
              "      <td>630110230</td>\n",
              "      <td>Suwichai</td>\n",
              "      <td>Punsa</td>\n",
              "      <td>m</td>\n",
              "    </tr>\n",
              "    <tr>\n",
              "      <th>0</th>\n",
              "      <td>61011221111</td>\n",
              "      <td>olarik</td>\n",
              "      <td>surinta</td>\n",
              "      <td>m</td>\n",
              "    </tr>\n",
              "  </tbody>\n",
              "</table>\n",
              "</div>"
            ],
            "text/plain": [
              "        Std_id  Std_name Std_surname Std_gender\n",
              "4    630110230  Angelina       Jolie          f\n",
              "5    630120430  Jennifer    Lawrence          f\n",
              "1   6210012001  Kaveepoj  Bunluewong          m\n",
              "2    620110120    Suwich    Tirakoat          m\n",
              "3    630110230  Suwichai       Punsa          m\n",
              "0  61011221111    olarik     surinta          m"
            ]
          },
          "metadata": {
            "tags": []
          },
          "execution_count": 140
        }
      ]
    },
    {
      "cell_type": "markdown",
      "metadata": {
        "id": "QwYYB0ZiviDx",
        "colab_type": "text"
      },
      "source": [
        "## สร้างฟังก์ชันเพื่อใช้งานฐานข้อมูล"
      ]
    },
    {
      "cell_type": "code",
      "metadata": {
        "id": "m3EaJwSEvKnP",
        "colab_type": "code",
        "colab": {}
      },
      "source": [
        "import mysql.connector\n",
        "\n",
        "#ฟังก์ชันการเชื่อมต่อ (connect) ฐานข้อมูล\n",
        "\n",
        "def mysql_connect():\n",
        "  try:\n",
        "    connection = mysql.connector.connect(\n",
        "        host='remotemysql.com',\n",
        "        user='3TzFLANO01',\n",
        "        passwd='BaKnPRUzfy'\n",
        "    )\n",
        "    print('Connected MySQL...')\n",
        "    return connection\n",
        "  except:\n",
        "    print('Please check: host/user/passwd')\n",
        "\n",
        "\n",
        "#ฟังก์ชันการแสดงรายชื่อฐานข้อมูล\n",
        "def mysql_show_database(connection):\n",
        "  cursor = connection.cursor()\n",
        "  cursor.execute('show databases')\n",
        "  print('No. of database', len(cursor.fetchall())-1)\n",
        "  \n",
        "  cursor.execute('show databases')   \n",
        "  for x in cursor:\n",
        "    print(x[0])\n",
        "  \n",
        "  return cursor\n",
        "\n",
        "def mysql_connect_database(db_name):\n",
        "  try:\n",
        "    connection = mysql.connector.connect(\n",
        "        host='remotemysql.com',\n",
        "        user='3TzFLANO01',\n",
        "        passwd='BaKnPRUzfy',\n",
        "        database=db_name\n",
        "    )\n",
        "    print('Connected MySQL...')\n",
        "    print('Used database:', db_name)\n",
        "    return connection\n",
        "  except:\n",
        "    print('Please check: host/user/passwd')  "
      ],
      "execution_count": 0,
      "outputs": []
    },
    {
      "cell_type": "markdown",
      "metadata": {
        "id": "9ZafBdt_2dab",
        "colab_type": "text"
      },
      "source": [
        "### การเรียกใช้ฟังก์ชัน"
      ]
    },
    {
      "cell_type": "code",
      "metadata": {
        "id": "q3yQLK3A2gA8",
        "colab_type": "code",
        "outputId": "51749763-d34e-44c7-b5c1-01f8cc66aa0d",
        "colab": {
          "base_uri": "https://localhost:8080/",
          "height": 34
        }
      },
      "source": [
        "# calling function\n",
        "connection = mysql_connect()"
      ],
      "execution_count": 0,
      "outputs": [
        {
          "output_type": "stream",
          "text": [
            "Connected MySQL...\n"
          ],
          "name": "stdout"
        }
      ]
    },
    {
      "cell_type": "code",
      "metadata": {
        "id": "OUA5U0KHx0zJ",
        "colab_type": "code",
        "outputId": "9538822c-8e8c-44a2-c32e-2a33c813eac3",
        "colab": {
          "base_uri": "https://localhost:8080/",
          "height": 86
        }
      },
      "source": [
        "# เรียกใช้ฟังก์ชันเพื่อแสดงรายชื่อฐานข้อมูล\n",
        "connection = mysql_connect()\n",
        "cursor = mysql_show_database(connection)"
      ],
      "execution_count": 0,
      "outputs": [
        {
          "output_type": "stream",
          "text": [
            "Connected MySQL...\n",
            "No. of database 1\n",
            "bytearray(b'3TzFLANO01')\n",
            "bytearray(b'information_schema')\n"
          ],
          "name": "stdout"
        }
      ]
    },
    {
      "cell_type": "markdown",
      "metadata": {
        "id": "KH3YP-lD231W",
        "colab_type": "text"
      },
      "source": [
        "แสดงข้อมูลของแต่ละ Table"
      ]
    },
    {
      "cell_type": "code",
      "metadata": {
        "id": "KQKZuYRzykut",
        "colab_type": "code",
        "outputId": "729c14b0-1143-4c96-eb70-ea4c5007d27b",
        "colab": {
          "base_uri": "https://localhost:8080/",
          "height": 69
        }
      },
      "source": [
        "connection = mysql_connect_database('3TzFLANO01')\n",
        "mycursor = connection.cursor()\n",
        "mycursor.execute('show tables')\n",
        "\n",
        "for x in mycursor:\n",
        "  print(x[0])\n"
      ],
      "execution_count": 0,
      "outputs": [
        {
          "output_type": "stream",
          "text": [
            "Connected MySQL...\n",
            "Used database: 3TzFLANO01\n",
            "bytearray(b'Student')\n"
          ],
          "name": "stdout"
        }
      ]
    },
    {
      "cell_type": "code",
      "metadata": {
        "id": "bvJqfKh326T6",
        "colab_type": "code",
        "outputId": "ac742aae-b636-4e13-b139-b771f73bc6b3",
        "colab": {
          "base_uri": "https://localhost:8080/",
          "height": 238
        }
      },
      "source": [
        "import pandas as pd\n",
        "\n",
        "mycursor.execute('select * from Student')\n",
        "show_data = mycursor.fetchall()\n",
        "\n",
        "df_std = pd.DataFrame(show_data, columns = mycursor.column_names)\n",
        "df_std"
      ],
      "execution_count": 0,
      "outputs": [
        {
          "output_type": "execute_result",
          "data": {
            "text/html": [
              "<div>\n",
              "<style scoped>\n",
              "    .dataframe tbody tr th:only-of-type {\n",
              "        vertical-align: middle;\n",
              "    }\n",
              "\n",
              "    .dataframe tbody tr th {\n",
              "        vertical-align: top;\n",
              "    }\n",
              "\n",
              "    .dataframe thead th {\n",
              "        text-align: right;\n",
              "    }\n",
              "</style>\n",
              "<table border=\"1\" class=\"dataframe\">\n",
              "  <thead>\n",
              "    <tr style=\"text-align: right;\">\n",
              "      <th></th>\n",
              "      <th>Std_id</th>\n",
              "      <th>Std_name</th>\n",
              "      <th>Std_surname</th>\n",
              "      <th>Std_gender</th>\n",
              "    </tr>\n",
              "  </thead>\n",
              "  <tbody>\n",
              "    <tr>\n",
              "      <th>0</th>\n",
              "      <td>61011221111</td>\n",
              "      <td>olarik</td>\n",
              "      <td>surinta</td>\n",
              "      <td>m</td>\n",
              "    </tr>\n",
              "    <tr>\n",
              "      <th>1</th>\n",
              "      <td>6210012001</td>\n",
              "      <td>Kaveepoj</td>\n",
              "      <td>Bunluewong</td>\n",
              "      <td>m</td>\n",
              "    </tr>\n",
              "    <tr>\n",
              "      <th>2</th>\n",
              "      <td>620110120</td>\n",
              "      <td>Suwich</td>\n",
              "      <td>Tirakoat</td>\n",
              "      <td>m</td>\n",
              "    </tr>\n",
              "    <tr>\n",
              "      <th>3</th>\n",
              "      <td>630110230</td>\n",
              "      <td>Suwichai</td>\n",
              "      <td>Punsa</td>\n",
              "      <td>m</td>\n",
              "    </tr>\n",
              "    <tr>\n",
              "      <th>4</th>\n",
              "      <td>630110230</td>\n",
              "      <td>Angelina</td>\n",
              "      <td>Jolie</td>\n",
              "      <td>f</td>\n",
              "    </tr>\n",
              "    <tr>\n",
              "      <th>5</th>\n",
              "      <td>630120430</td>\n",
              "      <td>Jennifer</td>\n",
              "      <td>Lawrence</td>\n",
              "      <td>f</td>\n",
              "    </tr>\n",
              "  </tbody>\n",
              "</table>\n",
              "</div>"
            ],
            "text/plain": [
              "        Std_id  Std_name Std_surname Std_gender\n",
              "0  61011221111    olarik     surinta          m\n",
              "1   6210012001  Kaveepoj  Bunluewong          m\n",
              "2    620110120    Suwich    Tirakoat          m\n",
              "3    630110230  Suwichai       Punsa          m\n",
              "4    630110230  Angelina       Jolie          f\n",
              "5    630120430  Jennifer    Lawrence          f"
            ]
          },
          "metadata": {
            "tags": []
          },
          "execution_count": 26
        }
      ]
    },
    {
      "cell_type": "code",
      "metadata": {
        "id": "uROQwcrO2piE",
        "colab_type": "code",
        "colab": {}
      },
      "source": [
        ""
      ],
      "execution_count": 0,
      "outputs": []
    }
  ]
}
