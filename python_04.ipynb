{
  "nbformat": 4,
  "nbformat_minor": 0,
  "metadata": {
    "colab": {
      "name": "python-04.ipynb",
      "provenance": [],
      "collapsed_sections": []
    },
    "kernelspec": {
      "name": "python3",
      "display_name": "Python 3"
    }
  },
  "cells": [
    {
      "cell_type": "markdown",
      "metadata": {
        "id": "JtObAZpJm6AZ",
        "colab_type": "text"
      },
      "source": [
        "# Dictionary & JSON"
      ]
    },
    {
      "cell_type": "markdown",
      "metadata": {
        "id": "RYiORbfzpMj6",
        "colab_type": "text"
      },
      "source": [
        "## ตัวแปรประเภท Dictionary & JSON"
      ]
    },
    {
      "cell_type": "markdown",
      "metadata": {
        "id": "P0yMX7zWkZQ-",
        "colab_type": "text"
      },
      "source": [
        "### ตัวแปรประเภท Dictionary\n",
        "\n",
        "การกำหนดตัวแปรประเภท Dictionary  \n",
        "\n",
        "\n",
        "ตัวอย่างแรก\n",
        "```\n",
        "var ={\n",
        "  <key 1>: <value1 >,\n",
        "  <key 2>: <value 2>,\n",
        "  ...\n",
        "  <key N>: <value N>\n",
        "}\n",
        "```\n",
        "\n",
        "ตัวอย่างที่สอง\n",
        "```\n",
        "var ={\n",
        "  <key 1>: <value1 >,\n",
        "  <key 2>: <[value 2, value3]>,\n",
        "  ...\n",
        "  <key N>: <value N>\n",
        "}\n",
        "```"
      ]
    },
    {
      "cell_type": "markdown",
      "metadata": {
        "id": "AQSQREQlo_93",
        "colab_type": "text"
      },
      "source": [
        "### ตัวแปรประเภท JSON\n",
        "\n",
        "JSON เป็นตัวแปรประเภท Object  การกำหนดตัวแปรประเภท JSON ทำได้ดังนี้\n",
        "\n",
        "\n",
        " ตัวอย่างแรก\n",
        "```\n",
        "{\n",
        "  <key 1>: <value 1>,\n",
        "  <key 2>: <value 2>,\n",
        "  ...\n",
        "  <key N>: <value N>\n",
        "}\n",
        "\n",
        "```\n",
        "\n",
        "ตัวอย่างที่สอง\n",
        "```\n",
        "{\n",
        "  <key 1>: <value 1>,\n",
        "  <key 2>: <value 2>,\n",
        "  ...\n",
        "  <key N>: [\n",
        "    {\n",
        "      <key 1>: <value 3>,\n",
        "      <key 2>: <value 4>,\n",
        "    },\n",
        "    {\n",
        "      <key 1>: <value 5>,\n",
        "      <key 2>: <value 6>\n",
        "    }\n",
        "  ]\n",
        "}\n",
        "\n",
        "```"
      ]
    },
    {
      "cell_type": "markdown",
      "metadata": {
        "id": "wyb95kM4oMAC",
        "colab_type": "text"
      },
      "source": [
        "### การกำหนดตัวแปร Dictionary"
      ]
    },
    {
      "cell_type": "markdown",
      "metadata": {
        "id": "UiLuaSbqpZO5",
        "colab_type": "text"
      },
      "source": [
        "#### การสร้าง Dictionary ว่าง"
      ]
    },
    {
      "cell_type": "code",
      "metadata": {
        "id": "dZ3L6xggm1R7",
        "colab_type": "code",
        "outputId": "f633225d-0e80-4a8d-81f2-a689e22dcf26",
        "colab": {
          "base_uri": "https://localhost:8080/",
          "height": 86
        }
      },
      "source": [
        "std_info = {}\n",
        "print(type(std_info))\n",
        "print(std_info)\n",
        "\n",
        "# or\n",
        "\n",
        "std_info = dict()\n",
        "print(type(std_info))\n",
        "print(std_info)"
      ],
      "execution_count": 0,
      "outputs": [
        {
          "output_type": "stream",
          "text": [
            "<class 'dict'>\n",
            "{}\n",
            "<class 'dict'>\n",
            "{}\n"
          ],
          "name": "stdout"
        }
      ]
    },
    {
      "cell_type": "markdown",
      "metadata": {
        "id": "4mr_RYimpgHb",
        "colab_type": "text"
      },
      "source": [
        "#### การกำหนดข้อมูลให้กับ Dictionary"
      ]
    },
    {
      "cell_type": "code",
      "metadata": {
        "id": "tKMWBb45onYF",
        "colab_type": "code",
        "outputId": "79c0b302-5e46-4d1d-bbc3-7180ba504c69",
        "colab": {
          "base_uri": "https://localhost:8080/",
          "height": 52
        }
      },
      "source": [
        "std_info = {\n",
        "    'Name' : 'Wichulada',\n",
        "    'Dep' : 'Information Technology',\n",
        "    'Height' : 160,\n",
        "    'Weight' : 45.5\n",
        "}\n",
        "\n",
        "print(type(std_info))\n",
        "print(std_info)"
      ],
      "execution_count": 0,
      "outputs": [
        {
          "output_type": "stream",
          "text": [
            "<class 'dict'>\n",
            "{'Name': 'Wichulada', 'Dep': 'Information Technology', 'Height': 160, 'Weight': 45.5}\n"
          ],
          "name": "stdout"
        }
      ]
    },
    {
      "cell_type": "markdown",
      "metadata": {
        "id": "zrk7haNkuUmQ",
        "colab_type": "text"
      },
      "source": [
        "#### การแสดงข้อมูลใน Dictionary"
      ]
    },
    {
      "cell_type": "code",
      "metadata": {
        "id": "Nydjts8fuKmQ",
        "colab_type": "code",
        "outputId": "b1e6506f-b510-429c-8117-7d8b0bf0c60d",
        "colab": {
          "base_uri": "https://localhost:8080/",
          "height": 54
        }
      },
      "source": [
        "std_info = {\n",
        "    'Name' : 'Wichulada',\n",
        "    'Dep' : 'Information Technology',\n",
        "    'Height' : 160,\n",
        "    'Weight' : 45.5\n",
        "}\n",
        "\n",
        "print(std_info.items())"
      ],
      "execution_count": 0,
      "outputs": [
        {
          "output_type": "stream",
          "text": [
            "dict_items([('Name', 'Wichulada'), ('Dep', 'Information Technology'), ('Height', 160), ('Weight', 45.5)])\n"
          ],
          "name": "stdout"
        }
      ]
    },
    {
      "cell_type": "code",
      "metadata": {
        "id": "vC2wm4teuyEC",
        "colab_type": "code",
        "outputId": "64cfa4cf-12be-4eb9-c154-e3f1c12afe92",
        "colab": {
          "base_uri": "https://localhost:8080/",
          "height": 52
        }
      },
      "source": [
        "print(std_info['Name'])\n",
        "print(std_info['Dep'])"
      ],
      "execution_count": 0,
      "outputs": [
        {
          "output_type": "stream",
          "text": [
            "Wichulada\n",
            "Information Technology\n"
          ],
          "name": "stdout"
        }
      ]
    },
    {
      "cell_type": "code",
      "metadata": {
        "id": "7zrx9xWGwAMi",
        "colab_type": "code",
        "outputId": "636a394c-75a3-4f87-ae8b-0b43243916b9",
        "colab": {
          "base_uri": "https://localhost:8080/",
          "height": 86
        }
      },
      "source": [
        "for std in std_info:\n",
        "  print(std,':', std_info[std])"
      ],
      "execution_count": 0,
      "outputs": [
        {
          "output_type": "stream",
          "text": [
            "Name : Wichulada\n",
            "Dep : Information Technology\n",
            "Height : 160\n",
            "Weight : 45.5\n"
          ],
          "name": "stdout"
        }
      ]
    },
    {
      "cell_type": "code",
      "metadata": {
        "id": "sAyzn_d4wO3l",
        "colab_type": "code",
        "outputId": "85bb8bb6-fa7e-4b80-be14-9b0be12a3cea",
        "colab": {
          "base_uri": "https://localhost:8080/",
          "height": 89
        }
      },
      "source": [
        "std_info = {\n",
        "    'std1' : \n",
        "      {\n",
        "        'Name' : 'Wichulada',\n",
        "        'Dep' : 'Information Technology',\n",
        "        'Height' : 160,\n",
        "      'Weight' : 45.5\n",
        "      },\n",
        "    'std2' : \n",
        "      {\n",
        "        'Name' : 'Wichulada',\n",
        "        'Dep' : 'Information Technology',\n",
        "        'Height' : 160,\n",
        "      'Weight' : 45.5\n",
        "      }      \n",
        "}\n",
        "\n",
        "print(std_info)\n",
        "print(std_info['std1'])\n",
        "\n",
        "# ไมแสดงผลลัพธ์ของ 'std2'\n",
        "print(std_info['std2'])"
      ],
      "execution_count": 0,
      "outputs": [
        {
          "output_type": "stream",
          "text": [
            "{'std1': {'Name': 'Wichulada', 'Dep': 'Information Technology', 'Height': 160, 'Weight': 45.5}, 'std2': {'Name': 'Wichulada', 'Dep': 'Information Technology', 'Height': 160, 'Weight': 45.5}}\n",
            "{'Name': 'Wichulada', 'Dep': 'Information Technology', 'Height': 160, 'Weight': 45.5}\n",
            "{'Name': 'Wichulada', 'Dep': 'Information Technology', 'Height': 160, 'Weight': 45.5}\n"
          ],
          "name": "stdout"
        }
      ]
    },
    {
      "cell_type": "code",
      "metadata": {
        "id": "kB3EgUdwxTWL",
        "colab_type": "code",
        "outputId": "61f41e51-89f7-4a1e-f87f-ddd210a14972",
        "colab": {
          "base_uri": "https://localhost:8080/",
          "height": 225
        }
      },
      "source": [
        "for std in std_info:\n",
        "  print(std)\n",
        "  for info in std_info[std]:\n",
        "    print(info,':',std_info[std][info])\n",
        "  print()"
      ],
      "execution_count": 0,
      "outputs": [
        {
          "output_type": "stream",
          "text": [
            "std1\n",
            "Name : Wichulada\n",
            "Dep : Information Technology\n",
            "Height : 160\n",
            "Weight : 45.5\n",
            "\n",
            "std2\n",
            "Name : Wichulada\n",
            "Dep : Information Technology\n",
            "Height : 160\n",
            "Weight : 45.5\n",
            "\n"
          ],
          "name": "stdout"
        }
      ]
    },
    {
      "cell_type": "code",
      "metadata": {
        "id": "zuWa8NVrx42Y",
        "colab_type": "code",
        "outputId": "3e97f120-1b43-4776-fa16-79cc21749613",
        "colab": {
          "base_uri": "https://localhost:8080/",
          "height": 225
        }
      },
      "source": [
        "for key, std in std_info.items():\n",
        "  print(key)\n",
        "  for attr, value in std.items():\n",
        "    print(attr, ':', value)\n",
        "  print()"
      ],
      "execution_count": 0,
      "outputs": [
        {
          "output_type": "stream",
          "text": [
            "std1\n",
            "Name : Wichulada\n",
            "Dep : Information Technology\n",
            "Height : 160\n",
            "Weight : 45.5\n",
            "\n",
            "std2\n",
            "Name : Wichulada\n",
            "Dep : Information Technology\n",
            "Height : 160\n",
            "Weight : 45.5\n",
            "\n"
          ],
          "name": "stdout"
        }
      ]
    },
    {
      "cell_type": "code",
      "metadata": {
        "id": "P1bXM6GyyWbo",
        "colab_type": "code",
        "outputId": "b781eda7-d01d-493e-89a8-c1e1c61d3652",
        "colab": {
          "base_uri": "https://localhost:8080/",
          "height": 191
        }
      },
      "source": [
        "import pprint\n",
        "\n",
        "pprint.pprint(std_info, width=1)"
      ],
      "execution_count": 0,
      "outputs": [
        {
          "output_type": "stream",
          "text": [
            "{'std1': {'Dep': 'Information '\n",
            "                 'Technology',\n",
            "          'Height': 160,\n",
            "          'Name': 'Wichulada',\n",
            "          'Weight': 45.5},\n",
            " 'std2': {'Dep': 'Information '\n",
            "                 'Technology',\n",
            "          'Height': 160,\n",
            "          'Name': 'Wichulada',\n",
            "          'Weight': 45.5}}\n"
          ],
          "name": "stdout"
        }
      ]
    },
    {
      "cell_type": "markdown",
      "metadata": {
        "id": "s_mHhwUozQeF",
        "colab_type": "text"
      },
      "source": [
        "### การแสดงข้อมูลใน Dictionary *เพิ่มเติม*"
      ]
    },
    {
      "cell_type": "code",
      "metadata": {
        "id": "EPk0bC0nzJw_",
        "colab_type": "code",
        "colab": {}
      },
      "source": [
        "std_info = {\n",
        "    'Name' : 'Wichulada',\n",
        "    'Dep' : 'Information Technology',\n",
        "    'Height' : 160,\n",
        "    'Weight' : 45.5\n",
        "}"
      ],
      "execution_count": 0,
      "outputs": []
    },
    {
      "cell_type": "code",
      "metadata": {
        "id": "3fFERTdbzmdj",
        "colab_type": "code",
        "outputId": "386ec9fd-5edb-4d52-d200-22ef730cd05a",
        "colab": {
          "base_uri": "https://localhost:8080/",
          "height": 121
        }
      },
      "source": [
        "# แสดง Key \n",
        "print(std_info.keys())\n",
        "print()\n",
        "\n",
        "for key in std_info.keys():\n",
        "  print(key)"
      ],
      "execution_count": 0,
      "outputs": [
        {
          "output_type": "stream",
          "text": [
            "dict_keys(['Name', 'Dep', 'Height', 'Weight'])\n",
            "\n",
            "Name\n",
            "Dep\n",
            "Height\n",
            "Weight\n"
          ],
          "name": "stdout"
        }
      ]
    },
    {
      "cell_type": "code",
      "metadata": {
        "id": "t-36BYgB0cG1",
        "colab_type": "code",
        "outputId": "a81fa770-f422-4c0a-b71f-064b93f99d18",
        "colab": {
          "base_uri": "https://localhost:8080/",
          "height": 121
        }
      },
      "source": [
        "# แสดงข้อมูลทั้งหมด\n",
        "print('Key: Value')\n",
        "print('==========')\n",
        "for key, value in std_info.items():\n",
        "  print(key, ':', str(value))"
      ],
      "execution_count": 0,
      "outputs": [
        {
          "output_type": "stream",
          "text": [
            "Key: Value\n",
            "==========\n",
            "Name : Wichulada\n",
            "Dep : Information Technology\n",
            "Height : 160\n",
            "Weight : 45.5\n"
          ],
          "name": "stdout"
        }
      ]
    },
    {
      "cell_type": "code",
      "metadata": {
        "id": "z7owI1rg05Fq",
        "colab_type": "code",
        "colab": {}
      },
      "source": [
        "std_info = {\n",
        "    'Name' : 'Wichulada',\n",
        "    'Dep' : 'Information Technology',\n",
        "    'Height' : 160,\n",
        "    'Weight' : 45.5,\n",
        "    'Hobbie' : [\n",
        "                {                    \n",
        "                    'movie' : 'Ocean 11',\n",
        "                    'book' : 'inception'                    \n",
        "                },\n",
        "                {\n",
        "                    'outdoor' : 'football',\n",
        "                    'indoor' : 'basketball'\n",
        "                }\n",
        "    ]\n",
        "}"
      ],
      "execution_count": 0,
      "outputs": []
    },
    {
      "cell_type": "code",
      "metadata": {
        "id": "ONAf70uW1Aks",
        "colab_type": "code",
        "outputId": "befabe65-209f-4451-dfbf-7be7297a5c82",
        "colab": {
          "base_uri": "https://localhost:8080/",
          "height": 139
        }
      },
      "source": [
        "# แสดงข้อมูลทั้งหมด\n",
        "print('Key: Value')\n",
        "print('==========')\n",
        "for key, value in std_info.items():\n",
        "  print(key, ':', str(value))"
      ],
      "execution_count": 0,
      "outputs": [
        {
          "output_type": "stream",
          "text": [
            "Key: Value\n",
            "==========\n",
            "Name : Wichulada\n",
            "Dep : Information Technology\n",
            "Height : 160\n",
            "Weight : 45.5\n",
            "Hobbie : [{'movie': 'Ocean 11', 'book': 'inception'}, {'outdoor': 'football', 'indoor': 'basketball'}]\n"
          ],
          "name": "stdout"
        }
      ]
    },
    {
      "cell_type": "code",
      "metadata": {
        "id": "_IkllaMt2BA2",
        "colab_type": "code",
        "outputId": "3ec943cb-fee5-4770-dc33-fe0874c14ffe",
        "colab": {
          "base_uri": "https://localhost:8080/",
          "height": 243
        }
      },
      "source": [
        "# แสดงข้อมูลทั้งหมด\n",
        "print('Key: Value')\n",
        "print('==========')\n",
        "for key, value in std_info.items():\n",
        "  if type(value) is list:\n",
        "    print(key,':')\n",
        "    for val in value:\n",
        "      for v in val:\n",
        "        print('  ', v,':', val[v])\n",
        "      print()\n",
        "  else:\n",
        "    print(key, ':', str(value))\n"
      ],
      "execution_count": 0,
      "outputs": [
        {
          "output_type": "stream",
          "text": [
            "Key: Value\n",
            "==========\n",
            "Name : Wichulada\n",
            "Dep : Information Technology\n",
            "Height : 160\n",
            "Weight : 45.5\n",
            "Hobbie :\n",
            "   movie : Ocean 11\n",
            "   book : inception\n",
            "\n",
            "   outdoor : football\n",
            "   indoor : basketball\n",
            "\n"
          ],
          "name": "stdout"
        }
      ]
    },
    {
      "cell_type": "markdown",
      "metadata": {
        "id": "ZyV8T9rZ9ONE",
        "colab_type": "text"
      },
      "source": [
        "### การแก้ไขข้อมูลใน Dictionary \n",
        "\n"
      ]
    },
    {
      "cell_type": "code",
      "metadata": {
        "id": "B0zijare9eLF",
        "colab_type": "code",
        "outputId": "405be1a2-d270-4db5-fe09-7fb8dafe5a7b",
        "colab": {
          "base_uri": "https://localhost:8080/",
          "height": 34
        }
      },
      "source": [
        "std_info = {\n",
        "    'Name' : 'Wichulada',\n",
        "    'Dep' : 'Information Technology',\n",
        "    'Height' : 160,\n",
        "    'Weight' : 45.5\n",
        "}\n",
        "\n",
        "print(std_info.keys())"
      ],
      "execution_count": 0,
      "outputs": [
        {
          "output_type": "stream",
          "text": [
            "dict_keys(['Name', 'Dep', 'Height', 'Weight'])\n"
          ],
          "name": "stdout"
        }
      ]
    },
    {
      "cell_type": "code",
      "metadata": {
        "id": "s_HbG9Ql9fJ5",
        "colab_type": "code",
        "colab": {}
      },
      "source": [
        "#iter(std_info).next()['Name'] = 'Olarik'\n",
        "std_info['Name'] = 'Suwichai'\n",
        "std_info['Dep'] = 'New Media'"
      ],
      "execution_count": 0,
      "outputs": []
    },
    {
      "cell_type": "code",
      "metadata": {
        "id": "pwBfZb7gHNx9",
        "colab_type": "code",
        "outputId": "84bbcc83-819b-4143-cc9c-b90221bf4ede",
        "colab": {
          "base_uri": "https://localhost:8080/",
          "height": 471
        }
      },
      "source": [
        "print(std_info)\n",
        "print()\n",
        "\n",
        "json_string = json.dumps(std_info, indent=4)\n",
        "print(json_string)"
      ],
      "execution_count": 0,
      "outputs": [
        {
          "output_type": "stream",
          "text": [
            "[{'id': 'std-001', 'Name': 'Wichulada', 'Dep': 'Information Technology', 'Height': 160, 'Weight': 45.5}, {'id': 'std-002', 'Name': 'Kaveepoj', 'Dep': 'Computer Science', 'Height': 185, 'Weight': 105}, {'id': 'std-003', 'Name': 'Suwichai', 'Dep': 'New Media', 'Height': 160, 'Weight': 50}]\n",
            "\n",
            "[\n",
            "    {\n",
            "        \"id\": \"std-001\",\n",
            "        \"Name\": \"Wichulada\",\n",
            "        \"Dep\": \"Information Technology\",\n",
            "        \"Height\": 160,\n",
            "        \"Weight\": 45.5\n",
            "    },\n",
            "    {\n",
            "        \"id\": \"std-002\",\n",
            "        \"Name\": \"Kaveepoj\",\n",
            "        \"Dep\": \"Computer Science\",\n",
            "        \"Height\": 185,\n",
            "        \"Weight\": 105\n",
            "    },\n",
            "    {\n",
            "        \"id\": \"std-003\",\n",
            "        \"Name\": \"Suwichai\",\n",
            "        \"Dep\": \"New Media\",\n",
            "        \"Height\": 160,\n",
            "        \"Weight\": 50\n",
            "    }\n",
            "]\n"
          ],
          "name": "stdout"
        }
      ]
    },
    {
      "cell_type": "markdown",
      "metadata": {
        "id": "Vb66ltkppuji",
        "colab_type": "text"
      },
      "source": [
        "### การกำหนดตัวแปร JSON"
      ]
    },
    {
      "cell_type": "code",
      "metadata": {
        "id": "gfcj_lYbqAa7",
        "colab_type": "code",
        "outputId": "cda2eb6c-cf59-40d8-9987-98d18a5c21c9",
        "colab": {
          "base_uri": "https://localhost:8080/",
          "height": 52
        }
      },
      "source": [
        "import json\n",
        "\n",
        "std_info = {\n",
        "    'Name' : 'Wichulada',\n",
        "    'Dep' : 'Information Technology',\n",
        "    'Height' : 160,\n",
        "    'Weight' : 45.5\n",
        "}\n",
        "\n",
        "json_string = json.dumps(std_info)\n",
        "print(type(json_string))\n",
        "\n",
        "print(json_string)"
      ],
      "execution_count": 0,
      "outputs": [
        {
          "output_type": "stream",
          "text": [
            "<class 'str'>\n",
            "{\"Name\": \"Wichulada\", \"Dep\": \"Information Technology\", \"Height\": 160, \"Weight\": 45.5}\n"
          ],
          "name": "stdout"
        }
      ]
    },
    {
      "cell_type": "markdown",
      "metadata": {
        "id": "aKf0SSSlreW8",
        "colab_type": "text"
      },
      "source": [
        "#### การแสดงผลข้อมูลด้วยการเยื้อง - Indent"
      ]
    },
    {
      "cell_type": "code",
      "metadata": {
        "id": "IAUfQKSmrB7B",
        "colab_type": "code",
        "outputId": "7916ba19-f90e-4b42-eba5-38d24cf3060b",
        "colab": {
          "base_uri": "https://localhost:8080/",
          "height": 121
        }
      },
      "source": [
        "json_string = json.dumps(std_info, indent=4)\n",
        "print(json_string)"
      ],
      "execution_count": 0,
      "outputs": [
        {
          "output_type": "stream",
          "text": [
            "{\n",
            "    \"Name\": \"Wichulada\",\n",
            "    \"Dep\": \"Information Technology\",\n",
            "    \"Height\": 160,\n",
            "    \"Weight\": 45.5\n",
            "}\n"
          ],
          "name": "stdout"
        }
      ]
    },
    {
      "cell_type": "markdown",
      "metadata": {
        "id": "7SVK_2jjsAf6",
        "colab_type": "text"
      },
      "source": [
        "#### เรียงลำดับการแสดงผลตาม Key - (sort)"
      ]
    },
    {
      "cell_type": "code",
      "metadata": {
        "id": "vxfzgTPcsQmU",
        "colab_type": "code",
        "outputId": "65fdff19-4004-4e5c-a348-0db5801fd6cf",
        "colab": {
          "base_uri": "https://localhost:8080/",
          "height": 121
        }
      },
      "source": [
        "json_string = json.dumps(std_info, indent=4, sort_keys=True)\n",
        "print(json_string)"
      ],
      "execution_count": 0,
      "outputs": [
        {
          "output_type": "stream",
          "text": [
            "{\n",
            "    \"Dep\": \"Information Technology\",\n",
            "    \"Height\": 160,\n",
            "    \"Name\": \"Wichulada\",\n",
            "    \"Weight\": 45.5\n",
            "}\n"
          ],
          "name": "stdout"
        }
      ]
    },
    {
      "cell_type": "markdown",
      "metadata": {
        "id": "JNCfCPvREIGd",
        "colab_type": "text"
      },
      "source": [
        "#### การแสดงผลข้อมูลใน JSON"
      ]
    },
    {
      "cell_type": "code",
      "metadata": {
        "id": "_D0WisWaEQ3h",
        "colab_type": "code",
        "outputId": "d1b4b127-f9ed-4043-c3ae-09637e3ec42a",
        "colab": {
          "base_uri": "https://localhost:8080/",
          "height": 312
        }
      },
      "source": [
        "import json\n",
        "\n",
        "std_info = {\n",
        "    'Name' : 'Wichulada',\n",
        "    'Dep' : 'Information Technology',\n",
        "    'Height' : 160,\n",
        "    'Weight' : 45.5,\n",
        "    'Hobbie' : [\n",
        "                {                    \n",
        "                    'movie' : 'Ocean 11',\n",
        "                    'book' : 'inception'                    \n",
        "                },\n",
        "                {\n",
        "                    'outdoor' : 'football',\n",
        "                    'indoor' : 'basketball'\n",
        "                }\n",
        "    ]\n",
        "}\n",
        "\n",
        "print(type(std_info))\n",
        "json_string = json.dumps(std_info, indent=4)\n",
        "print(json_string)"
      ],
      "execution_count": 0,
      "outputs": [
        {
          "output_type": "stream",
          "text": [
            "<class 'dict'>\n",
            "{\n",
            "    \"Name\": \"Wichulada\",\n",
            "    \"Dep\": \"Information Technology\",\n",
            "    \"Height\": 160,\n",
            "    \"Weight\": 45.5,\n",
            "    \"Hobbie\": [\n",
            "        {\n",
            "            \"movie\": \"Ocean 11\",\n",
            "            \"book\": \"inception\"\n",
            "        },\n",
            "        {\n",
            "            \"outdoor\": \"football\",\n",
            "            \"indoor\": \"basketball\"\n",
            "        }\n",
            "    ]\n",
            "}\n"
          ],
          "name": "stdout"
        }
      ]
    },
    {
      "cell_type": "markdown",
      "metadata": {
        "id": "Dnh-KwOLHj40",
        "colab_type": "text"
      },
      "source": [
        "## การใช้งานตัวแปรประเภท List ร่วมกับ Dictionary และ JSON\n",
        "\n",
        "\n"
      ]
    },
    {
      "cell_type": "code",
      "metadata": {
        "id": "cZo-JLyGEWxQ",
        "colab_type": "code",
        "outputId": "1da9010b-7822-439a-e440-3e17909aa17f",
        "colab": {
          "base_uri": "https://localhost:8080/",
          "height": 295
        }
      },
      "source": [
        "import json\n",
        "\n",
        "std_info = [{\n",
        "    'id' : 'std-001',\n",
        "    'Name' : 'Wichulada',\n",
        "    'Dep' : 'Information Technology',\n",
        "    'Height' : 160,\n",
        "    'Weight' : 45.5\n",
        "  },\n",
        "  {\n",
        "    'id' : 'std-002',\n",
        "    'Name' : 'Kaveepoj',\n",
        "    'Dep' : 'Computer Science',\n",
        "    'Height' : 185,\n",
        "    'Weight' : 105\n",
        "  }\n",
        "]\n",
        "\n",
        "json_string = json.dumps(std_info, indent=4)\n",
        "print(json_string)"
      ],
      "execution_count": 0,
      "outputs": [
        {
          "output_type": "stream",
          "text": [
            "[\n",
            "    {\n",
            "        \"id\": \"std-001\",\n",
            "        \"Name\": \"Wichulada\",\n",
            "        \"Dep\": \"Information Technology\",\n",
            "        \"Height\": 160,\n",
            "        \"Weight\": 45.5\n",
            "    },\n",
            "    {\n",
            "        \"id\": \"std-002\",\n",
            "        \"Name\": \"Kaveepoj\",\n",
            "        \"Dep\": \"Computer Science\",\n",
            "        \"Height\": 185,\n",
            "        \"Weight\": 105\n",
            "    }\n",
            "]\n"
          ],
          "name": "stdout"
        }
      ]
    },
    {
      "cell_type": "markdown",
      "metadata": {
        "id": "hJYs6WD_GG5A",
        "colab_type": "text"
      },
      "source": [
        "## เพิ่มข้อมูล Dictionary ลงใน List \n",
        "\n",
        "Dictionary\n",
        "```\n",
        "{\n",
        "    'id' : 'std-001',\n",
        "    'Name' : 'Wichulada',\n",
        "    'Dep' : 'Information Technology',\n",
        "    'Height' : 160,\n",
        "    'Weight' : 45.5\n",
        "  }\n",
        "```\n",
        "\n",
        "List\n",
        "```\n",
        "std_info = [\n",
        "\n",
        "]\n",
        "```\n"
      ]
    },
    {
      "cell_type": "code",
      "metadata": {
        "id": "cROvxbI7GO__",
        "colab_type": "code",
        "outputId": "b73f695a-f0f1-467a-8b78-24b83f3766c6",
        "colab": {
          "base_uri": "https://localhost:8080/",
          "height": 34
        }
      },
      "source": [
        "std_info = [{\n",
        "    'id' : 'std-001',\n",
        "    'Name' : 'Wichulada',\n",
        "    'Dep' : 'Information Technology',\n",
        "    'Height' : 160,\n",
        "    'Weight' : 45.5\n",
        "  },\n",
        "  {\n",
        "    'id' : 'std-002',\n",
        "    'Name' : 'Kaveepoj',\n",
        "    'Dep' : 'Computer Science',\n",
        "    'Height' : 185,\n",
        "    'Weight' : 105\n",
        "  }\n",
        "]\n",
        "\n",
        "print(type(std_info))"
      ],
      "execution_count": 0,
      "outputs": [
        {
          "output_type": "stream",
          "text": [
            "<class 'list'>\n"
          ],
          "name": "stdout"
        }
      ]
    },
    {
      "cell_type": "code",
      "metadata": {
        "id": "bhWGUe6iGQIp",
        "colab_type": "code",
        "colab": {}
      },
      "source": [
        "std_new =   {\n",
        "    'id' : 'std-003',\n",
        "    'Name' : 'Suwichai',\n",
        "    'Dep' : 'New Media',\n",
        "    'Height' : 160,\n",
        "    'Weight' : 50\n",
        "}\n",
        " \n",
        "std_info.append(std_new)"
      ],
      "execution_count": 0,
      "outputs": []
    },
    {
      "cell_type": "markdown",
      "metadata": {
        "id": "aY5vsOS_e3ad",
        "colab_type": "text"
      },
      "source": [
        "## การค้นหาใน Dictionary"
      ]
    },
    {
      "cell_type": "code",
      "metadata": {
        "id": "0F6p4LUocI4b",
        "colab_type": "code",
        "outputId": "5a791d7f-b8f4-4240-d144-c8145a560ddc",
        "colab": {
          "base_uri": "https://localhost:8080/",
          "height": 34
        }
      },
      "source": [
        "std_new =   {\n",
        "    'id' : 'std-003',\n",
        "    'Name' : 'Suwichai',\n",
        "    'Dep' : 'New Media',\n",
        "    'Height' : 160,\n",
        "    'Weight' : 50\n",
        "}\n",
        "\n",
        "print(type(std_new))"
      ],
      "execution_count": 0,
      "outputs": [
        {
          "output_type": "stream",
          "text": [
            "<class 'dict'>\n"
          ],
          "name": "stdout"
        }
      ]
    },
    {
      "cell_type": "code",
      "metadata": {
        "id": "U0BAuGyQcKQp",
        "colab_type": "code",
        "outputId": "98ffa81e-df8a-48fc-a296-8ad48efd101e",
        "colab": {
          "base_uri": "https://localhost:8080/",
          "height": 34
        }
      },
      "source": [
        "search = 'Suwichai'\n",
        "for idx, key in enumerate(std_new):\n",
        "  if(search in str(std_new[key])):\n",
        "    print('Found-->', key, ':', std_new[key])"
      ],
      "execution_count": 0,
      "outputs": [
        {
          "output_type": "stream",
          "text": [
            "Found--> Name : Suwichai\n"
          ],
          "name": "stdout"
        }
      ]
    },
    {
      "cell_type": "code",
      "metadata": {
        "id": "HKTh84SeeO2u",
        "colab_type": "code",
        "outputId": "4082cccd-6140-4dc7-8f89-980dd85b52fb",
        "colab": {
          "base_uri": "https://localhost:8080/",
          "height": 34
        }
      },
      "source": [
        "search = 'Suwichai'\n",
        "for idx, key in enumerate(std_new):\n",
        "  if(search == str(std_new[key])):\n",
        "    print('Found-->', key, ':', std_new[key])"
      ],
      "execution_count": 0,
      "outputs": [
        {
          "output_type": "stream",
          "text": [
            "Found--> Name : Suwichai\n"
          ],
          "name": "stdout"
        }
      ]
    },
    {
      "cell_type": "markdown",
      "metadata": {
        "id": "UWjvw9QOfLO4",
        "colab_type": "text"
      },
      "source": [
        "### ค้นหาใน List และ Dictionary"
      ]
    },
    {
      "cell_type": "code",
      "metadata": {
        "id": "zVAxIRyreivd",
        "colab_type": "code",
        "outputId": "e45a8bd6-a108-4657-d6dd-4af1e6ddd08c",
        "colab": {
          "base_uri": "https://localhost:8080/",
          "height": 156
        }
      },
      "source": [
        "std_info = [{\n",
        "    'id' : 'std-001',\n",
        "    'Name' : 'Wichulada',\n",
        "    'Dep' : 'Information Technology',\n",
        "    'Height' : 160,\n",
        "    'Weight' : 45.5\n",
        "  },\n",
        "  {\n",
        "    'id' : 'std-002',\n",
        "    'Name' : 'Kaveepoj',\n",
        "    'Dep' : 'Computer Science',\n",
        "    'Height' : 185,\n",
        "    'Weight' : 105\n",
        "  }\n",
        "]\n",
        "\n",
        "print(type(std_info))\n",
        "print()\n",
        "\n",
        "for std in std_info:\n",
        "  cnt = 1\n",
        "  for key in std.keys():\n",
        "    if(cnt == 1):\n",
        "      print(key,':', std[key])\n",
        "      print(type(std))\n",
        "      cnt += 1\n",
        "      print()"
      ],
      "execution_count": 0,
      "outputs": [
        {
          "output_type": "stream",
          "text": [
            "<class 'list'>\n",
            "\n",
            "id : std-001\n",
            "<class 'dict'>\n",
            "\n",
            "id : std-002\n",
            "<class 'dict'>\n",
            "\n"
          ],
          "name": "stdout"
        }
      ]
    },
    {
      "cell_type": "markdown",
      "metadata": {
        "id": "MnltlKdHi9Th",
        "colab_type": "text"
      },
      "source": [
        "### แสดงวิธีการค้นหาในรูปแบบที่แตกต่างกัน"
      ]
    },
    {
      "cell_type": "code",
      "metadata": {
        "id": "tS_V7ddyfQlB",
        "colab_type": "code",
        "outputId": "e85be0d0-5f47-42ae-ff9d-d81e6d7f84ec",
        "colab": {
          "base_uri": "https://localhost:8080/",
          "height": 34
        }
      },
      "source": [
        "search = 'Kaveepoj'\n",
        "search_result = []\n",
        "for idx, std in enumerate(std_info):\n",
        "  for key in std.keys():\n",
        "    if(search in str(std[key])):\n",
        "      print('Found in index', idx, '-->', key, ':', std[key])\n",
        "      search_result.append(idx) "
      ],
      "execution_count": 0,
      "outputs": [
        {
          "output_type": "stream",
          "text": [
            "Found in index 1 --> Name : Kaveepoj\n"
          ],
          "name": "stdout"
        }
      ]
    },
    {
      "cell_type": "markdown",
      "metadata": {
        "id": "EtozYjuyjD_8",
        "colab_type": "text"
      },
      "source": [
        "### แสดงผลลัพธ์ที่ได้จากการค้นหา"
      ]
    },
    {
      "cell_type": "code",
      "metadata": {
        "id": "pn51MPAWiEHR",
        "colab_type": "code",
        "outputId": "42543917-867f-483a-d2ac-11fbab543211",
        "colab": {
          "base_uri": "https://localhost:8080/",
          "height": 121
        }
      },
      "source": [
        "import pprint\n",
        "\n",
        "pprint.pprint(std_info[search_result[0]], width=1)  "
      ],
      "execution_count": 0,
      "outputs": [
        {
          "output_type": "stream",
          "text": [
            "{'Dep': 'Computer '\n",
            "        'Science',\n",
            " 'Height': 185,\n",
            " 'Name': 'Kaveepoj',\n",
            " 'Weight': 105,\n",
            " 'id': 'std-002'}\n"
          ],
          "name": "stdout"
        }
      ]
    },
    {
      "cell_type": "code",
      "metadata": {
        "id": "AuyGrvEjiQFh",
        "colab_type": "code",
        "outputId": "a2c1c4b8-e934-4623-e0ae-db04940c3c8a",
        "colab": {
          "base_uri": "https://localhost:8080/",
          "height": 139
        }
      },
      "source": [
        "json_string = json.dumps(std_info[search_result[0]], indent=4)\n",
        "print(json_string)"
      ],
      "execution_count": 0,
      "outputs": [
        {
          "output_type": "stream",
          "text": [
            "{\n",
            "    \"id\": \"std-002\",\n",
            "    \"Name\": \"Kaveepoj\",\n",
            "    \"Dep\": \"Computer Science\",\n",
            "    \"Height\": 185,\n",
            "    \"Weight\": 105\n",
            "}\n"
          ],
          "name": "stdout"
        }
      ]
    },
    {
      "cell_type": "code",
      "metadata": {
        "id": "DOgYzAJ8ibOy",
        "colab_type": "code",
        "outputId": "91c8fcb0-318e-4400-e31c-8a518f79df9a",
        "colab": {
          "base_uri": "https://localhost:8080/",
          "height": 139
        }
      },
      "source": [
        "for sr in search_result:\n",
        "  json_string = json.dumps(std_info[sr], indent=4)\n",
        "  print(json_string)"
      ],
      "execution_count": 0,
      "outputs": [
        {
          "output_type": "stream",
          "text": [
            "{\n",
            "    \"id\": \"std-002\",\n",
            "    \"Name\": \"Kaveepoj\",\n",
            "    \"Dep\": \"Computer Science\",\n",
            "    \"Height\": 185,\n",
            "    \"Weight\": 105\n",
            "}\n"
          ],
          "name": "stdout"
        }
      ]
    },
    {
      "cell_type": "markdown",
      "metadata": {
        "id": "8jDDjwhVmsU_",
        "colab_type": "text"
      },
      "source": [
        "## การลบข้อมูลที่ค้นหาเจอ"
      ]
    },
    {
      "cell_type": "code",
      "metadata": {
        "id": "u2aMn5scmzHl",
        "colab_type": "code",
        "outputId": "ea9bc374-7062-4d36-c05d-0d1977c3b6ad",
        "colab": {
          "base_uri": "https://localhost:8080/",
          "height": 34
        }
      },
      "source": [
        "std_info = [{\n",
        "    'id' : 'std-001',\n",
        "    'Name' : 'Wichulada',\n",
        "    'Dep' : 'Information Technology',\n",
        "    'Height' : 160,\n",
        "    'Weight' : 45.5\n",
        "  },\n",
        "  {\n",
        "    'id' : 'std-002',\n",
        "    'Name' : 'Kaveepoj',\n",
        "    'Dep' : 'Computer Science',\n",
        "    'Height' : 185,\n",
        "    'Weight' : 105\n",
        "  }\n",
        "]\n",
        "\n",
        "# ค้นหาข้อมูล\n",
        "search = 'Kaveepoj'\n",
        "search_result = []\n",
        "for idx, std in enumerate(std_info):\n",
        "  for key in std.keys():\n",
        "    if(search in str(std[key])):\n",
        "      print('Found in index', idx, '-->', key, ':', std[key])\n",
        "      search_result.append(idx) "
      ],
      "execution_count": 0,
      "outputs": [
        {
          "output_type": "stream",
          "text": [
            "Found in index 1 --> Name : Kaveepoj\n"
          ],
          "name": "stdout"
        }
      ]
    },
    {
      "cell_type": "code",
      "metadata": {
        "id": "t_DKLKogm-3X",
        "colab_type": "code",
        "outputId": "52a52aff-77b7-4994-92b1-bfb6fc52d731",
        "colab": {
          "base_uri": "https://localhost:8080/",
          "height": 104
        }
      },
      "source": [
        "# ลบข้อมูลออกจาก List\n",
        "\n",
        "# เนื่องจาก std_info เป็นตัวแปรประเภท List จึงสามารถใช้คำสั่ง pop()ในการลบข้อมูลได้\n",
        "# โดย pop() จะต้องใช้ index ในการลบข้อมูล ซึ่งในกรณีนี้ใช้ std_info.pop(1) หมายถึง\n",
        "# ลบข้อมูล index ที่ 1 ออกจากตัวแปร std_info\n",
        "std_info.pop(1)"
      ],
      "execution_count": 0,
      "outputs": [
        {
          "output_type": "execute_result",
          "data": {
            "text/plain": [
              "{'Dep': 'Computer Science',\n",
              " 'Height': 185,\n",
              " 'Name': 'Kaveepoj',\n",
              " 'Weight': 105,\n",
              " 'id': 'std-002'}"
            ]
          },
          "metadata": {
            "tags": []
          },
          "execution_count": 226
        }
      ]
    },
    {
      "cell_type": "code",
      "metadata": {
        "id": "cirKX8aRnGpy",
        "colab_type": "code",
        "outputId": "45ae2438-d10f-4ce9-e277-dbc9c4e8793a",
        "colab": {
          "base_uri": "https://localhost:8080/",
          "height": 104
        }
      },
      "source": [
        "# แสดงข้อมูลหลังจากทำการลบ\n",
        "std_info"
      ],
      "execution_count": 0,
      "outputs": [
        {
          "output_type": "execute_result",
          "data": {
            "text/plain": [
              "[{'Dep': 'Information Technology',\n",
              "  'Height': 160,\n",
              "  'Name': 'Wichulada',\n",
              "  'Weight': 45.5,\n",
              "  'id': 'std-001'}]"
            ]
          },
          "metadata": {
            "tags": []
          },
          "execution_count": 229
        }
      ]
    },
    {
      "cell_type": "markdown",
      "metadata": {
        "id": "tfXbU3TekQd5",
        "colab_type": "text"
      },
      "source": [
        "## การบันทึก JSON ลงไฟล์"
      ]
    },
    {
      "cell_type": "code",
      "metadata": {
        "id": "1_LN5zO9kTlM",
        "colab_type": "code",
        "colab": {}
      },
      "source": [
        "std_info = [{\n",
        "    'id' : 'std-001',\n",
        "    'Name' : 'Wichulada',\n",
        "    'Dep' : 'Information Technology',\n",
        "    'Height' : 160,\n",
        "    'Weight' : 45.5\n",
        "  },\n",
        "  {\n",
        "    'id' : 'std-002',\n",
        "    'Name' : 'Kaveepoj',\n",
        "    'Dep' : 'Computer Science',\n",
        "    'Height' : 185,\n",
        "    'Weight' : 105\n",
        "  }\n",
        "]\n",
        "\n",
        "js_file = 'student_information.json'\n",
        "with open(js_file, 'w') as outfile:\n",
        "  json.dump(std_info, outfile)"
      ],
      "execution_count": 0,
      "outputs": []
    },
    {
      "cell_type": "markdown",
      "metadata": {
        "id": "YRrsTnWZkq8V",
        "colab_type": "text"
      },
      "source": [
        "## การอ่านไฟล์ JSON "
      ]
    },
    {
      "cell_type": "code",
      "metadata": {
        "id": "msQgNsA_kpGc",
        "colab_type": "code",
        "outputId": "b9f45a81-319e-40f1-9942-5df22591b2dc",
        "colab": {
          "base_uri": "https://localhost:8080/",
          "height": 312
        }
      },
      "source": [
        "js_file = 'student_information.json'\n",
        "with open(js_file, 'r') as json_file:\n",
        "  student_info =json.load(json_file)\n",
        "\n",
        "print(type(student_info))\n",
        "\n",
        "# แสดงข้อมูลจากตัวแปร\n",
        "json_string = json.dumps(student_info, indent=4)\n",
        "print(json_string)"
      ],
      "execution_count": 0,
      "outputs": [
        {
          "output_type": "stream",
          "text": [
            "<class 'list'>\n",
            "[\n",
            "    {\n",
            "        \"id\": \"std-001\",\n",
            "        \"Name\": \"Wichulada\",\n",
            "        \"Dep\": \"Information Technology\",\n",
            "        \"Height\": 160,\n",
            "        \"Weight\": 45.5\n",
            "    },\n",
            "    {\n",
            "        \"id\": \"std-002\",\n",
            "        \"Name\": \"Kaveepoj\",\n",
            "        \"Dep\": \"Computer Science\",\n",
            "        \"Height\": 185,\n",
            "        \"Weight\": 105\n",
            "    }\n",
            "]\n"
          ],
          "name": "stdout"
        }
      ]
    },
    {
      "cell_type": "markdown",
      "metadata": {
        "id": "POsmqBOB4atC",
        "colab_type": "text"
      },
      "source": [
        "# ใช้คำสั่ง help() เพื่อดูตัวอย่างการทำงานของคำสั่ง"
      ]
    },
    {
      "cell_type": "code",
      "metadata": {
        "id": "qWZyunwe2Ryo",
        "colab_type": "code",
        "outputId": "2bb61ebc-89a1-4129-b77b-e45566e36554",
        "colab": {
          "base_uri": "https://localhost:8080/",
          "height": 104
        }
      },
      "source": [
        "help(len)"
      ],
      "execution_count": 0,
      "outputs": [
        {
          "output_type": "stream",
          "text": [
            "Help on built-in function len in module builtins:\n",
            "\n",
            "len(obj, /)\n",
            "    Return the number of items in a container.\n",
            "\n"
          ],
          "name": "stdout"
        }
      ]
    },
    {
      "cell_type": "code",
      "metadata": {
        "id": "zIFKhy7H31-A",
        "colab_type": "code",
        "colab": {}
      },
      "source": [
        ""
      ],
      "execution_count": 0,
      "outputs": []
    }
  ]
}